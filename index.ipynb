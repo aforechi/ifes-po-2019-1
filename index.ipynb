{
 "cells": [
  {
   "cell_type": "markdown",
   "metadata": {},
   "source": [
    "# Cronograma de Aulas de Pesquisa Operacional\n",
    "\n",
    "| Data| Conteúdo | Assunto |\n",
    "| --- | --- | --- |\n",
    "|17/02| Programação Linear | [Introdução e Visão Geral da Abordagem de Modelagem da Pesquisa Operacional](aula-01-intro-po.ipynb) |\n",
    "|17/02| Programação Linear | [Revisão de Sistemas Lineares](aula-01-intro-sistemas.ipynb) |\n",
    "|24/02| Feriado de Carnaval | \n",
    "|02/03| Programação Linear | [Introdução à Programação Linear (Problema da Dieta)](aula-02-intro-pl-dieta.ipynb) |\n",
    "|09/03| Programação Linear | [Solucionando Problemas de Programação Linear: O Método Simplex](aula-02-intro-pl.ipynb) |\n",
    "|16/03| Programação Linear | Teoria do Método Simplex (ver slides) |\n",
    "|08/06| Programação Linear | [Teoria da Dualidade](aula-04-dualidade.ipynb) |\n",
    "|15/06| Programação Linear | [Análise de Sensibilidade](aula-05-sensibilidade.ipynb) |\n",
    "|06/07| Programação Linear Inteira | [Programação Inteira](aula-06-prog-inteira.ipynb) |\n",
    "|13/07| Avaliação 1: Programação Linear Inteira, Teoria da Dualidade e Análise de Sensibilidade | [Estudo de caso de alocação de incentivos para usuários e motoristas da Lyft](prova-01.ipynb) |\n",
    "|03/08| Programação Não-linear | [Programação Quadrática](aula-07-prog-quad.ipynb) |\n",
    "|10/08| Programação Não-linear | [Otimização de Portfólio](aula-08-otimizacao-portfolio.ipynb) |\n",
    "|07/09| Programação Dinâmica | [Programação Dinâmica](aula-09-prog-dinamica-troco.ipynb) |\n",
    "|14/09| Avaliação 2: Programação Não-linear e Inteira | [Otimização de Carteira de Ações da B3](prova-02.ipynb) |\n",
    "|05/10| Modelos de Rede | Problemas de [Transporte](aula-10-prob-transporte.ipynb) e de [Designação](aula-10-prob-designacao.ipynb) |\n",
    "|12/10| Modelos de Rede | Caminho Mais Curto e Árvore Geradora Mínima |\n",
    "|02/11| Modelos de Rede | Fluxo Máximo e Fluxo de Custo Mínimo |\n",
    "|09/11| Avaliação 3: Modelos de Rede |"
   ]
  },
  {
   "cell_type": "code",
   "execution_count": null,
   "metadata": {},
   "outputs": [],
   "source": []
  }
 ],
 "metadata": {
  "kernelspec": {
   "display_name": "Python 3",
   "language": "python",
   "name": "python3"
  },
  "language_info": {
   "codemirror_mode": {
    "name": "ipython",
    "version": 3
   },
   "file_extension": ".py",
   "mimetype": "text/x-python",
   "name": "python",
   "nbconvert_exporter": "python",
   "pygments_lexer": "ipython3",
   "version": "3.8.0"
  }
 },
 "nbformat": 4,
 "nbformat_minor": 4
}
