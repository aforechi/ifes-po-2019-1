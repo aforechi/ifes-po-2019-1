{
 "cells": [
  {
   "cell_type": "markdown",
   "metadata": {},
   "source": [
    "# Cronograma de Aulas de Pesquisa Operacional\n",
    "\n",
    "| Aula| Conteúdo | Assunto |\n",
    "| --- | --- | --- |\n",
    "|01| Pesquisa Operacional: Introdução | [Visão Geral da Abordagem de Modelagem da Pesquisa Operacional](aula-01-intro-po.ipynb) |\n",
    "|02| Programação Linear: Introdução à Programação Linear | [Método Gráfico](aula-02-intro-pl-grafico.ipynb) e [Forma Padrão](aula-02-intro-pl-padrao.ipynb) |\n",
    "|03| Programação Linear: Introdução à Programação Linear | [Revisão de Sistemas Lineares](aula-01-intro-sistemas.ipynb) e [o Método de Seleção de Bases](aula-02-intro-pl-bases.ipynb) |\n",
    "|04| Programação Linear: Solucionando Problemas de Programação Linear: | [Método Simplex](aula-02-intro-pl.ipynb) e [o Problema da Dieta de Stigler](aula-02-intro-pl-dieta.ipynb)|\n",
    "|05| Programação Linear: A Teoria do Método Simplex | Teoria do Método Simplex (ver slides 6 a 7) |\n",
    "|06| Programação Linear | [Teoria da Dualidade](aula-04-dualidade.ipynb) |\n",
    "|07| Programação Linear | [Análise de Sensibilidade](aula-05-sensibilidade.ipynb) |\n",
    "|08| Programação Linear Inteira | [Programação Inteira](aula-06-prog-inteira.ipynb) |\n",
    "|09| Programação Não-linear | [Programação Quadrática](aula-07-prog-quad.ipynb) |\n",
    "|10| Programação Não-linear | [Otimização de Portfólio](aula-08-otimizacao-portfolio.ipynb) |\n",
    "|11| Programação Dinâmica | [Programação Dinâmica](aula-09-prog-dinamica-troco.ipynb) |\n",
    "|12| Modelos de Rede | Problemas de [Transporte](aula-10-prob-transporte.ipynb) e de [Designação](aula-10-prob-designacao.ipynb) |\n",
    "|13| Modelos de Rede | [Caminho Mais Curto e Árvore Geradora Mínima](aula-11-shortest-path.ipynb) |\n",
    "|14| Modelos de Rede | [Fluxo Máximo e Fluxo de Custo Mínimo](aula-12-fluxo-rede.ipynb) |"
   ]
  },
  {
   "cell_type": "code",
   "execution_count": null,
   "metadata": {},
   "outputs": [],
   "source": []
  }
 ],
 "metadata": {
  "kernelspec": {
   "display_name": "Python 3",
   "language": "python",
   "name": "python3"
  },
  "language_info": {
   "codemirror_mode": {
    "name": "ipython",
    "version": 3
   },
   "file_extension": ".py",
   "mimetype": "text/x-python",
   "name": "python",
   "nbconvert_exporter": "python",
   "pygments_lexer": "ipython3",
   "version": "3.9.4"
  }
 },
 "nbformat": 4,
 "nbformat_minor": 4
}
