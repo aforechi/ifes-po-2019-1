{
 "cells": [
  {
   "cell_type": "markdown",
   "metadata": {},
   "source": [
    "# Cronograma de Aulas de Pesquisa Operacional\n",
    "\n",
    "| Data| Conteúdo | Assunto |\n",
    "| --- | --- | --- |\n",
    "|17/02| Programação Linear | [Introdução e Visão Geral da Abordagem de Modelagem da Pesquisa Operacional](aula-01-intro-po.ipynb) |\n",
    "|17/02| Programação Linear | [Revisão de Sistemas Lineares](aula-01-intro-sistemas.ipynb) |\n",
    "|24/02| Feriado de Carnaval | \n",
    "|02/03| Programação Linear | [Introdução à Programação Linear (Problema da Dieta)](aula-02-intro-pl-dieta.ipynb) |\n",
    "|09/03| Programação Linear | [Solucionando Problemas de Programação Linear: O Método Simplex](aula-02-intro-pl.ipynb) |\n",
    "|16/03| Programação Linear | Teoria do Método Simplex (ver slides) |\n",
    "|08/06| Programação Linear | [Teoria da Dualidade](aula-04-dualidade.ipynb) |\n",
    "|15/06| Programação Linear | Análise de Sensibilidade |\n",
    "|--/--| Programação Não-linear |\n",
    "|--/--| PROVA 1: Programação Linear |\n",
    "|--/--| Feriado de Tiradentes |\n",
    "|--/--| Programação Não-linear |\n",
    "|--/--| Programação Dinâmica |\n",
    "|--/--| Programação Inteira |\n",
    "|--/--| PROVA 2: Programação Não-linear, Dinâmica e Inteira |\n",
    "|--/--| Modelos de Rede | Problemas de Transporte e de Designação |\n",
    "|--/--| Modelos de Rede | Caminho Mais Curto e Árvore Geradora Mínima |\n",
    "|--/--| Modelos de Rede | Fluxo Máximo e Fluxo de Custo Mínimo |\n",
    "|--/--| Modelos de Rede | PERT/CPM |\n",
    "|--/--| PROVA 3: Modelos de Rede |"
   ]
  },
  {
   "cell_type": "code",
   "execution_count": null,
   "metadata": {},
   "outputs": [],
   "source": []
  }
 ],
 "metadata": {
  "kernelspec": {
   "display_name": "Python 3",
   "language": "python",
   "name": "python3"
  },
  "language_info": {
   "codemirror_mode": {
    "name": "ipython",
    "version": 3
   },
   "file_extension": ".py",
   "mimetype": "text/x-python",
   "name": "python",
   "nbconvert_exporter": "python",
   "pygments_lexer": "ipython3",
   "version": "3.8.0"
  }
 },
 "nbformat": 4,
 "nbformat_minor": 4
}
