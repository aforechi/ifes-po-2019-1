{
 "cells": [
  {
   "cell_type": "markdown",
   "metadata": {},
   "source": [
    "# Cronograma de Aulas de Pesquisa Operacional\n",
    "\n",
    "| Data| Conteúdo | Assunto |\n",
    "| --- | --- | --- |\n",
    "|30/06/2021| Programação Linear | [Introdução à Pesquisa Operacional](aula-01-intro-po.ipynb) |\n",
    "|30/06/2021| Programação Linear | [Revisão de Sistemas Lineares](aula-01-intro-sistemas.ipynb) |\n",
    "|07/07/2021| Programação Linear | [O Método de Seleção de Bases](aula-02-intro-pl-bases.ipynb) |\n",
    "|07/07/2021| Programação Linear | [O Problema da Dieta de Stigler](aula-02-intro-pl-dieta.ipynb) |\n",
    "|14/07/2021| Programação Linear | [O Método Simplex](aula-02-intro-pl.ipynb) |\n",
    "|21/07/2021| Programação Linear | Teoria do Método Simplex (ver slides) |\n",
    "|28/07/2021| Programação Linear | [Teoria da Dualidade](aula-04-dualidade.ipynb) |\n",
    "|04/08/2021| Programação Linear | [Análise de Sensibilidade](aula-05-sensibilidade.ipynb) |\n",
    "|11/08/2021| Programação Linear Inteira | [Programação Inteira](aula-06-prog-inteira.ipynb) |\n",
    "|18/08/2021| Avaliação 1: Programação Linear Inteira, Teoria da Dualidade e Análise de Sensibilidade |\n",
    "|25/08/2021| Programação Não-linear | [Programação Quadrática](aula-07-prog-quad.ipynb) |\n",
    "|01/09/2021| Programação Não-linear | [Otimização de Portfólio](aula-08-otimizacao-portfolio.ipynb) |\n",
    "|08/09/2021| Programação Dinâmica | [Programação Dinâmica](aula-09-prog-dinamica-troco.ipynb) |\n",
    "|15/09/2021| Avaliação 2: Programação Não-linear e Inteira | \n",
    "|22/09/2021| Modelos de Rede | Problemas de [Transporte](aula-10-prob-transporte.ipynb) e de [Designação](aula-10-prob-designacao.ipynb) |\n",
    "|29/09/2021| Modelos de Rede | Caminho Mais Curto e Árvore Geradora Mínima |\n",
    "|06/10/2021| Modelos de Rede | Fluxo Máximo e Fluxo de Custo Mínimo |\n",
    "|13/10/2021| Avaliação 3: Modelos de Rede |\n",
    "|20/10/2021| Avaliação Final: Programação Linear Inteira, Teoria da Dualidade, Análise de Sensibilidade, Programação Não-linear, Programação Linear Inteira, Modelos de Rede |"
   ]
  },
  {
   "cell_type": "code",
   "execution_count": null,
   "metadata": {},
   "outputs": [],
   "source": []
  }
 ],
 "metadata": {
  "kernelspec": {
   "display_name": "Python 3",
   "language": "python",
   "name": "python3"
  },
  "language_info": {
   "codemirror_mode": {
    "name": "ipython",
    "version": 3
   },
   "file_extension": ".py",
   "mimetype": "text/x-python",
   "name": "python",
   "nbconvert_exporter": "python",
   "pygments_lexer": "ipython3",
   "version": "3.9.4"
  }
 },
 "nbformat": 4,
 "nbformat_minor": 4
}
