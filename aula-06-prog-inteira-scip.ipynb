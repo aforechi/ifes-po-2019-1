{
 "cells": [
  {
   "cell_type": "code",
   "execution_count": 1,
   "metadata": {
    "slideshow": {
     "slide_type": "subslide"
    }
   },
   "outputs": [],
   "source": [
    "#include <iostream>\n",
    "\n",
    "#include \"setup.h\"\n",
    "#include \"ortools/linear_solver/linear_solver.h\"\n",
    "#include \"ortools/linear_solver/linear_solver.pb.h\"\n",
    "\n",
    "using namespace operations_research;\n",
    "\n",
    "const double infinity = MPSolver::infinity();"
   ]
  },
  {
   "cell_type": "code",
   "execution_count": 2,
   "metadata": {},
   "outputs": [
    {
     "name": "stdout",
     "output_type": "stream",
     "text": [
      "Number of variables = 2Number of constraints = 2Solution:\n",
      "Objective value = 23\n",
      "x = 3\n",
      "y = 2\n",
      "\n",
      "Advanced usage:\n",
      "Problem solved in 139 milliseconds\n",
      "Problem solved in 0 iterations\n",
      "Problem solved in 1 branch-and-bound nodes\n"
     ]
    }
   ],
   "source": [
    "{\n",
    "    MPSolver solver(\"simple_scip_program\", MPSolver::SCIP_MIXED_INTEGER_PROGRAMMING);\n",
    "\n",
    "    MPVariable* const x = solver.MakeIntVar(0.0, infinity, \"x\");\n",
    "    MPVariable* const y = solver.MakeIntVar(0.0, infinity, \"y\");\n",
    "\n",
    "    std::cout << \"Number of variables = \" << solver.NumVariables();\n",
    "    \n",
    "    // x + 7 * y <= 17.5.\n",
    "    MPConstraint* const c0 = solver.MakeRowConstraint(-infinity, 17.5, \"c0\");\n",
    "    c0->SetCoefficient(x, 1);\n",
    "    c0->SetCoefficient(y, 7);\n",
    "\n",
    "    // x <= 3.5.\n",
    "    MPConstraint* const c1 = solver.MakeRowConstraint(-infinity, 3.5, \"c1\");\n",
    "    c1->SetCoefficient(x, 1);\n",
    "    c1->SetCoefficient(y, 0);\n",
    "\n",
    "    std::cout << \"Number of constraints = \" << solver.NumConstraints();\n",
    "    \n",
    "    // Maximize x + 10 * y.\n",
    "    MPObjective* const objective = solver.MutableObjective();\n",
    "    objective->SetCoefficient(x, 1);\n",
    "    objective->SetCoefficient(y, 10);\n",
    "    objective->SetMaximization();\n",
    "    \n",
    "    const MPSolver::ResultStatus result_status = solver.Solve();\n",
    "    // Check that the problem has an optimal solution.\n",
    "    if (result_status != MPSolver::OPTIMAL) {\n",
    "         std::cout << \"The problem does not have an optimal solution!\";\n",
    "    }\n",
    "    \n",
    "    std::cout << \"Solution:\" << std::endl;\n",
    "    std::cout << \"Objective value = \" << objective->Value() << std::endl;\n",
    "    std::cout << \"x = \" << x->solution_value() << std::endl;\n",
    "    std::cout << \"y = \" << y->solution_value() << std::endl;\n",
    "\n",
    "    std::cout << \"\\nAdvanced usage:\" << std::endl;\n",
    "    std::cout << \"Problem solved in \" << solver.wall_time() << \" milliseconds\" << std::endl;\n",
    "    std::cout << \"Problem solved in \" << solver.iterations() << \" iterations\" << std::endl;\n",
    "    std::cout << \"Problem solved in \" << solver.nodes() << \" branch-and-bound nodes\" << std::endl;\n",
    "}"
   ]
  },
  {
   "cell_type": "code",
   "execution_count": 3,
   "metadata": {},
   "outputs": [
    {
     "name": "stdout",
     "output_type": "stream",
     "text": [
      "objective = 23\n",
      "x = 3\n",
      "y = 2\n"
     ]
    }
   ],
   "source": [
    "{\n",
    "    MPModelProto model_proto;\n",
    "    model_proto.set_name(\"Max_Example\");\n",
    "\n",
    "    // Create variables and objective function\n",
    "    MPVariableProto* x = model_proto.add_variable();\n",
    "    x->set_name(\"x\");  \n",
    "    x->set_lower_bound(0.0);\n",
    "    x->set_upper_bound(infinity);  \n",
    "    x->set_is_integer(true);      \n",
    "    x->set_objective_coefficient(1.0);\n",
    "    \n",
    "    MPVariableProto* y = model_proto.add_variable();\n",
    "    y->set_name(\"y\");  \n",
    "    y->set_lower_bound(0.0);\n",
    "    y->set_upper_bound(infinity);  \n",
    "    y->set_is_integer(true);      \n",
    "    y->set_objective_coefficient(10.0);\n",
    "    \n",
    "    // Maximize x + 10 * y.\n",
    "    model_proto.set_maximize(true);\n",
    "\n",
    "    // Create constraints\n",
    "    // x + 7 * y <= 17.5.\n",
    "    MPConstraintProto* c0 = model_proto.add_constraint();\n",
    "    c0->set_name(\"c0\");  \n",
    "    c0->set_lower_bound(-infinity);    \n",
    "    c0->set_upper_bound(17.5);\n",
    "    c0->add_var_index(0);\n",
    "    c0->add_coefficient(1);\n",
    "    c0->add_var_index(1);\n",
    "    c0->add_coefficient(7);\n",
    "\n",
    "    // x <= 3.5.\n",
    "    MPConstraintProto* c1 = model_proto.add_constraint();\n",
    "    c1->set_name(\"c1\");  \n",
    "    c1->set_lower_bound(-infinity);    \n",
    "    c1->set_upper_bound(3.5);\n",
    "    c1->add_var_index(0);\n",
    "    c1->add_coefficient(1);\n",
    "\n",
    "    MPModelRequest model_request;\n",
    "    *model_request.mutable_model() = model_proto;\n",
    "    model_request.set_solver_type(MPModelRequest::SCIP_MIXED_INTEGER_PROGRAMMING);\n",
    "\n",
    "    MPSolutionResponse solution_response;\n",
    "    MPSolver::SolveWithProto(model_request, &solution_response);\n",
    "\n",
    "    // The problem has an optimal solution.\n",
    "    CHECK_EQ(MPSOLVER_OPTIMAL, solution_response.status());\n",
    "\n",
    "    std::cout << \"objective = \" << solution_response.objective_value() << std::endl;\n",
    "    for (int j = 0; j < 2; ++j) {\n",
    "    std::cout << model_proto.variable(j).name() << \" = \"\n",
    "              << solution_response.variable_value(j) << std::endl;\n",
    "    }\n",
    "}"
   ]
  },
  {
   "cell_type": "code",
   "execution_count": null,
   "metadata": {},
   "outputs": [],
   "source": []
  }
 ],
 "metadata": {
  "kernelspec": {
   "display_name": "C++14",
   "language": "C++14",
   "name": "xcpp14"
  },
  "language_info": {
   "codemirror_mode": "text/x-c++src",
   "file_extension": ".cpp",
   "mimetype": "text/x-c++src",
   "name": "c++",
   "version": "14"
  }
 },
 "nbformat": 4,
 "nbformat_minor": 4
}
