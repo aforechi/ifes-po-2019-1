{
 "cells": [
  {
   "cell_type": "markdown",
   "metadata": {},
   "source": [
    "# O problema da dieta Stigler\n",
    "\n",
    "Nesta aula, veremos como resolver um problema clássico chamado dieta Stigler, nomeado em homenagem ao prêmio Nobel de Economia George Stigler, que calculou **uma dieta de custo mínimo que atenda as necessidades nutricionais básicas, dado um conjunto de alimentos**. Ele colocou isso como um exercício matemático, não como recomendações alimentares, embora a noção de calcular a nutrição ideal tenha entrado em voga recentemente."
   ]
  },
  {
   "cell_type": "code",
   "execution_count": 1,
   "metadata": {},
   "outputs": [],
   "source": [
    "#include <fstream>\n",
    "#include <string>\n",
    "#include <vector>"
   ]
  },
  {
   "cell_type": "markdown",
   "metadata": {},
   "source": [
    "A dieta Stigler determinava que esses **nutrientes** mínimos fossem atendidos para atender as necessidades **diárias** de um homem de 70 Kg:"
   ]
  },
  {
   "cell_type": "code",
   "execution_count": 2,
   "metadata": {},
   "outputs": [],
   "source": [
    "const std::vector<std::pair<std::string, double>> TabelaNutrientes {\n",
    "    {\"Calories (1000s)\",3.0},\n",
    "    {\"Protein (grams)\",70.0},\n",
    "    {\"Calcium (grams)\",0.8},\n",
    "    {\"Iron (mg)\",12.0},\n",
    "    {\"Vitamin A (1000 IU)\",5.0},\n",
    "    {\"Vitamin B1 (mg)\",1.8},\n",
    "    {\"Vitamin B2 (mg)\",2.7},\n",
    "    {\"Niacin (mg)\",18.0},\n",
    "    {\"Vitamin C (mg)\",75.0}\n",
    "};"
   ]
  },
  {
   "cell_type": "markdown",
   "metadata": {},
   "source": [
    "O conjunto de **alimentos** que Stigler avaliou foi um reflexo da época (1944). Os dados nutricionais abaixo são por dólar e não por unidade.\n",
    "\n",
    "    Portanto, o objetivo é determinar quanto de dinheiro (dólares) gastar por alimento."
   ]
  },
  {
   "cell_type": "code",
   "execution_count": 3,
   "metadata": {},
   "outputs": [],
   "source": [
    "const std::vector<std::pair<std::string, double>> TabelaAlimentos {\n",
    "    {\"Wheat Flour (Enriched) 10 lb.\", 36.0},\n",
    "    {\"Macaroni 1 lb.\", 14.1},\n",
    "    {\"Wheat Cereal (Enriched) 28 oz.\", 24.2},\n",
    "    {\"Corn Flakes 8 oz.\", 7.1},\n",
    "    {\"Corn Meal 1 lb.\", 4.6},\n",
    "    {\"Hominy Grits 24 oz.\", 8.5},\n",
    "    {\"Rice 1 lb.\", 7.5},\n",
    "    {\"Rolled Oats 1 lb.\", 7.1},\n",
    "    {\"White Bread (Enriched) 1 lb.\", 7.9},\n",
    "    {\"Whole Wheat Bread 1 lb.\", 9.1},\n",
    "    {\"Rye Bread 1 lb.\", 9.1},\n",
    "    {\"Pound Cake 1 lb.\", 24.8},\n",
    "    {\"Soda Crackers 1 lb.\", 15.1},\n",
    "    {\"Milk 1 qt.\", 6.1},\n",
    "    {\"Evaporated Milk (can) 14.5 oz.\", 6.7},\n",
    "    {\"Butter 1 lb.\", 30.8},\n",
    "    {\"Oleomargarine 1 lb.\", 16.1},\n",
    "    {\"Eggs 1 doz.\", 32.6},\n",
    "    {\"Cheese (Cheddar) 1 lb.\", 24.2},\n",
    "    {\"Cream 1/2 pt.\", 14.1},\n",
    "    {\"Peanut Butter 1 lb.\", 17.9},\n",
    "    {\"Mayonnaise 1/2 pt.\", 16.7},\n",
    "    {\"Crisco 1 lb.\", 20.3},\n",
    "    {\"Lard 1 lb.\", 9.8},\n",
    "    {\"Sirloin Steak 1 lb.\", 39.6},\n",
    "    {\"Round Steak 1 lb.\", 36.4},\n",
    "    {\"Rib Roast 1 lb.\", 29.2},\n",
    "    {\"Chuck Roast 1 lb.\", 22.6},\n",
    "    {\"Plate 1 lb.\", 14.6},\n",
    "    {\"Liver (Beef) 1 lb.\", 26.8},\n",
    "    {\"Leg of Lamb 1 lb.\", 27.6},\n",
    "    {\"Lamb Chops (Rib) 1 lb.\", 36.6},\n",
    "    {\"Pork Chops 1 lb.\", 30.7},\n",
    "    {\"Pork Loin Roast 1 lb.\", 24.2},\n",
    "    {\"Bacon 1 lb.\", 25.6},\n",
    "    {\"Ham, smoked 1 lb.\", 27.4},\n",
    "    {\"Salt Pork 1 lb.\", 16.0},\n",
    "    {\"Roasting Chicken 1 lb.\", 30.3},\n",
    "    {\"Veal Cutlets 1 lb.\", 42.3},\n",
    "    {\"Salmon, Pink (can) 16 oz.\", 13.0},\n",
    "    {\"Apples 1 lb.\", 4.4},\n",
    "    {\"Bananas 1 lb.\", 6.1},\n",
    "    {\"Lemons 1 doz.\", 26.0},\n",
    "    {\"Oranges 1 doz.\", 30.9},\n",
    "    {\"Green Beans 1 lb.\", 7.1},\n",
    "    {\"Cabbage 1 lb.\", 3.7},\n",
    "    {\"Carrots 1 bunch\", 4.7},\n",
    "    {\"Celery 1 stalk\", 7.3},\n",
    "    {\"Lettuce 1 head\", 8.2},\n",
    "    {\"Onions 1 lb.\", 3.6},\n",
    "    {\"Potatoes 15 lb.\", 34.0},\n",
    "    {\"Spinach 1 lb.\", 8.1},\n",
    "    {\"Sweet Potatoes 1 lb.\", 5.1},\n",
    "    {\"Peaches (can) No. 2 1/2\", 16.8},\n",
    "    {\"Pears (can) No. 2 1/2\", 20.4},\n",
    "    {\"Pineapple (can) No. 2 1/2\", 21.3},\n",
    "    {\"Asparagus (can) No. 2\", 27.7},\n",
    "    {\"Green Beans (can) No. 2\", 10},\n",
    "    {\"Pork and Beans (can) 16 oz.\", 7.1},\n",
    "    {\"Corn (can) No. 2\", 10.4},\n",
    "    {\"Peas (can) No. 2\", 13.8},\n",
    "    {\"Tomatoes (can) No. 2\", 8.6},\n",
    "    {\"Tomato Soup (can) 10 1/2 oz.\", 7.6},\n",
    "    {\"Peaches, Dried 1 lb.\", 15.7},\n",
    "    {\"Prunes, Dried 1 lb.\", 9.0},\n",
    "    {\"Raisins, Dried 15 oz.\", 9.4},\n",
    "    {\"Peas, Dried 1 lb.\", 7.9},\n",
    "    {\"Lima Beans, Dried 1 lb.\", 8.9},\n",
    "    {\"Navy Beans, Dried 1 lb.\", 5.9},\n",
    "    {\"Coffee 1 lb.\", 22.4},\n",
    "    {\"Tea 1/4 lb.\", 17.4},\n",
    "    {\"Cocoa 8 oz.\", 8.6},\n",
    "    {\"Chocolate 8 oz.\", 16.2},\n",
    "    {\"Sugar 10 lb.\", 51.7},\n",
    "    {\"Corn Syrup 24 oz.\", 13.7},\n",
    "    {\"Molasses 18 oz.\", 13.6},\n",
    "    {\"Strawberry Preserves 1 lb.\", 20.5}\n",
    "};"
   ]
  },
  {
   "cell_type": "code",
   "execution_count": 4,
   "metadata": {},
   "outputs": [
    {
     "data": {
      "text/plain": [
       "77"
      ]
     },
     "execution_count": 4,
     "metadata": {},
     "output_type": "execute_result"
    }
   ],
   "source": [
    "TabelaAlimentos.size()"
   ]
  },
  {
   "cell_type": "markdown",
   "metadata": {},
   "source": [
    "Como todos os nutrientes foram normalizados por preço, nosso objetivo é simplesmente minimizar a soma de alimentos.\n",
    "\n",
    "Em 1944, Stigler calculou a melhor solução que pôde manualmente, observando com tristeza:\n",
    "> \"... não parece haver nenhum método direto de encontrar o mínimo de uma função linear sujeita a condições lineares.\"\n",
    "\n",
    "Depois de sucessivas tentativas, Stigler encontrou a seguinte possível dieta:\n",
    "\n",
    "| Alimento | Quant. | Custo (dólares) | \n",
    "| ---      | ---    | ---:   | \n",
    "| Wheat Flour | 167,8 kg | 13,33 | \n",
    "| Evaporated Milk | 57 latas |  3,84 | \n",
    "| Cabbage | 50,3 kg | 4,11 | \n",
    "| Spinach | 10,4 kg | 1,85 | \n",
    "| Dried Navy Beans | 129,3 kg | 16,80 | \n",
    "| Total | | 39,93 | \n",
    "\n",
    "Fonte: [http://en.wikipedia.org/wiki/Stigler_diet](http://en.wikipedia.org/wiki/Stigler_diet)\n",
    "\n",
    "    Ele encontrou uma dieta que custava 39,93 dólares por ano, em 1939."
   ]
  },
  {
   "cell_type": "code",
   "execution_count": 5,
   "metadata": {},
   "outputs": [],
   "source": [
    "const std::vector<std::vector<double>> TabelaNutricional {\n",
    "    { 44.7, 1411.0, 2.0, 365.0, 0.0, 55.4, 33.3, 441.0, 0.0},\n",
    "    { 11.6, 418.0, 0.7, 54.0, 0.0, 3.2, 1.9, 68.0, 0.0},\n",
    "    { 11.8, 377.0, 14.4, 175.0, 0.0, 14.4, 8.8, 114.0, 0.0},\n",
    "    { 11.4, 252.0, 0.1, 56.0, 0.0, 13.5, 2.3, 68.0, 0.0},\n",
    "    { 36.0, 897.0, 1.7, 99.0, 30.9, 17.4, 7.9, 106, 0.0},\n",
    "    { 28.6, 680.0, 0.8, 80.0, 0.0, 10.6, 1.6, 110.0, 0.0},\n",
    "    { 21.2, 460.0, 0.6, 41.0, 0.0, 2.0, 4.8, 60.0, 0.0},\n",
    "    { 25.3, 907.0, 5.1, 341.0, 0.0, 37.1, 8.9, 64.0, 0.0},\n",
    "    { 15.0, 488.0, 2.5, 115.0, 0.0, 13.8, 8.5, 126.0, 0.0},\n",
    "    { 12.2, 484.0, 2.7, 125.0, 0.0, 13.9, 6.4, 160.0, 0.0},\n",
    "    { 12.4, 439.0, 1.1, 82.0, 0.0, 9.9, 3.0, 66.0, 0.0},\n",
    "    { 8.0, 130.0, 0.4, 31.0, 18.9, 2.8, 3.0, 17.0, 0.0},\n",
    "    { 12.5, 288.0, 0.5, 50, 0, 0, 0, 0, 0},\n",
    "    { 11.0, 310.0, 10.5, 18, 16.8, 4, 16, 7, 177},\n",
    "    { 8.4, 422.0, 15.1, 9, 26, 3, 23.5, 11, 60},\n",
    "    { 10.8, 9.0, 0.2, 3, 44.2, 0, 0.2, 2, 0},\n",
    "    { 20.6, 17.0, 0.6, 6, 55.8, 0.2, 0, 0, 0},\n",
    "    { 2.9, 238.0, 1.0, 52, 18.6, 2.8, 6.5, 1, 0},\n",
    "    { 7.4, 448.0, 16.4, 19, 28.1, 0.8, 10.3, 4, 0},\n",
    "    { 3.5, 49.0, 1.7, 3, 16.9, 0.6, 2.5, 0, 17},\n",
    "    { 15.7, 661.0, 1.0, 48, 0, 9.6, 8.1, 471, 0},\n",
    "    { 8.6, 18.0, 0.2, 8, 2.7, 0.4, 0.5, 0, 0},\n",
    "    { 20.1, 0.0, 0.0, 0.0, 0.0, 0.0, 0.0, 0.0, 0.0},\n",
    "    { 41.7, 0.0, 0.0, 0.0, 0.2, 0.0, 0.5, 5.0, 0.0},\n",
    "    { 2.9, 166.0, 0.1, 34, 0.2, 2.1, 2.9, 69, 0},\n",
    "    { 2.2, 214.0, 0.1, 32, 0.4, 2.5, 2.4, 87, 0},\n",
    "    { 3.4, 213.0, 0.1, 33, 0, 0, 2, 0, 0},\n",
    "    { 3.6, 309.0, 0.2, 46, 0.4, 1, 4, 120, 0},\n",
    "    { 8.5, 404.0, 0.2, 62, 0, 0.9, 0, 0, 0},\n",
    "    { 2.2, 333.0, 0.2, 139, 169.2, 6.4, 50.8, 316, 525},\n",
    "    { 3.1, 245.0, 0.1, 20, 0, 2.8, 3.9, 86, 0},\n",
    "    { 3.3, 140.0, 0.1, 15, 0, 1.7, 2.7, 54, 0},\n",
    "    { 3.5, 196.0, 0.2, 30, 0, 17.4, 2.7, 60, 0},\n",
    "    { 4.4, 249.0, 0.3, 37, 0, 18.2, 3.6, 79, 0},\n",
    "    { 10.4, 152.0, 0.2, 23, 0, 1.8, 1.8, 71, 0},\n",
    "    { 6.7, 212.0, 0.2, 31, 0, 9.9, 3.3, 50, 0},\n",
    "    { 18.8, 164.0, 0.1, 26, 0, 1.4, 1.8, 0, 0},\n",
    "    { 1.8, 184.0, 0.1, 30, 0.1, 0.9, 1.8, 68, 46},\n",
    "    { 1.7, 156.0, 0.1, 24, 0, 1.4, 2.4, 57, 0},\n",
    "    { 5.8, 705.0, 6.8, 45, 3.5, 1, 4.9, 209, 0},\n",
    "    { 5.8, 27.0, 0.5, 36, 7.3, 3.6, 2.7, 5, 544},\n",
    "    { 4.9, 60.0, 0.4, 30, 17.4, 2.5, 3.5, 28, 498},\n",
    "    { 1.0, 21.0, 0.5, 14, 0, 0.5, 0, 4, 952},\n",
    "    { 2.2, 40.0, 1.1, 18, 11.1, 3.6, 1.3, 10, 1998},\n",
    "    { 2.4, 138.0, 3.7, 80, 69, 4.3, 5.8, 37, 862},\n",
    "    { 2.6, 125.0, 4.0, 36, 7.2, 9, 4.5, 26, 5369},\n",
    "    { 2.7, 73.0, 2.8, 43, 188.5, 6.1, 4.3, 89, 608},\n",
    "    { 0.9, 51.0, 3.0, 23, 0.9, 1.4, 1.4, 9, 313},\n",
    "    { 0.4, 27.0, 1.1, 22, 112.4, 1.8, 3.4, 11, 449},\n",
    "    { 5.8, 166.0, 3.8, 59, 16.6, 4.7, 5.9, 21, 1184},\n",
    "    { 14.3, 336.0, 1.8, 118, 6.7, 29.4, 7.1, 198, 2522},\n",
    "    { 1.1, 106.0, 0.0, 138, 918.4, 5.7, 13.8, 33, 2755},\n",
    "    { 9.6, 138.0, 2.7, 54, 290.7, 8.4, 5.4, 83, 1912},\n",
    "    { 3.7, 20.0, 0.4, 10, 21.5, 0.5, 1, 31, 196},\n",
    "    { 3.0, 8.0, 0.3, 8, 0.8, 0.8, 0.8, 5, 81},\n",
    "    { 2.4, 16.0, 0.4, 8, 2, 2.8, 0.8, 7, 399},\n",
    "    { 0.4, 33.0, 0.3, 12, 16.3, 1.4, 2.1, 17, 272},\n",
    "    { 1.0, 54.0, 2.0, 65, 53.9, 1.6, 4.3, 32, 431},\n",
    "    { 7.5, 364.0, 4.0, 134, 3.5, 8.3, 7.7, 56, 0},\n",
    "    { 5.2, 136.0, 0.2, 16, 12, 1.6, 2.7, 42, 218},\n",
    "    { 2.3, 136.0, 0.6, 45, 34.9, 4.9, 2.5, 37, 370},\n",
    "    { 1.3, 63.0, 0.7, 38, 53.2, 3.4, 2.5, 36, 1253},\n",
    "    { 1.6, 71.0, 0.6, 43, 57.9, 3.5, 2.4, 67, 862},\n",
    "    { 8.5, 87.0, 1.7, 173, 86.8, 1.2, 4.3, 55, 57},\n",
    "    { 12.8, 99.0, 2.5, 154, 85.7, 3.9, 4.3, 65, 257},\n",
    "    { 13.5, 104.0, 2.5, 136, 4.5, 6.3, 1.4, 24, 136},\n",
    "    { 20.0, 1367.0, 4.2, 345, 2.9, 28.7, 18.4, 162, 0},\n",
    "    { 17.4, 1055.0, 3.7, 459, 5.1, 26.9, 38.2, 93, 0},\n",
    "    { 26.9, 1691.0, 11.4, 792, 0, 38.4, 24.6, 217, 0},\n",
    "    { 0.0, 0.0, 0.0, 0.0, 0.0, 4.0, 5.1, 50.0, 0.0},\n",
    "    { 0.0, 0.0, 0.0, 0.0, 0.0, 0.0, 2.3, 42.0, 0.0},\n",
    "    { 8.7, 237.0, 3.0, 72, 0, 2, 11.9, 40, 0},\n",
    "    { 8.0, 77.0, 1.3, 39, 0, 0.9, 3.4, 14, 0},\n",
    "    { 34.9, 0.0, 0.0, 0.0, 0.0, 0.0, 0.0, 0.0, 0.0},\n",
    "    { 14.7, 0.0, 0.5, 74.0, 0.0, 0.0, 0.0, 5.0, 0.0},\n",
    "    { 9.0, 0.0, 10.3, 244.0, 0.0, 1.9, 7.5, 146.0, 0.0},\n",
    "    { 6.4, 11.0, 0.4, 7.0, 0.2, 0.2, 0.4, 3.0, 0.0}\n",
    "};"
   ]
  },
  {
   "cell_type": "markdown",
   "metadata": {},
   "source": [
    "Em 1947, Jack Laderman usou o método simplex (então, uma invenção recente!) Para determinar a solução ideal. \n",
    "\n",
    "    Foram necessários 120 dias-homem de nove funcionários em calculadoras de mesa para chegar à resposta.\n"
   ]
  },
  {
   "cell_type": "markdown",
   "metadata": {},
   "source": [
    "## Dados do Modelo\n",
    "\n",
    "Os dados de um modelo são conhecidos a priori, ou seja, antes de resolver o modelo.\n",
    "\n",
    "- N: Número de alimentos considerados\n",
    "- M: Número de nutrientes considerados\n",
    "- $C_j$: Custo por unidade do alimento j; j=1,...,N\n",
    "- $Min_i$: Necessidade mínima do nutriente i; i=1,...,M\n",
    "- $a_{ij}$: quantidade do nutriente i por unidade do alimento j; i=1,...,M, j=1,...,N\n"
   ]
  },
  {
   "cell_type": "markdown",
   "metadata": {},
   "source": [
    "## Variáveis do Modelo\n",
    "\n",
    "As variáveis de um modelo representam as decisões a serem tomadas, seus valores só serão conhecidos após a resolução do modelo.\n",
    "\n",
    "- $x_j$: Quantidade do alimento j que deve ser incluída na dieta; j=1,...,N\n"
   ]
  },
  {
   "cell_type": "markdown",
   "metadata": {},
   "source": [
    "## Formulação do Modelo\n",
    "\n",
    "A formulação é o sistema de equações/inequações montado sobre os dados e as variáveis e que deve\n",
    "ser resolvido matematicamente.\n",
    "\n",
    "<img src=\"img/Picture14.png\" width=\"50%\">\n",
    "\n"
   ]
  },
  {
   "cell_type": "markdown",
   "metadata": {
    "slideshow": {
     "slide_type": "slide"
    }
   },
   "source": [
    "**0. Incluir as bibliotecas**"
   ]
  },
  {
   "cell_type": "code",
   "execution_count": 6,
   "metadata": {},
   "outputs": [],
   "source": [
    "#include \"setup.h\"\n",
    "#include \"ortools/linear_solver/linear_solver.h\"\n",
    "#include \"ortools/linear_solver/linear_solver.pb.h\"\n",
    "\n",
    "using namespace operations_research;"
   ]
  },
  {
   "cell_type": "markdown",
   "metadata": {
    "slideshow": {
     "slide_type": "slide"
    }
   },
   "source": [
    "**1. Escolha o solver.**"
   ]
  },
  {
   "cell_type": "code",
   "execution_count": 7,
   "metadata": {},
   "outputs": [],
   "source": [
    "MPSolver solver(\"Aula2\", MPSolver::GLOP_LINEAR_PROGRAMMING);"
   ]
  },
  {
   "cell_type": "markdown",
   "metadata": {},
   "source": [
    "**2. Crie as variáveis**\n",
    "\n",
    "- O método MakeNumVar cria uma variável, $x[j]$, para cada linha da tabela de alimentos. \n",
    "\n",
    "    Como mencionado anteriormente, os dados nutricionais são por dólar; portanto, $x[j]$ é a quantidade de dinheiro para gastar em cada alimento j."
   ]
  },
  {
   "cell_type": "code",
   "execution_count": 8,
   "metadata": {},
   "outputs": [],
   "source": [
    "auto N = TabelaAlimentos.size();\n",
    "std::vector<MPVariable*> x(N);\n",
    "for (int j=0; j < N; j++) \n",
    "    x[j] = solver.MakeNumVar(0.0, 1, TabelaAlimentos[j].first);"
   ]
  },
  {
   "cell_type": "code",
   "execution_count": 9,
   "metadata": {},
   "outputs": [
    {
     "data": {
      "text/plain": [
       "77"
      ]
     },
     "execution_count": 9,
     "metadata": {},
     "output_type": "execute_result"
    }
   ],
   "source": [
    "N"
   ]
  },
  {
   "cell_type": "markdown",
   "metadata": {},
   "source": [
    "**3. Defina as restrições**\n",
    "\n",
    "- As restrições para a dieta Stigler exigem que a quantidade total de nutrientes fornecidos por todos os alimentos seja pelo menos o requisito mínimo para cada nutriente. \n",
    "\n",
    "- Em seguida, escrevemos essas restrições como desigualdades envolvendo os dados e nutrientes das matrizes e as variáveis de decisão $x[j]$.\n",
    "\n",
    "- Primeiro, a quantidade de nutriente i fornecida pelos alimentos j por dólar é definida nas restrições nutricionais $a[i]$. Considerando que a quantidade de dinheiro a ser gasto com o alimento j é $x[j]$, a quantidade de nutriente fornecida pelo alimento j é $x[j]\\times TabelaNutricional[j][i]$.\n",
    "\n",
    "- Finalmente, como o requisito mínimo para o nutriente i está em TabelaNutrientes[i], podemos escrever a restrição i da seguinte maneira:\n",
    "\\begin{equation}\n",
    "\\sum_{j} TabelaNutricional[j][i] \\times TabelaAlimentos[j] \\ge TabelaNutrientes[i]\n",
    "\\end{equation}\n",
    "\n",
    "- Dessa forma criamos uma restrição na qual uma combinação linear das variáveis alimento $x[j]$ e sua $TabelaNutricional[j][i]$ é maior ou igual ao requisito minimo de cada nutriente i da tabela de nutrientes. Os coeficientes da expressão linear são definidos pelo método SetCoefficient."
   ]
  },
  {
   "cell_type": "code",
   "execution_count": 10,
   "metadata": {},
   "outputs": [],
   "source": [
    "auto M = TabelaNutrientes.size();\n",
    "std::vector<MPConstraint*> a(M);\n",
    "for (int i=0; i < M; i++) {\n",
    "    a[i] = solver.MakeRowConstraint(TabelaNutrientes[i].second, solver.infinity());// >=\n",
    "    for (int j=0; j < N; j++)\n",
    "        a[i]->SetCoefficient(x[j], TabelaNutricional[j][i]);\n",
    "}"
   ]
  },
  {
   "cell_type": "markdown",
   "metadata": {},
   "source": [
    "**4. Defina a função objetivo:** \n",
    "\n",
    "    Minimizar a soma do preço normalizado dos alimentos.\n",
    "    \n",
    "- A função objetivo é o custo total dos alimentos, que é a soma das quantidades de alimentos em $x[j]$.\n",
    "\n",
    "- O método SetCoefficient define os coeficientes da função objetivo, que são todos 1 neste caso. \n",
    "\n",
    "- Finalmente, o SetMinimization declara que este é um problema de minimização."
   ]
  },
  {
   "cell_type": "code",
   "execution_count": 11,
   "metadata": {},
   "outputs": [],
   "source": [
    "auto const objective = solver.MutableObjective();\n",
    "for(int j=0; j < N; j++) \n",
    "    objective->SetCoefficient(x[j], 1);\n",
    "objective->SetMinimization();"
   ]
  },
  {
   "cell_type": "markdown",
   "metadata": {
    "slideshow": {
     "slide_type": "slide"
    }
   },
   "source": [
    "**5. Execute o solver e exiba os resultados.**\n",
    "\n",
    "    Modifique o algoritmo abaixo para exibir a quantidade de nutrientes[i] calculada e verificar se atende os requisitos mínimos nutricionais."
   ]
  },
  {
   "cell_type": "code",
   "execution_count": 12,
   "metadata": {},
   "outputs": [
    {
     "name": "stdout",
     "output_type": "stream",
     "text": [
      "Wheat Flour (Enriched) 10 lb. = 0.0295191\n",
      "Liver (Beef) 1 lb. = 0.00189256\n",
      "Cabbage 1 lb. = 0.0112144\n",
      "Spinach 1 lb. = 0.00500766\n",
      "Navy Beans, Dried 1 lb. = 0.0610286\n",
      "Optimal annual price: 39.6617\n"
     ]
    }
   ],
   "source": [
    "auto status = solver.Solve();\n",
    "\n",
    "if (status == MPSolver::OPTIMAL) {\n",
    "    // Display the amounts (in dollars) to purchase of each food.\n",
    "    auto price = 0.0;\n",
    "\n",
    "    std::vector<double> nutrientes(M);\n",
    "    for (int j=0; j < N; j++){\n",
    "        price += x[j]->solution_value();\n",
    "\n",
    "        for (int i = 0; i < M; i++)\n",
    "            nutrientes[i] += TabelaNutricional[j][i] * x[j]->solution_value();\n",
    "\n",
    "        if (x[j]->solution_value() > 0.0)\n",
    "            std::cout << TabelaAlimentos[j].first << \" = \" << x[j]->solution_value() << std::endl;\n",
    "    }\n",
    "    std::cout << \"Optimal annual price: \" << (365.0 * price) << std::endl;\n",
    "} \n",
    "else if (status == MPSolver::FEASIBLE) // No optimal solution was found.\n",
    "  std::cout << \"A potentially suboptimal solution was found.\";\n",
    "else\n",
    "  std::cout << \"The solver could not solve the problem.\";\n"
   ]
  },
  {
   "cell_type": "markdown",
   "metadata": {},
   "source": [
    "### Ingredientes da Dieta Ótima:\n",
    "- Wheat Flour (Enriched) = 0.029519\n",
    "- Liver (Beef) = 0.001893\n",
    "- Cabbage = 0.011214\n",
    "- Spinach = 0.005008\n",
    "- Navy Beans, Dried = 0.061029\n",
    "\n",
    "Preço ótimo anual em dólares: 39.66\n",
    "\n",
    "**Segue a receita desta refeição \"ótima\" proposta pelo Chef do Google Anthony Marco.**\n",
    "\n",
    "    Ela consiste em fígado de bezerro empanado com farinha, servido sobre um purê de feijão com repolho refogado e molho pesto de espinafre.\n",
    "    \n",
    "Fonte: [Google AI Blog: Sudoku, Linear Optimization, and the Ten Cent Diet](http://googleresearch.blogspot.com/2014/09/sudoku-linear-optimization-and-ten-cent.html)"
   ]
  },
  {
   "cell_type": "markdown",
   "metadata": {},
   "source": [
    "## Um exercício com M=2 e N=4\n",
    "\n",
    "Uma nutricionista de empresa quer montar porções de salada de frutas que contenham pelo menos:\n",
    "- 3000 UI de vitamina A e\n",
    "- 50 mg de vitamina C\n",
    "\n",
    "As frutas disponíveis no dia são: \n",
    "- abacaxi, banana, maçã e melancia.\n",
    "\n",
    "**Encontre a solução ótima:** \n",
    "    \n",
    "    88g de maçã e 59g de melância. \n",
    "    \n",
    "**Com custo:** \n",
    "\n",
    "    R$ 0,15 / porção"
   ]
  },
  {
   "cell_type": "markdown",
   "metadata": {},
   "source": [
    "**Considere a seguinte tabela de custo por kg e quantidade de nutrientes**\n",
    "\n",
    "| restrição | abacaxi | banana | maçã | melância |\n",
    "| :---      | ---:    | ---:   | ---: | ---:     |\n",
    "| Reais | 1,50 | 2,00 | 3,00 | 0,80 |\n",
    "| Vitamina A | 7000 | 8000 | 30000 | 6000 |\n",
    "| Vitamica C | 550 | 300 | 400 | 250 |"
   ]
  },
  {
   "cell_type": "code",
   "execution_count": null,
   "metadata": {},
   "outputs": [],
   "source": []
  },
  {
   "cell_type": "markdown",
   "metadata": {},
   "source": [
    "## Todo modelo de PO deve ser criticado antes de ser adotado!\n",
    "\n",
    "- Suponha que vc é o gerente de uma granja de frangos e vai usar o modelo do problema da dieta para determinar a composição ótima da ração nesse mês.\n",
    "\n",
    "- Você analisa todos os 73 possíveis ingredientes disponíveis no mercado com respeito a todos os 40 nutrientes considerados importantes para as aves.\n",
    "\n",
    "- Mesmo assim, que críticas ainda poderiam ser levantadas sobre a validade do seu modelo?\n",
    "\n",
    "- Em outras palavras, que elementos do sistema real ignorados no modelo poderiam fazer com que a solução ótima do modelo fique distante da solução ótima real?\n"
   ]
  },
  {
   "cell_type": "markdown",
   "metadata": {},
   "source": [
    "## Hipóteses de modelos de PL que podem levar a críticas\n",
    "\n",
    "- **Proporcionalidade:** o efeito de uma variável na função objetivo e nas restrições é proporcional a seu valor.\n",
    "\n",
    "- **Aditividade:** o efeito total de duas (ou mais) variáveis é a soma dos seus efeitos individuais.\n",
    "\n",
    "- **Divisibilidade:** as variáveis podem assumir valores fracionários. \n"
   ]
  },
  {
   "cell_type": "markdown",
   "metadata": {},
   "source": [
    "**Crítica:** os ingredientes só são vendidos em sacas de 60kg\n",
    "\n",
    "**Ações:**\n",
    "\n",
    "    A granja é grande e as compras são da ordem de dezenas de toneladas? \n",
    "    \n",
    "    Sim => Manter o modelo como está\n",
    "    \n",
    "    Não, a granja é pequena e as compras são da ordem de centenas de quilos.\n",
    "    \n",
    "    O excesso comprado em um mês pode ser estocado para o seguinte? \n",
    "    \n",
    "    Sim => Manter o modelo\n",
    "    \n",
    "    Não, os ingredientes são perecíveis => Transformar em um modelo de PI\n",
    "    \n",
    "**É possível que surjam críticas relevantes que não tem como ser rebatidas ou facilmente contornadas.**\n",
    "\n",
    "**Nesses casos pode ser preciso repensar todo o modelo.**\n"
   ]
  },
  {
   "cell_type": "markdown",
   "metadata": {},
   "source": [
    "\n"
   ]
  }
 ],
 "metadata": {
  "kernelspec": {
   "display_name": "C++14",
   "language": "C++14",
   "name": "xcpp14"
  },
  "language_info": {
   "codemirror_mode": "text/x-c++src",
   "file_extension": ".cpp",
   "mimetype": "text/x-c++src",
   "name": "c++",
   "version": "14"
  }
 },
 "nbformat": 4,
 "nbformat_minor": 4
}
