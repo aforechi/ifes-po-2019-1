{
 "cells": [
  {
   "cell_type": "code",
   "execution_count": 1,
   "metadata": {},
   "outputs": [],
   "source": [
    "from __future__ import print_function\n",
    "from ortools.linear_solver import pywraplp"
   ]
  },
  {
   "cell_type": "code",
   "execution_count": 2,
   "metadata": {},
   "outputs": [
    {
     "name": "stdout",
     "output_type": "stream",
     "text": [
      "Solution:\n",
      "x =  1.0\n",
      "y =  2.0\n"
     ]
    }
   ],
   "source": [
    "solver = pywraplp.Solver('SolveSimpleSystem', pywraplp.Solver.GLOP_LINEAR_PROGRAMMING)\n",
    "\n",
    "# Create the variables x and y.\n",
    "x = solver.NumVar(0, 1, 'x')\n",
    "y = solver.NumVar(0, 2, 'y')\n",
    "\n",
    "# Create the objective function, x + y.\n",
    "objective = solver.Objective()\n",
    "objective.SetCoefficient(x, 1)\n",
    "objective.SetCoefficient(y, 1)\n",
    "objective.SetMaximization()\n",
    "\n",
    "# Call the solver and display the results.\n",
    "solver.Solve()\n",
    "print('Solution:')\n",
    "print('x = ', x.solution_value())\n",
    "print('y = ', y.solution_value())"
   ]
  },
  {
   "cell_type": "code",
   "execution_count": null,
   "metadata": {},
   "outputs": [],
   "source": []
  }
 ],
 "metadata": {
  "kernelspec": {
   "display_name": "Python 3",
   "language": "python",
   "name": "python3"
  },
  "language_info": {
   "codemirror_mode": {
    "name": "ipython",
    "version": 3
   },
   "file_extension": ".py",
   "mimetype": "text/x-python",
   "name": "python",
   "nbconvert_exporter": "python",
   "pygments_lexer": "ipython3",
   "version": "3.6.4"
  }
 },
 "nbformat": 4,
 "nbformat_minor": 2
}
