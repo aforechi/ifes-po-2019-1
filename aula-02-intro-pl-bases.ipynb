{
 "cells": [
  {
   "cell_type": "markdown",
   "metadata": {
    "slideshow": {
     "slide_type": "slide"
    },
    "tags": []
   },
   "source": [
    "# Otimização Linear: Método de Seleção de Bases\n",
    "\n",
    "As restrições de um problema linear na forma padrão definem um sistema linear $Ax = b$, com $A_{m,n}$ e $m \\ge n$.\n",
    "\n",
    "O complicador é a existência das restrições de não-negatividade $x \\ge 0$\n"
   ]
  },
  {
   "cell_type": "markdown",
   "metadata": {
    "slideshow": {
     "slide_type": "slide"
    },
    "tags": []
   },
   "source": [
    "## Definindo bases\n",
    "\n",
    "- Assuma que posto(A) = m (as equações linearmente dependentes podem ser detectadas e eliminadas pelo método de Gauss-Jordan)\n",
    "\n",
    "- Pode-se achar soluções para $Ax = b$ da seguinte forma:\n",
    "\n",
    "1. Selecione m colunas linearmente independentes de A (não necessariamente contíguas)\n",
    "\n",
    "2. A matriz $m \\times m$ formada será chamada de base $B$. \n",
    "> As variáveis associadas a $B$ são ditas básicas e definem o vetor coluna $x_B$ de dimensões $m \\times 1$ .\n",
    "\n",
    "3. As demais colunas formam uma matriz $m \\times (n-m)$  chamada de $N$.\n",
    "> As variáveis associadas são ditas não-básicas e definem o vetor coluna $x_N$ de dimensões $(n-m) \\times 1$ .\n"
   ]
  },
  {
   "cell_type": "markdown",
   "metadata": {
    "slideshow": {
     "slide_type": "slide"
    },
    "tags": []
   },
   "source": [
    "## Exemplo: Problema de Mix de Produção\n",
    "\n",
    "<img src=\"img/Picture8.png\" width=\"100%\">"
   ]
  },
  {
   "cell_type": "markdown",
   "metadata": {
    "slideshow": {
     "slide_type": "slide"
    },
    "tags": []
   },
   "source": [
    "## Exemplo: Problema de Mix de Produção\n",
    "\n",
    "<img src=\"img/Picture8.png\" width=\"100%\">\n",
    "\n",
    "Maximizar $z = 4,0 x_{mad} + 6,0 x_{al}$\n",
    "\n",
    "Sujeito a:\n",
    "\\begin{equation}\n",
    "1,5 x_{mad} + 4,0 x_{al} \\le 24\\\\\n",
    "3,0 x_{mad} + 1,5 x_{al} \\le 21\\\\\n",
    "1,0 x_{mad} + 1,0 x_{al} \\le 8\\\\\n",
    "x_{mad} , x_{al} \\ge 0\n",
    "\\end{equation}\n"
   ]
  },
  {
   "cell_type": "markdown",
   "metadata": {
    "slideshow": {
     "slide_type": "slide"
    },
    "tags": []
   },
   "source": [
    "## Exemplo: Problema de Mix de Produção\n",
    "\n",
    "<img src=\"img/Picture8.png\" width=\"100%\">\n",
    "\n",
    "Maximizar $z = 4,0 x_{mad} + 6,0 x_{al}$\n",
    "\n",
    "Sujeito a:\n",
    "\\begin{equation}\n",
    "1,5 x_{mad} + 4,0 x_{al} + x_3 = 24\\\\\n",
    "3,0 x_{mad} + 1,5 x_{al} + x_4 = 21\\\\\n",
    "1,0 x_{mad} + 1,0 x_{al} + x_5 = 8\\\\\n",
    "x_{mad} , x_{al} \\ge 0\n",
    "\\end{equation}\n",
    "\n"
   ]
  },
  {
   "cell_type": "markdown",
   "metadata": {
    "slideshow": {
     "slide_type": "slide"
    },
    "tags": []
   },
   "source": [
    "## Representação matricial do sistema\n",
    "\n",
    "<img src=\"img/Picture9.png\" width=\"100%\">"
   ]
  },
  {
   "cell_type": "markdown",
   "metadata": {
    "slideshow": {
     "slide_type": "slide"
    },
    "tags": []
   },
   "source": [
    "## Montando uma base\n",
    "\n",
    "<img src=\"img/Picture10.png\" width=\"100%\">\n",
    "\n",
    "> **Base: $x_{mad}$, $x_3$ e $x_5$**\n"
   ]
  },
  {
   "cell_type": "markdown",
   "metadata": {
    "slideshow": {
     "slide_type": "slide"
    },
    "tags": []
   },
   "source": [
    "## Reescrevendo o sistema separando as variáveis básicas e não-básicas\n",
    "\n",
    "<img src=\"img/Picture11.png\" width=\"100%\">\n",
    "\n",
    "> **Base: $x_{mad}$, $x_3$ e $x_5$**\n"
   ]
  },
  {
   "cell_type": "markdown",
   "metadata": {
    "slideshow": {
     "slide_type": "slide"
    },
    "tags": []
   },
   "source": [
    "## Encontrando a solução básica\n",
    "\n",
    "- Fazendo $x_N = 0$, o único valor possível para $x_B = B^{-1}b$\n",
    "\n",
    "<img src=\"img/Picture12.png\" width=\"100%\">\n",
    "\n",
    "- A solução $x = (x_B = B^{-1}b, x_N = 0)$ é chamada de solução básica do sistema $Ax = b$ associada a base $B$.\n",
    "\n",
    "- Para encontrar $x_B$ não é preciso calcular $B^{-1}$. Basta resolver o sistema $B x_B = b$.\n"
   ]
  },
  {
   "cell_type": "markdown",
   "metadata": {
    "slideshow": {
     "slide_type": "slide"
    },
    "tags": []
   },
   "source": [
    "## Soluções básicas viáveis\n",
    "\n",
    "- Uma solução básica em que $x = (x_B, x_N) \\ge 0$ é chamada de solução básica viável, ou seja, é uma solução legítima do PL.\n",
    "\n",
    "- Uma solução $x = (x_B, x_N)$ com alguma variável < 0 é uma solução básica não-viável do PL\n",
    "\n",
    "> Propriedade: Se um PL possui uma única solução ótima, essa solução é básica viável.\n",
    "\n",
    "> Propriedade: Se um PL possui múltiplas soluções ótimas, existem pelo menos 2 soluções básicas viáveis ótimas.\n"
   ]
  },
  {
   "cell_type": "markdown",
   "metadata": {
    "slideshow": {
     "slide_type": "slide"
    },
    "tags": []
   },
   "source": [
    "## Um PL pode ser resolvido por enumeração de soluções básicas\n",
    "\n",
    "Para resolvermos um PL, podemos nos limitar a olhar apenas as soluções básicas, ou seja, testar todas as soluções básicas e pegar a melhor (de acordo com a função objetivo) que seja viável.\n",
    "\n",
    "Porém o número de soluções básicas é:\n",
    "\\begin{equation}\n",
    "\\binom{n}{m} = \\frac{n!}{m!(n-m)!}\n",
    "\\end{equation}\n",
    "\n",
    "Este número pode ser muito grande e, portanto, o método é ineficiente e só serve para problemas pequenos.\n"
   ]
  },
  {
   "cell_type": "markdown",
   "metadata": {
    "slideshow": {
     "slide_type": "slide"
    },
    "tags": []
   },
   "source": [
    "## Geometria das soluções básicas\n",
    "\n",
    "<img src=\"img/Picture13.png\" width=\"100%\">\n",
    "\n",
    "> As soluções básicas viáveis correspondem aos pontos extremos do espaço de soluções.\n"
   ]
  },
  {
   "cell_type": "code",
   "execution_count": null,
   "metadata": {},
   "outputs": [],
   "source": []
  }
 ],
 "metadata": {
  "kernelspec": {
   "display_name": "C++14",
   "language": "C++14",
   "name": "xcpp14"
  },
  "language_info": {
   "codemirror_mode": "text/x-c++src",
   "file_extension": ".cpp",
   "mimetype": "text/x-c++src",
   "name": "c++",
   "version": "14"
  }
 },
 "nbformat": 4,
 "nbformat_minor": 4
}
