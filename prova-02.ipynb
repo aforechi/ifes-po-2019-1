{
 "cells": [
  {
   "cell_type": "markdown",
   "metadata": {},
   "source": [
    "# Estudo de Caso: Alocação de Ativos em Carteira de Investimentos\n",
    "\n",
    "Monte uma carteira de ações para o mês de Setembro/2020 baseado na Moderna Teoria de Portfolio (Markowitz, 1952), a qual estuda a melhor combinação possível dos ativos analisados e sugere uma alocação de ativos dentro de uma carteira que maximize o retorno. \n",
    "\n",
    "Considere as cotações históricas das ações que fazem parte da [Carteira Teórica do Ibovespa em 01/09/2020](http://www.b3.com.br/pt_br/market-data-e-indices/indices/indices-amplos/indice-ibovespa-ibovespa-composicao-da-carteira.htm) disponíveis em [ibovespa_desc.csv](ibovespa_desc.csv) e no diretório ibovespa.\n",
    "\n",
    "Caso queira consultar o retorno histórico diário, semanal ou mensal acesse o [link](https://www.investing.com/equities/ambev-pn-historical-data)."
   ]
  },
  {
   "cell_type": "code",
   "execution_count": 1,
   "metadata": {},
   "outputs": [],
   "source": [
    "#include <iostream>\n",
    "#include <iomanip>\n",
    "\n",
    "#include \"csv.h\"\n",
    "#include \"setup.h\"\n",
    "\n",
    "#include \"ortools/linear_solver/linear_solver.h\"\n",
    "#include \"ortools/linear_solver/linear_solver.pb.h\"\n",
    "\n",
    "using namespace operations_research;"
   ]
  },
  {
   "cell_type": "markdown",
   "metadata": {},
   "source": [
    "## Símbolos de uma carteira\n",
    "\n",
    "Use a função getTickersByStartDate para retornar a lista de símbolos dos ativos existentes a partir de um determinado mês e ano."
   ]
  },
  {
   "cell_type": "code",
   "execution_count": 2,
   "metadata": {},
   "outputs": [],
   "source": [
    "int getTickersByStartDate(int year, int month, std::vector<std::string> & selectedTickers)\n",
    "{\n",
    "    int months(0);\n",
    "    std::string initial_date(std::to_string(year) + \"-\" + (month<10 ? \"0\" + std::to_string(month) : std::to_string(month)) );\n",
    "    std::ifstream f1(\"ibovespa_desc.csv\");\n",
    "    auto tickers = csv_read_string(f1);\n",
    "    transpose<std::string>(tickers);\n",
    "    f1.close();\n",
    "\n",
    "    for(int ticker = 0; ticker < tickers[0].size(); ticker++){\n",
    "        auto filename = std::string(\"ibovespa/\") + tickers[0][ticker] + \"M.csv\";\n",
    "        std::ifstream f2(filename);\n",
    "        auto returns = csv_read_string(f2);\n",
    "        transpose<std::string>(returns);\n",
    "        f2.close();\n",
    "        \n",
    "        int date_offset = -1;\n",
    "        for(int month=0; month<returns[0].size(); month++){\n",
    "            if (returns[0][month] == initial_date){\n",
    "                date_offset = month;\n",
    "                break;\n",
    "            } \n",
    "            else if (returns[0][month] > initial_date){\n",
    "                date_offset = -1;\n",
    "                break;\n",
    "            }\n",
    "        }\n",
    "        \n",
    "        if (date_offset >= 0) {\n",
    "            months = returns[0].size()-date_offset;\n",
    "            selectedTickers.push_back(tickers[0][ticker]);\n",
    "        }\n",
    "\n",
    "    }\n",
    "    return months;\n",
    "}"
   ]
  },
  {
   "cell_type": "code",
   "execution_count": 3,
   "metadata": {},
   "outputs": [],
   "source": [
    "std::vector<std::string> tickers;\n",
    "int months = getTickersByStartDate(2020, 1, tickers);"
   ]
  },
  {
   "cell_type": "code",
   "execution_count": 4,
   "metadata": {},
   "outputs": [],
   "source": [
    "//PROFESSOR\n",
    "//std::vector<std::string> tickers {\"ABEV3\",\"BRAP4\",\"CSNA3\",\"GGBR4\",\"NTCO3\",\"QUAL3\",\"RADL3\",\"RENT3\",\"VALE3\",\"WEGE3\"};\n",
    "//int months = 9;"
   ]
  },
  {
   "cell_type": "code",
   "execution_count": 5,
   "metadata": {},
   "outputs": [
    {
     "data": {
      "text/plain": [
       "{ \"ABEV3\", \"AZUL4\", \"B3SA3\", \"BBAS3\", \"BBDC3\", \"BBDC4\", \"BBSE3\", \"BEEF3\", \"BPAC11\", \"BRAP4\", \"BRDT3\", \"BRFS3\", \"BRKM5\", \"BRML3\", \"BTOW3\", \"CCRO3\", \"CIEL3\", \"CMIG4\", \"COGN3\", \"CPFE3\", \"CRFB3\", \"CSAN3\", \"CSNA3\", \"CVCB3\", \"CYRE3\", \"ECOR3\", \"EGIE3\", \"ELET3\", \"ELET6\", \"EMBR3\", \"ENBR3\", \"ENGI11\", \"EQTL3\", \"FLRY3\", \"GGBR4\", \"GNDI3\", \"GOAU4\", \"GOLL4\", \"HAPV3\", \"HGTX3\", \"HYPE3\", \"IGTA3\", \"IRBR3\", \"ITSA4\", \"ITUB4\", \"JBSS3\", \"KLBN11\", \"LAME4\", \"LREN3\", \"MGLU3\", \"MRFG3\", \"MRVE3\", \"MULT3\", \"NTCO3\", \"PETR3\", \"PETR4\", \"QUAL3\", \"RADL3\", \"RAIL3\", \"RENT3\", \"SANB11\", \"SBSP3\", \"SULA11\", \"TAEE11\", \"TIMP3\", \"TOTS3\", \"UGPA3\", \"USIM5\", \"VALE3\", \"VIVT4\", \"VVAR3\", \"WEGE3\", \"YDUQ3\" }"
      ]
     },
     "execution_count": 5,
     "metadata": {},
     "output_type": "execute_result"
    }
   ],
   "source": [
    "tickers"
   ]
  },
  {
   "cell_type": "markdown",
   "metadata": {},
   "source": [
    "## Retorno de uma carteira\n",
    "\n",
    "Calcule o retorno médio mensal em percentual de cada ação baseado nos dados históricos fornecidos. Fica a critério de cada grupo escolher o intervalo mais apropriado de datas.\n",
    "\n",
    "    O algoritmo abaixo seleciona somente as ações de empresas listadas na Bovespa a partir de uma data configurada (initial_date)."
   ]
  },
  {
   "cell_type": "code",
   "execution_count": 6,
   "metadata": {},
   "outputs": [],
   "source": [
    "void getReturnsByTicker(const std::vector<std::string> & tickers, std::vector<std::vector<double>> & selectedReturns)\n",
    "{\n",
    "    for(int ticker = 0; ticker < tickers.size(); ticker++){\n",
    "        auto filename = std::string(\"ibovespa/\") + tickers[ticker] + \"M.csv\";\n",
    "        std::ifstream f2(filename);\n",
    "\n",
    "        std::cout << \"Reading: \" << filename << std::endl;\n",
    "\n",
    "        auto returns = csv_read_string(f2);\n",
    "        transpose<std::string>(returns);\n",
    "        f2.close();\n",
    "        \n",
    "        int date_offset = returns[1].size() - selectedReturns[ticker].size();\n",
    "        \n",
    "        if (date_offset >= 0) {\n",
    "            for(int month=date_offset; month<returns[1].size(); month++) {\n",
    "                selectedReturns[ticker][month-date_offset] = std::stof(returns[1][month]);\n",
    "            }\n",
    "        }\n",
    "\n",
    "    }\n",
    "\n",
    "}"
   ]
  },
  {
   "cell_type": "code",
   "execution_count": 7,
   "metadata": {},
   "outputs": [
    {
     "name": "stdout",
     "output_type": "stream",
     "text": [
      "Reading: ibovespa/ABEV3M.csv\n",
      "Reading: ibovespa/AZUL4M.csv\n",
      "Reading: ibovespa/B3SA3M.csv\n",
      "Reading: ibovespa/BBAS3M.csv\n",
      "Reading: ibovespa/BBDC3M.csv\n",
      "Reading: ibovespa/BBDC4M.csv\n",
      "Reading: ibovespa/BBSE3M.csv\n",
      "Reading: ibovespa/BEEF3M.csv\n",
      "Reading: ibovespa/BPAC11M.csv\n",
      "Reading: ibovespa/BRAP4M.csv\n",
      "Reading: ibovespa/BRDT3M.csv\n",
      "Reading: ibovespa/BRFS3M.csv\n",
      "Reading: ibovespa/BRKM5M.csv\n",
      "Reading: ibovespa/BRML3M.csv\n",
      "Reading: ibovespa/BTOW3M.csv\n",
      "Reading: ibovespa/CCRO3M.csv\n",
      "Reading: ibovespa/CIEL3M.csv\n",
      "Reading: ibovespa/CMIG4M.csv\n",
      "Reading: ibovespa/COGN3M.csv\n",
      "Reading: ibovespa/CPFE3M.csv\n",
      "Reading: ibovespa/CRFB3M.csv\n",
      "Reading: ibovespa/CSAN3M.csv\n",
      "Reading: ibovespa/CSNA3M.csv\n",
      "Reading: ibovespa/CVCB3M.csv\n",
      "Reading: ibovespa/CYRE3M.csv\n",
      "Reading: ibovespa/ECOR3M.csv\n",
      "Reading: ibovespa/EGIE3M.csv\n",
      "Reading: ibovespa/ELET3M.csv\n",
      "Reading: ibovespa/ELET6M.csv\n",
      "Reading: ibovespa/EMBR3M.csv\n",
      "Reading: ibovespa/ENBR3M.csv\n",
      "Reading: ibovespa/ENGI11M.csv\n",
      "Reading: ibovespa/EQTL3M.csv\n",
      "Reading: ibovespa/FLRY3M.csv\n",
      "Reading: ibovespa/GGBR4M.csv\n",
      "Reading: ibovespa/GNDI3M.csv\n",
      "Reading: ibovespa/GOAU4M.csv\n",
      "Reading: ibovespa/GOLL4M.csv\n",
      "Reading: ibovespa/HAPV3M.csv\n",
      "Reading: ibovespa/HGTX3M.csv\n",
      "Reading: ibovespa/HYPE3M.csv\n",
      "Reading: ibovespa/IGTA3M.csv\n",
      "Reading: ibovespa/IRBR3M.csv\n",
      "Reading: ibovespa/ITSA4M.csv\n",
      "Reading: ibovespa/ITUB4M.csv\n",
      "Reading: ibovespa/JBSS3M.csv\n",
      "Reading: ibovespa/KLBN11M.csv\n",
      "Reading: ibovespa/LAME4M.csv\n",
      "Reading: ibovespa/LREN3M.csv\n",
      "Reading: ibovespa/MGLU3M.csv\n",
      "Reading: ibovespa/MRFG3M.csv\n",
      "Reading: ibovespa/MRVE3M.csv\n",
      "Reading: ibovespa/MULT3M.csv\n",
      "Reading: ibovespa/NTCO3M.csv\n",
      "Reading: ibovespa/PETR3M.csv\n",
      "Reading: ibovespa/PETR4M.csv\n",
      "Reading: ibovespa/QUAL3M.csv\n",
      "Reading: ibovespa/RADL3M.csv\n",
      "Reading: ibovespa/RAIL3M.csv\n",
      "Reading: ibovespa/RENT3M.csv\n",
      "Reading: ibovespa/SANB11M.csv\n",
      "Reading: ibovespa/SBSP3M.csv\n",
      "Reading: ibovespa/SULA11M.csv\n",
      "Reading: ibovespa/TAEE11M.csv\n",
      "Reading: ibovespa/TIMP3M.csv\n",
      "Reading: ibovespa/TOTS3M.csv\n",
      "Reading: ibovespa/UGPA3M.csv\n",
      "Reading: ibovespa/USIM5M.csv\n",
      "Reading: ibovespa/VALE3M.csv\n",
      "Reading: ibovespa/VIVT4M.csv\n",
      "Reading: ibovespa/VVAR3M.csv\n",
      "Reading: ibovespa/WEGE3M.csv\n",
      "Reading: ibovespa/YDUQ3M.csv\n"
     ]
    }
   ],
   "source": [
    "std::vector<std::vector<double>> returns(tickers.size(), std::vector<double>(months));\n",
    "getReturnsByTicker(tickers, returns);"
   ]
  },
  {
   "cell_type": "markdown",
   "metadata": {},
   "source": [
    "# Retorno Médio e Risco de uma carteira\n",
    "\n",
    "Calcule a matriz de covariância considerando os retornos selecionados no passo anterior. \n",
    "\n",
    "Suponha que sejam consideradas $n$ ações para inclusão nessa carteira e façamos com que as variáveis de decisão $x_i$ ($i = 1, 2, ..., n$) representem o percentual da carteira que será alocado no ativo $i$. \n",
    "\n",
    "Estipulamos que $\\mu_i$ e $\\sigma_{ii}$ sejam, respectivamente, a média e a variância, (estimadas) do retorno sobre cada cota da ação i, em que $\\sigma_{ii}$ mede o risco dessa ação.\n",
    "\n",
    "Para $i=1,2,...,n$ ($i \\ne j$),façamos com que $\\sigma_{ij}$ represente a co-variância do retorno sobre cada cota da ação i e j. \n",
    "\n",
    "Como seria difícil estimar todos os valores $\\sigma_{ij}$, a metodologia usual é partir de certas hipóteses sobre o comportamento do mercado que nos permitam calcular $\\sigma_{ij}$ diretamente de $\\sigma_{ii}$ e $\\sigma_{jj}$.\n",
    "\n",
    "A seguir, o valor esperado $R(x)$ e a variância $V(x)$ do retorno total de toda a carteira são:\n",
    "\n",
    "$R(x) = \\sum_{j=1}^n \\mu_{j}x_j$\n",
    "\n",
    "e\n",
    "\n",
    "$V(x) = \\sum_{i=1}^n \\sum_{j=1}^n \\sigma_{ij}x_i x_j$\n",
    "\n",
    "em que $V(x)$ mede o risco associado à carteira com base na matriz de covariância $\\Sigma$, $N\\times N$:\n",
    "\n",
    "$$ \\Sigma = \\left[\\begin{matrix}\n",
    "VAR(R_1) & COV(R_1, R_2) & \\cdots & COV(R_1, R_N) \\\\\n",
    "COV(R_2, R_0) & VAR(R_2) & \\cdots & COV(R_2, R_N) \\\\\n",
    "\\vdots & \\vdots & \\ddots & \\vdots \\\\\n",
    "COV(R_N, R_1) & COV(R_N, R_2) & \\cdots & VAR(R_N)\n",
    "\\end{matrix}\\right] $$\n"
   ]
  },
  {
   "cell_type": "code",
   "execution_count": 8,
   "metadata": {},
   "outputs": [],
   "source": [
    "void getMeanCovariance(const std::vector<std::vector<double>> &x, std::vector<double> &average, std::vector<std::vector<double>> &covmatrix){\n",
    "    auto const n = x.size(); //tickers\n",
    "    auto const m = x[0].size()-1; //months\n",
    "    for (int i = 0; i < n; i++){\n",
    "        double sum = 0;\n",
    "        for (int k = 0; k < m; k++)\n",
    "            sum += x[i][k];\n",
    "        average.push_back(sum / (double)m);\n",
    "    }\n",
    "\n",
    "    for (int i = 0; i < n; i++){\n",
    "        std::vector<double>temp;\n",
    "        for (int j = 0; j < n; j++){\n",
    "            double sum = 0;\n",
    "            for (int k = 0; k < m; k++)\n",
    "                sum += (x[i][k] - average[i])*(x[j][k] - average[j]);\n",
    "            temp.push_back(sum / (double)(m));\n",
    "        }\n",
    "        covmatrix.push_back(temp);\n",
    "    }\n",
    "}"
   ]
  },
  {
   "cell_type": "code",
   "execution_count": 9,
   "metadata": {},
   "outputs": [],
   "source": [
    "auto getPortfolioReturn(const std::vector<std::string> &portfolio_tickers, \n",
    "                        const std::vector<double> &portfolio_weights){\n",
    "    auto portfolio_returns = 0.0;\n",
    "    for(int i=0; i < portfolio_tickers.size(); i++){\n",
    "        for(int j=0; j < tickers.size(); j++) {\n",
    "            if (portfolio_tickers[i] == tickers[j]) {\n",
    "                portfolio_returns += portfolio_weights[i] * returns[j][returns[j].size()-1];\n",
    "            }\n",
    "        }\n",
    "    }\n",
    "    return portfolio_returns;\n",
    "}"
   ]
  },
  {
   "cell_type": "markdown",
   "metadata": {},
   "source": [
    "## Otimização de Carteira de Investimentos\n",
    "\n",
    "O objetivo é analisar as cotações históricas das ações do Ibovespa segundo a Moderna Teoria de Portfolio para gerar uma distribuição de alocação ótima (em percentual) composta de 5 a 10 ativos para ser utilizada na carteira mensal de Setembro de 2020. \n",
    "\n",
    "**Importante:** Os grupos cujas carteiras otimizadas alcançarem os maiores retornos (positivos) em Setembro/2020 receberão pontuação extra proporcional ao rendimento alcançado.\n"
   ]
  },
  {
   "cell_type": "code",
   "execution_count": 10,
   "metadata": {},
   "outputs": [],
   "source": [
    "std::vector<double> mean;\n",
    "std::vector<std::vector<double>> covariance;\n",
    "getMeanCovariance(returns, mean, covariance);"
   ]
  },
  {
   "cell_type": "code",
   "execution_count": 11,
   "metadata": {},
   "outputs": [],
   "source": [
    "std::vector<std::string> portfolio_tickers;\n",
    "std::vector<double> portfolio_weights;"
   ]
  },
  {
   "cell_type": "markdown",
   "metadata": {},
   "source": [
    "## Escolha uma das duas modelagens abaixo e justifique:\n",
    "\n",
    "Minimizar: $x^T\\sum x$\n",
    "\n",
    "Minimizar: $\\sum_{i=1}^n \\sum_{j=1}^n \\sigma_{ij}x_i x_j$\n",
    "\n",
    "\n",
    "Sujeito a: \n",
    "\n",
    "$\n",
    "\\begin{align}\n",
    "\\mu^Tx \\ge r_{min} \\\\\n",
    "1^Tx \\le 1  \\\\\n",
    "x \\ge 0\n",
    "\\end{align}\n",
    "$"
   ]
  },
  {
   "cell_type": "code",
   "execution_count": 12,
   "metadata": {},
   "outputs": [
    {
     "name": "stdout",
     "output_type": "stream",
     "text": [
      "Solução não encontrada!\n"
     ]
    }
   ],
   "source": [
    "{\n",
    "    const double infinity = MPSolver::infinity();\n",
    "    \n",
    "    // max and min portfolio allocation\n",
    "    auto net_upper_long_bound=1.0;\n",
    "    auto net_lower_long_bound=0.5;\n",
    "    auto r_min = 0.05;\n",
    "    auto n = tickers.size();\n",
    "    \n",
    "    MPModelRequest model_request;\n",
    "    \n",
    "    model_request.set_solver_type(MPModelRequest::SCIP_MIXED_INTEGER_PROGRAMMING);\n",
    "    \n",
    "    auto model_proto = model_request.mutable_model();\n",
    "\n",
    "    model_proto->set_name(\"Min Portfolio Otimization\");\n",
    "    model_proto->set_maximize(false);\n",
    "   \n",
    "    std::vector<MPVariableProto*> x(n);\n",
    "    for(auto i = 0; i < n; i++) {\n",
    "        x[i] = model_proto->add_variable();\n",
    "        x[i]->set_name(tickers[i]);  \n",
    "        x[i]->set_upper_bound(1);  \n",
    "        x[i]->set_lower_bound(0.05);//long only\n",
    "        x[i]->set_objective_coefficient(0); //FO: 0\n",
    "        x[i]->set_is_integer(false);      \n",
    "    }\n",
    "    \n",
    "    //FO: sum(sigma[i][j] * x[i] * x[j])\n",
    "    auto quad_obj = model_proto->mutable_quadratic_objective();\n",
    "    for(auto i = 0; i < n; i++) {\n",
    "        for(auto j = 0; j < n; j++) {\n",
    "            quad_obj->add_qvar1_index(i);\n",
    "            quad_obj->add_qvar2_index(j);\n",
    "            quad_obj->add_coefficient(covariance[i][j]);\n",
    "        }\n",
    "    }\n",
    "    \n",
    "    //Constraint: net_lower_long_bound <= sum(x[i]) <= net_upper_long_bound\n",
    "    auto c = model_proto->add_constraint();\n",
    "    c->set_name(\"c\");  \n",
    "    c->set_lower_bound(net_lower_long_bound);    \n",
    "    c->set_upper_bound(net_upper_long_bound);\n",
    "    for(auto i = 0; i < n; i++) {\n",
    "        c->add_var_index(i);\n",
    "        c->add_coefficient(1);\n",
    "    }\n",
    "    \n",
    "    //Constraint: sum(mean_return[i] * x[i]) >= r_min\n",
    "    auto r = model_proto->add_constraint();\n",
    "    r->set_name(\"r\");  \n",
    "    r->set_lower_bound(r_min);    \n",
    "    r->set_upper_bound(infinity);\n",
    "    for(auto i = 0; i < n; i++) {\n",
    "        r->add_var_index(i);\n",
    "        r->add_coefficient(mean[i]);\n",
    "    }\n",
    "    \n",
    "    MPSolutionResponse solution_response;\n",
    "    MPSolver::SolveWithProto(model_request, &solution_response);\n",
    "\n",
    "    if (solution_response.status() == MPSOLVER_OPTIMAL) {\n",
    "        std::cout << \"Solução ótima encontrada!\" << std::endl;\n",
    "    \n",
    "        std::vector<double> solution(n);\n",
    "        for (int i = 0; i < n; i++) \n",
    "            solution[i] = solution_response.variable_value(i);\n",
    "\n",
    "        double rs = std::inner_product(mean.begin(), mean.end(), solution.begin(), 0.0);\n",
    "\n",
    "        std::cout << \"Retorno = \" << std::fixed << std::setprecision(2) << rs*100.0 << \"% (a.m.) \" << std::endl;\n",
    "\n",
    "        portfolio_tickers.clear();\n",
    "        portfolio_weights.clear();\n",
    "        for (int i = 0; i < n; i++) {\n",
    "            if (solution[i] >= 0.01) {\n",
    "                portfolio_tickers.push_back(tickers[i]);\n",
    "                portfolio_weights.push_back(solution[i]);\n",
    "                std::cout << tickers[i] << \" = \" << solution[i] << std::endl;\n",
    "            }\n",
    "        }\n",
    "    } else {\n",
    "        std::cout << \"Solução não encontrada!\" << std::endl;\n",
    "    }\n",
    "    \n",
    "}"
   ]
  },
  {
   "cell_type": "code",
   "execution_count": 13,
   "metadata": {},
   "outputs": [
    {
     "name": "stdout",
     "output_type": "stream",
     "text": [
      "0% (a.m.)"
     ]
    }
   ],
   "source": [
    "std::cout << getPortfolioReturn(portfolio_tickers, portfolio_weights)*100.0 << \"% (a.m.)\";"
   ]
  },
  {
   "cell_type": "markdown",
   "metadata": {},
   "source": [
    "\n",
    "Maximizar: $\\mu^Tx - \\rho x^T\\sum x$\n",
    "\n",
    "Maximizar: $\\sum_{i=1}^n \\mu_i x_i - \\rho \\sum_{i=1}^n \\sum_{j=1}^n \\sigma_{ij}x_i x_j$\n",
    "\n",
    "\n",
    "Sujeito a: \n",
    "\n",
    "$\n",
    "\\begin{align}\n",
    "1^Tx \\le 1  \\\\\n",
    "x \\ge 0\n",
    "\\end{align}\n",
    "$"
   ]
  },
  {
   "cell_type": "code",
   "execution_count": 14,
   "metadata": {},
   "outputs": [
    {
     "name": "stdout",
     "output_type": "stream",
     "text": [
      "Solução não encontrada!\n"
     ]
    }
   ],
   "source": [
    "{\n",
    "    // max and min portfolio allocation\n",
    "    auto net_upper_long_bound=1.0;\n",
    "    auto net_lower_long_bound=0.5;\n",
    "    \n",
    "    // risk/reward tradeoff input, higher means less risk, b/t .1 & 1\n",
    "    auto rho = 1.0;\n",
    "    \n",
    "    //std::cout << \"Informe um dos valores para rho [0.1, 0.5, 1.0, 10.0]:\";\n",
    "    //std::cin >> rho;\n",
    "        \n",
    "    auto n = tickers.size();\n",
    "    \n",
    "    MPModelRequest model_request;\n",
    "    \n",
    "    model_request.set_solver_type(MPModelRequest::SCIP_MIXED_INTEGER_PROGRAMMING);\n",
    "    \n",
    "    auto model_proto = model_request.mutable_model();\n",
    "\n",
    "    model_proto->set_name(\"Portfolio Otimization\");\n",
    "    model_proto->set_maximize(true);\n",
    "   \n",
    "    std::vector<MPVariableProto*> x(n);\n",
    "    for(auto i = 0; i < n; i++) {\n",
    "        x[i] = model_proto->add_variable();\n",
    "        x[i]->set_name(tickers[i]);  \n",
    "        x[i]->set_upper_bound(1);  \n",
    "        x[i]->set_lower_bound(0.05);//long only\n",
    "        x[i]->set_objective_coefficient(mean[i]); //FO: sum(mean_return[i] * x[i])\n",
    "        x[i]->set_is_integer(false);      \n",
    "    }\n",
    "    \n",
    "    //FO: - rho * sum(sigma[i][j] * x[i] * x[j])\n",
    "    auto quad_obj = model_proto->mutable_quadratic_objective();\n",
    "    for(auto i = 0; i < n; i++) {\n",
    "        for(auto j = 0; j < n; j++) {\n",
    "            quad_obj->add_qvar1_index(i);\n",
    "            quad_obj->add_qvar2_index(j);\n",
    "            quad_obj->add_coefficient(-rho*covariance[i][j]);\n",
    "        }\n",
    "    }\n",
    "    \n",
    "    //Constraint: net_lower_long_bound <= sum(x[i]) <= net_upper_long_bound\n",
    "    auto c = model_proto->add_constraint();\n",
    "    c->set_name(\"c\");  \n",
    "    c->set_lower_bound(net_lower_long_bound);    \n",
    "    c->set_upper_bound(net_upper_long_bound);\n",
    "    for(auto i = 0; i < n; i++) {\n",
    "        c->add_var_index(i);\n",
    "        c->add_coefficient(1);\n",
    "    }\n",
    "    \n",
    "    MPSolutionResponse solution_response;\n",
    "    MPSolver::SolveWithProto(model_request, &solution_response);\n",
    "\n",
    "    if (solution_response.status() == MPSOLVER_OPTIMAL) {\n",
    "        std::cout << \"Solução Ótima!\" << std::endl;\n",
    "    \n",
    "        std::vector<double> solution(2*n);\n",
    "        for (int i = 0; i < n; i++) \n",
    "            solution[i] = solution_response.variable_value(i);\n",
    "\n",
    "        double rs = std::inner_product(mean.begin(), mean.end(), solution.begin(), 0.0);\n",
    "\n",
    "        std::cout << \"Retorno = \" << std::fixed << std::setprecision(2) << rs*100.0 << \"% (a.m.) \" << std::endl;\n",
    "\n",
    "        portfolio_tickers.clear();\n",
    "        portfolio_weights.clear();\n",
    "        for (int i = 0; i < n; i++) {\n",
    "            if (solution[i] >= 0.01) {\n",
    "                portfolio_tickers.push_back(tickers[i]);\n",
    "                portfolio_weights.push_back(solution[i]);\n",
    "                std::cout << tickers[i] << \" = \" << solution[i] << std::endl;\n",
    "            }\n",
    "        }\n",
    "    } else {\n",
    "        std::cout << \"Solução não encontrada!\" << std::endl;\n",
    "    }\n",
    "    \n",
    "}"
   ]
  },
  {
   "cell_type": "markdown",
   "metadata": {},
   "source": [
    "## A otimização deverá retornar o vetor $x$ contendo apenas entre 5 e 10 ativos selecionados automaticamente pelo solver."
   ]
  },
  {
   "cell_type": "code",
   "execution_count": 15,
   "metadata": {},
   "outputs": [
    {
     "name": "stdout",
     "output_type": "stream",
     "text": [
      "0% (a.m.)"
     ]
    }
   ],
   "source": [
    "std::cout << getPortfolioReturn(portfolio_tickers, portfolio_weights)*100.0 << \"% (a.m.)\";"
   ]
  },
  {
   "cell_type": "code",
   "execution_count": 20,
   "metadata": {},
   "outputs": [
    {
     "name": "stdout",
     "output_type": "stream",
     "text": [
      "-5.69298% (a.m.)"
     ]
    }
   ],
   "source": [
    "//GRUPO 1\n",
    "{\n",
    "    std::vector<std::string> portfolio_tickers {\"BTOW3\",\"EQTL3\",\"MGLU3\",\"RADL3\",\"VVAR3\",\"WEGE3\"};\n",
    "    std::vector<double> portfolio_weights {0.15,0.17,0.17,0.17,0.15,0.17};\n",
    "    std::cout << getPortfolioReturn(portfolio_tickers, portfolio_weights_G1)*100.0 << \"% (a.m.)\";\n",
    "}"
   ]
  },
  {
   "cell_type": "code",
   "execution_count": 19,
   "metadata": {},
   "outputs": [
    {
     "name": "stdout",
     "output_type": "stream",
     "text": [
      "-8.11311% (a.m.)"
     ]
    }
   ],
   "source": [
    "//GRUPO 2\n",
    "{\n",
    "    std::vector<std::string> portfolio_tickers {\"BTOW3\",\"CSNA3\",\"ELET3\",\"ELET6\",\"MGLU3\",\"VVAR3\"};\n",
    "    std::vector<double> portfolio_weights {0.05,0.20,0.20,0.15,0.20,0.20};\n",
    "    std::cout << getPortfolioReturn(portfolio_tickers, portfolio_weights)*100.0 << \"% (a.m.)\";\n",
    "}"
   ]
  },
  {
   "cell_type": "code",
   "execution_count": 22,
   "metadata": {},
   "outputs": [
    {
     "name": "stdout",
     "output_type": "stream",
     "text": [
      "-9.27689% (a.m.)"
     ]
    }
   ],
   "source": [
    "//GRUPO 3\n",
    "{\n",
    "    std::vector<std::string> portfolio_tickers {\"BTOW3\",\"EQTL3\",\"MGLU3\",\"VVAR3\",\"WEGE3\"};\n",
    "    std::vector<double> portfolio_weights {0.20,0.20,0.20,0.20,0.20};\n",
    "    std::cout << getPortfolioReturn(portfolio_tickers, portfolio_weights)*100.0 << \"% (a.m.)\";\n",
    "}"
   ]
  },
  {
   "cell_type": "code",
   "execution_count": 23,
   "metadata": {},
   "outputs": [
    {
     "name": "stdout",
     "output_type": "stream",
     "text": [
      "-10.4007% (a.m.)"
     ]
    }
   ],
   "source": [
    "//GRUPO 4\n",
    "{\n",
    "    std::vector<std::string> portfolio_tickers {\"BTOW3\",\"MGLU3\",\"MRFG3\",\"VVAR3\",\"WEGE3\"};\n",
    "    std::vector<double> portfolio_weights {0.20,0.20,0.20,0.20,0.20};\n",
    "    std::cout << getPortfolioReturn(portfolio_tickers, portfolio_weights)*100.0 << \"% (a.m.)\";\n",
    "}"
   ]
  },
  {
   "cell_type": "code",
   "execution_count": 24,
   "metadata": {},
   "outputs": [
    {
     "name": "stdout",
     "output_type": "stream",
     "text": [
      "-4.6029% (a.m.)"
     ]
    }
   ],
   "source": [
    "//GRUPO 5\n",
    "{\n",
    "    std::vector<std::string> portfolio_tickers {\"EQTL3\",\"HGTX3\",\"LREN3\",\"RADL3\",\"VVAR3\",\"WEGE3\"};\n",
    "    std::vector<double> portfolio_weights {0.36,0.04,0.14,0.09,0.08,0.30};\n",
    "    std::cout << getPortfolioReturn(portfolio_tickers, portfolio_weights)*100.0 << \"% (a.m.)\";\n",
    "}"
   ]
  },
  {
   "cell_type": "code",
   "execution_count": 25,
   "metadata": {},
   "outputs": [
    {
     "name": "stdout",
     "output_type": "stream",
     "text": [
      "-5.91062% (a.m.)"
     ]
    }
   ],
   "source": [
    "//GRUPO 6\n",
    "{\n",
    "    std::vector<std::string> portfolio_tickers {\"EQTL3\",\"HGTX3\",\"LREN3\",\"RADL3\",\"VVAR3\",\"WEGE3\"};\n",
    "    std::vector<double> portfolio_weights {0.20,0.082,0.20,0.1117,0.20,0.20};\n",
    "    std::cout << getPortfolioReturn(portfolio_tickers, portfolio_weights)*100.0 << \"% (a.m.)\";\n",
    "}"
   ]
  },
  {
   "cell_type": "code",
   "execution_count": null,
   "metadata": {},
   "outputs": [],
   "source": []
  }
 ],
 "metadata": {
  "kernelspec": {
   "display_name": "C++14",
   "language": "C++14",
   "name": "xcpp14"
  },
  "language_info": {
   "codemirror_mode": "text/x-c++src",
   "file_extension": ".cpp",
   "mimetype": "text/x-c++src",
   "name": "c++",
   "version": "14"
  }
 },
 "nbformat": 4,
 "nbformat_minor": 4
}
