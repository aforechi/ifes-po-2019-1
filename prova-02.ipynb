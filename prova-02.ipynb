{
 "cells": [
  {
   "cell_type": "markdown",
   "metadata": {},
   "source": [
    "# Estudo de Caso: Alocação de Ativos em Carteira de Investimentos\n",
    "\n",
    "Monte uma carteira de ações para o mês de Setembro/2020 baseado na Moderna Teoria de Portfolio (Markowitz, 1952), a qual estuda a melhor combinação possível dos ativos analisados e sugere uma alocação de ativos dentro de uma carteira que maximize o retorno. \n",
    "\n",
    "Considere as cotações históricas das ações que fazem parte da [Carteira Teórica do Ibovespa em 01/09/2020](http://www.b3.com.br/pt_br/market-data-e-indices/indices/indices-amplos/indice-ibovespa-ibovespa-composicao-da-carteira.htm) disponíveis em [ibovespa_desc.csv](ibovespa_desc.csv) e no diretório ibovespa.\n",
    "\n",
    "Caso queira consultar o retorno histórico diário, semanal ou mensal acesse o [link](https://www.investing.com/equities/ambev-pn-historical-data)."
   ]
  },
  {
   "cell_type": "code",
   "execution_count": 1,
   "metadata": {},
   "outputs": [],
   "source": [
    "#include <iostream>\n",
    "#include <iomanip>\n",
    "\n",
    "#include \"csv.h\"\n",
    "#include \"setup.h\"\n",
    "\n",
    "#include \"ortools/linear_solver/linear_solver.h\"\n",
    "#include \"ortools/linear_solver/linear_solver.pb.h\"\n",
    "\n",
    "using namespace operations_research;"
   ]
  },
  {
   "cell_type": "markdown",
   "metadata": {},
   "source": [
    "## Símbolos de uma carteira\n",
    "\n",
    "Use a função getTickersByStartDate para retornar a lista de símbolos dos ativos existentes a partir de um determinado mês e ano."
   ]
  },
  {
   "cell_type": "code",
   "execution_count": 2,
   "metadata": {},
   "outputs": [],
   "source": [
    "int getTickersByStartDate(int year, int month, std::vector<std::string> & selectedTickers)\n",
    "{\n",
    "    int months(0);\n",
    "    std::string initial_date(std::to_string(year) + \"-\" + (month<10 ? \"0\" + std::to_string(month) : std::to_string(month)) );\n",
    "    std::ifstream f1(\"ibovespa_desc.csv\");\n",
    "    auto tickers = csv_read_string(f1);\n",
    "    transpose<std::string>(tickers);\n",
    "    f1.close();\n",
    "\n",
    "    for(int ticker = 0; ticker < tickers[0].size(); ticker++){\n",
    "        auto filename = std::string(\"ibovespa/\") + tickers[0][ticker] + \"M.csv\";\n",
    "        std::ifstream f2(filename);\n",
    "        auto returns = csv_read_string(f2);\n",
    "        transpose<std::string>(returns);\n",
    "        f2.close();\n",
    "        \n",
    "        int date_offset = -1;\n",
    "        for(int month=0; month<returns[0].size(); month++){\n",
    "            if (returns[0][month] == initial_date){\n",
    "                date_offset = month;\n",
    "                break;\n",
    "            } \n",
    "            else if (returns[0][month] > initial_date){\n",
    "                date_offset = -1;\n",
    "                break;\n",
    "            }\n",
    "        }\n",
    "        \n",
    "        if (date_offset >= 0) {\n",
    "            months = returns[0].size()-date_offset;\n",
    "            selectedTickers.push_back(tickers[0][ticker]);\n",
    "        }\n",
    "\n",
    "    }\n",
    "    return months;\n",
    "}"
   ]
  },
  {
   "cell_type": "code",
   "execution_count": 3,
   "metadata": {},
   "outputs": [],
   "source": [
    "std::vector<std::string> simbolos;\n",
    "int meses = getTickersByStartDate(2010, 1, simbolos);"
   ]
  },
  {
   "cell_type": "code",
   "execution_count": 4,
   "metadata": {},
   "outputs": [
    {
     "data": {
      "text/plain": [
       "{ \"ABEV3\", \"BBAS3\", \"BBDC3\", \"BBDC4\", \"BEEF3\", \"BRAP4\", \"BRFS3\", \"BRKM5\", \"BRML3\", \"BTOW3\", \"CCRO3\", \"CIEL3\", \"CMIG4\", \"CPFE3\", \"CSAN3\", \"CSNA3\", \"CYRE3\", \"EGIE3\", \"ELET3\", \"EMBR3\", \"ENBR3\", \"ENGI11\", \"EQTL3\", \"FLRY3\", \"GGBR4\", \"GOAU4\", \"GOLL4\", \"HGTX3\", \"HYPE3\", \"IGTA3\", \"ITSA4\", \"ITUB4\", \"JBSS3\", \"LAME4\", \"LREN3\", \"MRFG3\", \"MRVE3\", \"MULT3\", \"PETR3\", \"PETR4\", \"RADL3\", \"RENT3\", \"SANB11\", \"SBSP3\", \"SULA11\", \"TIMP3\", \"TOTS3\", \"USIM5\", \"VALE3\", \"VIVT4\", \"VVAR3\", \"WEGE3\" }"
      ]
     },
     "execution_count": 4,
     "metadata": {},
     "output_type": "execute_result"
    }
   ],
   "source": [
    "simbolos"
   ]
  },
  {
   "cell_type": "markdown",
   "metadata": {},
   "source": [
    "## Retorno de uma carteira\n",
    "\n",
    "Calcule o retorno médio mensal em percentual de cada ação baseado nos dados históricos fornecidos. Fica a critério de cada grupo escolher o intervalo mais apropriado de datas.\n",
    "\n",
    "    O algoritmo abaixo seleciona somente as ações de empresas listadas na Bovespa a partir de uma data configurada (initial_date)."
   ]
  },
  {
   "cell_type": "code",
   "execution_count": 5,
   "metadata": {},
   "outputs": [],
   "source": [
    "void getReturnsByTicker(const std::vector<std::string> & tickers, std::vector<std::vector<double>> & selectedReturns)\n",
    "{\n",
    "    for(int ticker = 0; ticker < tickers.size(); ticker++){\n",
    "        auto filename = std::string(\"ibovespa/\") + tickers[ticker] + \"M.csv\";\n",
    "        std::ifstream f2(filename);\n",
    "        auto returns = csv_read_string(f2);\n",
    "        transpose<std::string>(returns);\n",
    "        f2.close();\n",
    "        \n",
    "        int date_offset = returns[1].size() - selectedReturns[ticker].size();\n",
    "        \n",
    "        if (date_offset >= 0) {\n",
    "            for(int month=date_offset; month<returns[1].size(); month++) {\n",
    "                selectedReturns[ticker][month-date_offset] = std::stof(returns[1][month]);\n",
    "            }\n",
    "        }\n",
    "\n",
    "    }\n",
    "\n",
    "}"
   ]
  },
  {
   "cell_type": "code",
   "execution_count": 6,
   "metadata": {},
   "outputs": [],
   "source": [
    "std::vector<std::vector<double>> retornos(simbolos.size(), std::vector<double>(meses));\n",
    "getReturnsByTicker(simbolos, retornos);"
   ]
  },
  {
   "cell_type": "code",
   "execution_count": 8,
   "metadata": {},
   "outputs": [
    {
     "data": {
      "text/plain": [
       "{ -0.019608514, -0.0057999501, -0.010329015, 0.065854736, 0.0012233452, 0.059063159, 0.046347015, 0.023096217, 0.16563351, 0.11693622, 0.029861657, 0.12658258, -0.12511468, -0.013695969, 0.11612678, 0.087113075, -0.024711153, 0.045719758, -0.074742764, 0.20370425, 0.010768813, 0.081211194, 0.069887564, 0.10080157, -0.047615353, 0.11769694, 0.15854691, 0.071139045, -0.071503103, 0.021451183, 0.018051369, -0.0082436679, -0.00015643575, 0.11615376, 0.13762739, 0.13856943, 0.075628862, 0.0073577561, -0.061519045, -0.0014649433, 0.0030563935, 0.010116739, 0.037521601, -0.028953817, 0.054700974, -0.014520727, 0.052125886, -0.013668721, -0.065516181, 0.049097169, 0.0041473866, -0.033700261, -0.028186282, -0.0063050650, 0.0041397056, 0.044671539, -0.020159001, 0.037069116, 0.021951372, -0.028042989, 0.10106125, 0.035047892, 0.014270224, 0.025432952, -0.022163907, 0.030364348, 0.025276536, -0.019517304, 0.025127962, -0.016992785, -0.023572356, -0.034334719, 0.045377929, -0.048030280, 0.065759569, 0.031383131, -0.014440211, -0.0031400123, -0.0064656553, 0.020744704, 0.032829583, -0.049949583, -0.081414014, -0.030680897, 0.053031534, 0.037209101, 0.022421647, 0.0010965936, 0.024644002, -0.012718481, 0.045876410, 0.037075832, 0.059415840, -0.0066539696, -0.016268013, 0.050595094, 0.031484887, 0.0054845824, 0.094090767, -0.030743580, -0.15602227, -0.078974158, 0.079532780, -0.028851066, -0.027055636, -0.10905130, 0.035495725, -0.072322808, 0.13849150, -0.015990896, -0.023215307, 0.097444996, -0.049810428, 0.019373227, 0.12520954, -0.070044689, 0.028312040, -0.097142898, 0.038550042, 0.061515462, -0.043920711, -0.18543419, -0.18019256, -0.048657712, 0.10052904, 0.13301289, -0.016973177, -0.11438844 }"
      ]
     },
     "execution_count": 8,
     "metadata": {},
     "output_type": "execute_result"
    }
   ],
   "source": [
    "retornos[0] //retornos mensais em percentual da ABEV3"
   ]
  },
  {
   "cell_type": "markdown",
   "metadata": {},
   "source": [
    "# Retorno Médio e Risco de uma carteira\n",
    "\n",
    "Calcule a matriz de covariância considerando os retornos selecionados no passo anterior. \n",
    "\n",
    "Suponha que sejam consideradas $n$ ações para inclusão nessa carteira e façamos com que as variáveis de decisão $x_i$ ($i = 1, 2, ..., n$) representem o percentual da carteira que será alocado no ativo $i$. \n",
    "\n",
    "Estipulamos que $\\mu_i$ e $\\sigma_{ii}$ sejam, respectivamente, a média e a variância, (estimadas) do retorno sobre cada cota da ação i, em que $\\sigma_{ii}$ mede o risco dessa ação.\n",
    "\n",
    "Para $i=1,2,...,n$ ($i \\ne j$),façamos com que $\\sigma_{ij}$ represente a co-variância do retorno sobre cada cota da ação i e j. \n",
    "\n",
    "Como seria difícil estimar todos os valores $\\sigma_{ij}$, a metodologia usual é partir de certas hipóteses sobre o comportamento do mercado que nos permitam calcular $\\sigma_{ij}$ diretamente de $\\sigma_{ii}$ e $\\sigma_{jj}$.\n",
    "\n",
    "A seguir, o valor esperado $R(x)$ e a variância $V(x)$ do retorno total de toda a carteira são:\n",
    "\n",
    "$R(x) = \\sum_{j=1}^n \\mu_{j}x_j$\n",
    "\n",
    "e\n",
    "\n",
    "$V(x) = \\sum_{i=1}^n \\sum_{j=1}^n \\sigma_{ij}x_i x_j$\n",
    "\n",
    "em que $V(x)$ mede o risco associado à carteira com base na matriz de covariância $\\Sigma$, $N\\times N$:\n",
    "\n",
    "$$ \\Sigma = \\left[\\begin{matrix}\n",
    "VAR(R_1) & COV(R_1, R_2) & \\cdots & COV(R_1, R_N) \\\\\n",
    "COV(R_2, R_0) & VAR(R_2) & \\cdots & COV(R_2, R_N) \\\\\n",
    "\\vdots & \\vdots & \\ddots & \\vdots \\\\\n",
    "COV(R_N, R_1) & COV(R_N, R_2) & \\cdots & VAR(R_N)\n",
    "\\end{matrix}\\right] $$\n"
   ]
  },
  {
   "cell_type": "code",
   "execution_count": null,
   "metadata": {},
   "outputs": [],
   "source": []
  },
  {
   "cell_type": "markdown",
   "metadata": {},
   "source": [
    "## Otimização de Carteira de Investimentos\n",
    "\n",
    "O objetivo é analisar as cotações históricas das ações do Ibovespa segundo a Moderna Teoria de Portfolio para gerar uma distribuição de alocação ótima (em percentual) composta de 5 a 10 ativos para ser utilizada na carteira mensal de Setembro de 2020. \n",
    "\n",
    "**Importante:** Os grupos cujas carteiras otimizadas alcançarem os maiores retornos (positivos) em Setembro/2020 receberão pontuação extra proporcional ao rendimento alcançado.\n"
   ]
  },
  {
   "cell_type": "code",
   "execution_count": null,
   "metadata": {},
   "outputs": [],
   "source": []
  },
  {
   "cell_type": "markdown",
   "metadata": {},
   "source": [
    "## Escolha uma das duas modelagens abaixo e justifique:\n",
    "\n",
    "Minimizar: $x^T\\sum x$\n",
    "\n",
    "Minimizar: $\\sum_{i=1}^n \\sum_{j=1}^n \\sigma_{ij}x_i x_j$\n",
    "\n",
    "\n",
    "Sujeito a: \n",
    "\n",
    "$\n",
    "\\begin{align}\n",
    "\\mu^Tx \\ge r_{min} \\\\\n",
    "1^Tx \\le 1  \\\\\n",
    "x \\ge 0\n",
    "\\end{align}\n",
    "$"
   ]
  },
  {
   "cell_type": "code",
   "execution_count": null,
   "metadata": {},
   "outputs": [],
   "source": []
  },
  {
   "cell_type": "markdown",
   "metadata": {},
   "source": [
    "\n",
    "Maximizar: $\\mu^Tx - \\rho x^T\\sum x$\n",
    "\n",
    "Maximizar: $\\sum_{i=1}^n \\mu_i x_i - \\rho \\sum_{i=1}^n \\sum_{j=1}^n \\sigma_{ij}x_i x_j$\n",
    "\n",
    "\n",
    "Sujeito a: \n",
    "\n",
    "$\n",
    "\\begin{align}\n",
    "1^Tx \\le 1  \\\\\n",
    "x \\ge 0\n",
    "\\end{align}\n",
    "$"
   ]
  },
  {
   "cell_type": "code",
   "execution_count": null,
   "metadata": {},
   "outputs": [],
   "source": []
  },
  {
   "cell_type": "markdown",
   "metadata": {},
   "source": [
    "## A otimização deverá retornar o vetor $x$ contendo apenas entre 5 e 10 ativos selecionados automaticamente pelo solver."
   ]
  },
  {
   "cell_type": "code",
   "execution_count": null,
   "metadata": {},
   "outputs": [],
   "source": []
  }
 ],
 "metadata": {
  "kernelspec": {
   "display_name": "C++14",
   "language": "C++14",
   "name": "xcpp14"
  },
  "language_info": {
   "codemirror_mode": "text/x-c++src",
   "file_extension": ".cpp",
   "mimetype": "text/x-c++src",
   "name": "c++",
   "version": "14"
  }
 },
 "nbformat": 4,
 "nbformat_minor": 4
}
