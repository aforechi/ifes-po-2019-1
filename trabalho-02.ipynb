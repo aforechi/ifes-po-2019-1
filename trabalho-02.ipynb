{
 "cells": [
  {
   "cell_type": "markdown",
   "id": "7d18d9b6-dca6-4f2a-9d9c-a7d2db812f14",
   "metadata": {},
   "source": [
    "# Trabalho de Programação Linear aplicada ao problema de Cinemática Inversa de Braços Robóticos\n",
    "\n",
    "Para rodar a simulação no Google Colab execute os comandos abaixo:"
   ]
  },
  {
   "cell_type": "markdown",
   "id": "c43eafe1-68ea-4c4e-96e7-a32c33838128",
   "metadata": {},
   "source": [
    "!pip install roboticstoolbox-python\n",
    "\n",
    "!pip install ortools       "
   ]
  },
  {
   "cell_type": "code",
   "execution_count": null,
   "id": "96e93bd5-9d26-4943-a5b3-ea45bd9c517b",
   "metadata": {},
   "outputs": [],
   "source": [
    "!pip install cvxpy"
   ]
  },
  {
   "cell_type": "markdown",
   "id": "9dd23aaf-d4d7-439a-a53e-2faaf28810e7",
   "metadata": {},
   "source": [
    "https://github.com/petercorke/robotics-toolbox-python\n",
    "\n",
    "https://petercorke.github.io/robotics-toolbox-python/index.html"
   ]
  },
  {
   "cell_type": "code",
   "execution_count": null,
   "id": "9f6f1407-dc5f-4051-9874-c22f442987dd",
   "metadata": {},
   "outputs": [],
   "source": [
    "%matplotlib widget\n",
    "import matplotlib.pyplot as plt"
   ]
  },
  {
   "cell_type": "code",
   "execution_count": null,
   "id": "4933e962-14f3-4c97-9b45-b6e8ff31cb90",
   "metadata": {},
   "outputs": [],
   "source": [
    "import roboticstoolbox as rtb\n",
    "import spatialmath as sm\n",
    "import numpy as np\n",
    "from roboticstoolbox.backends.PyPlot import PyPlot"
   ]
  },
  {
   "cell_type": "code",
   "execution_count": null,
   "id": "3a0ce26b-6366-489e-8562-074a1ab68975",
   "metadata": {},
   "outputs": [],
   "source": [
    "# Implemente o modelo de Prog. Quad. dentro da função solve usando a biblioteca cvxpy\n",
    "import cvxpy as cvx\n",
    "\n",
    "def solve(Q, c, G, h, A, b):\n",
    "    pass"
   ]
  },
  {
   "cell_type": "code",
   "execution_count": null,
   "id": "d6736b63-0d4a-42c0-9a65-14230d289268",
   "metadata": {},
   "outputs": [],
   "source": [
    "def build_equality_constraints(panda, effector_velocity):\n",
    "    J = panda.jacobe(panda.q)\n",
    "    # Gera a matriz estendida A:6x13 a partir da concatenação de J:6x7 e I:6x6\n",
    "    A = np.c_[J, np.eye(6)]\n",
    "    b = effector_velocity\n",
    "    return A, b"
   ]
  },
  {
   "cell_type": "code",
   "execution_count": null,
   "id": "c9ce88a3-3003-4a46-b104-f498707e9309",
   "metadata": {},
   "outputs": [],
   "source": [
    "def build_quadratic_function(panda, current_effector_pose, target_effector_pose, joint_velocity, n):\n",
    "    \n",
    "    error = current_effector_pose.inv() * target_effector_pose\n",
    "\n",
    "    e = np.sum(np.abs(np.r_[error.t, error.rpy() * np.pi / 180]))\n",
    "\n",
    "    # Matriz de covariância Q:13x13\n",
    "    Q = np.eye(n + 6)\n",
    "\n",
    "    # Termo de ganho (lambda) para controle de velocidade das juntas\n",
    "    Q[:n, :n] *= 0.01\n",
    "\n",
    "    # Correlação do erro dados pela diferença entre as poses atual e final atrelada a velocidade da garra\n",
    "    Q[n:, n:] = (1 / e) * np.eye(6)\n",
    "\n",
    "    # Vetor de coeficientes c:13\n",
    "    c = np.r_[-panda.jacobm(joint_velocity).reshape((n,)), np.zeros(6)]\n",
    "\n",
    "    return Q, c"
   ]
  },
  {
   "cell_type": "code",
   "execution_count": null,
   "id": "c9c3f8d5-557a-408f-8a92-fb48e33b7ffc",
   "metadata": {},
   "outputs": [],
   "source": [
    "def build_inequality_constraints(panda, n):\n",
    "    A = np.zeros((n + 6, n + 6))\n",
    "    b = np.zeros(n + 6)\n",
    "    # Limites de velocidades da juntas para serem consideradas nas restrições\n",
    "    A[:n, :n], b[:n] = panda.joint_velocity_damper(ps=0.05, pi=0.9, n=n)\n",
    "    return A, b"
   ]
  },
  {
   "cell_type": "code",
   "execution_count": null,
   "id": "ba4ab95d-428e-4f81-b7fc-df3f38913576",
   "metadata": {},
   "outputs": [],
   "source": [
    "# Carrega um modelo do robô Panda e define seus ângulos de junta para a configuração de prontidão\n",
    "panda = rtb.models.DH.Panda()\n",
    "panda.q = panda.qr\n",
    "\n",
    "n = 7\n",
    "\n",
    "joint_velocity = np.zeros(7)\n",
    "\n",
    "current_effector_pose = panda.fkine(panda.q)\n",
    "\n",
    "# Define uma pose desejada para a garra em função da pose atual da garra\n",
    "target_effector_pose = current_effector_pose * sm.SE3.Tx(0.2) * sm.SE3.Ty(0.2) * sm.SE3.Tz(0.45)\n",
    "\n",
    "panda.plot(panda.q)"
   ]
  },
  {
   "cell_type": "code",
   "execution_count": null,
   "id": "1f0813de-c4b2-4a05-9284-5ae32d6cfada",
   "metadata": {},
   "outputs": [],
   "source": [
    "panda.q"
   ]
  },
  {
   "cell_type": "code",
   "execution_count": null,
   "id": "5719c574-2613-45e4-884d-c46ff7b88b52",
   "metadata": {},
   "outputs": [],
   "source": [
    "env = PyPlot()\n",
    "env.launch()\n",
    "env.add(panda)"
   ]
  },
  {
   "cell_type": "code",
   "execution_count": null,
   "id": "0c089859-a7cd-4a11-9489-f4b2e5fe9c53",
   "metadata": {},
   "outputs": [],
   "source": [
    "# Simula o robô enquanto ele não alcança o objetivo\n",
    "effector_arrived = False\n",
    "while not effector_arrived:\n",
    "    current_effector_pose = panda.fkine(panda.q)\n",
    "    \n",
    "    # Calcula a velocidade necessária da garra para ir em direção ao objetivo\n",
    "    effector_velocity, effector_arrived = rtb.p_servo(current_effector_pose, target_effector_pose, 1)\n",
    "    \n",
    "    J = panda.jacobe(panda.q)\n",
    "    \n",
    "    A, b = build_equality_constraints(panda, effector_velocity)\n",
    "\n",
    "    G, h = build_inequality_constraints(panda, n)\n",
    "\n",
    "    Q, c = build_quadratic_function(panda, current_effector_pose, target_effector_pose, joint_velocity, n)\n",
    "\n",
    "    joint_velocity = solve(Q, c, G, h, A, b)\n",
    "\n",
    "    # Calcula as velocidades das juntas do Panda conforme Eq. 8.3 do livro do Peter Corke (pag. 234)\n",
    "    joint_velocity = np.linalg.pinv(J) @ effector_velocity\n",
    "\n",
    "    # Defina as velocidades das juntas do Panda\n",
    "    panda.qd = joint_velocity\n",
    "    \n",
    "    env.step(0.05)"
   ]
  },
  {
   "cell_type": "code",
   "execution_count": null,
   "id": "2a3953e5-9c14-44da-8555-7689be7b751e",
   "metadata": {},
   "outputs": [],
   "source": []
  }
 ],
 "metadata": {
  "kernelspec": {
   "display_name": "Python 3",
   "language": "python",
   "name": "python3"
  },
  "language_info": {
   "codemirror_mode": {
    "name": "ipython",
    "version": 3
   },
   "file_extension": ".py",
   "mimetype": "text/x-python",
   "name": "python",
   "nbconvert_exporter": "python",
   "pygments_lexer": "ipython3",
   "version": "3.9.4"
  }
 },
 "nbformat": 4,
 "nbformat_minor": 5
}
