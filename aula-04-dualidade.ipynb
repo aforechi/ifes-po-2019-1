{
 "cells": [
  {
   "cell_type": "markdown",
   "metadata": {},
   "source": [
    "# Teoria da Dualidade"
   ]
  },
  {
   "cell_type": "markdown",
   "metadata": {},
   "source": [
    "## Primal\n",
    "\n",
    "Max: $z = 4x_1 + x_2 + 5x_3 + 3x_4$\n",
    "\n",
    "S.a: \n",
    "\n",
    "\\begin{align}\n",
    "x_1 - x_2 - x_3 + 3x_4 \\le 1 \\\\\n",
    "5x_1 + x_2 + 3x_3 + 8x_4 \\le 55 \\\\\n",
    "-x_1 + 2x_2 + 3x_3 - 5x_4 \\le 3 \\\\\n",
    "x_1, x_2, x_3, x_4 \\ge 0\n",
    "\\end{align}"
   ]
  },
  {
   "cell_type": "code",
   "execution_count": 1,
   "metadata": {},
   "outputs": [],
   "source": [
    "#include<iostream>"
   ]
  },
  {
   "cell_type": "code",
   "execution_count": 2,
   "metadata": {
    "slideshow": {
     "slide_type": "subslide"
    }
   },
   "outputs": [],
   "source": [
    "#include \"setup.h\"\n",
    "#include \"ortools/linear_solver/linear_solver.h\"\n",
    "#include \"ortools/linear_solver/linear_solver.pb.h\"\n",
    "\n",
    "using namespace operations_research;"
   ]
  },
  {
   "cell_type": "code",
   "execution_count": 3,
   "metadata": {
    "slideshow": {
     "slide_type": "subslide"
    }
   },
   "outputs": [],
   "source": [
    "  // 1. Escolha o solver.\n",
    "  std::unique_ptr<MPSolver> solver(MPSolver::CreateSolver(\"Primal\", \"GLOP\"));"
   ]
  },
  {
   "cell_type": "code",
   "execution_count": 4,
   "metadata": {
    "slideshow": {
     "slide_type": "subslide"
    }
   },
   "outputs": [
    {
     "name": "stdout",
     "output_type": "stream",
     "text": [
      "Número de variáveis = 4\n"
     ]
    }
   ],
   "source": [
    "  // 2. Crie as variáveis: \n",
    "  auto const x1 = solver->MakeNumVar(0.0, solver->infinity(), \"x1\");\n",
    "  auto const x2 = solver->MakeNumVar(0.0, solver->infinity(), \"x2\");\n",
    "  auto const x3 = solver->MakeNumVar(0.0, solver->infinity(), \"x3\");\n",
    "  auto const x4 = solver->MakeNumVar(0.0, solver->infinity(), \"x4\");\n",
    "  std::cout << \"Número de variáveis = \" << solver->NumVariables() << std::endl;"
   ]
  },
  {
   "cell_type": "code",
   "execution_count": 5,
   "metadata": {
    "slideshow": {
     "slide_type": "subslide"
    }
   },
   "outputs": [
    {
     "name": "stdout",
     "output_type": "stream",
     "text": [
      "Número de restrições = 3\n"
     ]
    }
   ],
   "source": [
    "  // 3. Defina as restrições: \n",
    "  auto const ct1 = solver->MakeRowConstraint(-solver->infinity(), 1.0, \"ct1\");\n",
    "  ct1->SetCoefficient(x1, 1.0);\n",
    "  ct1->SetCoefficient(x2, -1.0);\n",
    "  ct1->SetCoefficient(x3, -1.0);\n",
    "  ct1->SetCoefficient(x4, 3.0);\n",
    "\n",
    "  auto const ct2 = solver->MakeRowConstraint(-solver->infinity(), 55.0, \"ct2\");\n",
    "  ct2->SetCoefficient(x1, 5.0);\n",
    "  ct2->SetCoefficient(x2, 1.0);\n",
    "  ct2->SetCoefficient(x3, 3.0);\n",
    "  ct2->SetCoefficient(x4, 8.0);\n",
    "\n",
    "  auto const ct3 = solver->MakeRowConstraint(-solver->infinity(), 3.0, \"ct3\");\n",
    "  ct3->SetCoefficient(x1, -1.0);\n",
    "  ct3->SetCoefficient(x2, 2.0);\n",
    "  ct3->SetCoefficient(x3, 3.0);\n",
    "  ct3->SetCoefficient(x4, -5.0);\n",
    "\n",
    "  std::cout << \"Número de restrições = \" << solver->NumConstraints() << std::endl;"
   ]
  },
  {
   "cell_type": "code",
   "execution_count": 6,
   "metadata": {
    "slideshow": {
     "slide_type": "subslide"
    }
   },
   "outputs": [],
   "source": [
    "  // 4. Defina a função objetivo: \n",
    "  auto const objective = solver->MutableObjective();\n",
    "  objective->SetCoefficient(x1, 4.0);\n",
    "  objective->SetCoefficient(x2, 1.0);\n",
    "  objective->SetCoefficient(x3, 5.0);\n",
    "  objective->SetCoefficient(x4, 3.0);\n",
    "  objective->SetMaximization();"
   ]
  },
  {
   "cell_type": "code",
   "execution_count": 7,
   "metadata": {
    "slideshow": {
     "slide_type": "subslide"
    }
   },
   "outputs": [],
   "source": [
    "  // 5. Execute o solver e exiba os resultados.\n",
    "  auto status = solver->Solve();"
   ]
  },
  {
   "cell_type": "code",
   "execution_count": 8,
   "metadata": {
    "slideshow": {
     "slide_type": "subslide"
    }
   },
   "outputs": [
    {
     "name": "stdout",
     "output_type": "stream",
     "text": [
      "Solução:\n",
      "Valor da função objetivo = 29\n",
      "x1 = 0\n",
      "x2 = 14\n",
      "x3 = 0\n",
      "x4 = 5\n"
     ]
    }
   ],
   "source": [
    "  if (status == MPSolver::OPTIMAL)\n",
    "  {\n",
    "      std::cout << \"Solução:\" << std::endl;\n",
    "      std::cout << \"Valor da função objetivo = \" << objective->Value() << std::endl;\n",
    "      std::cout << \"x1 = \" << x1->solution_value() << std::endl;\n",
    "      std::cout << \"x2 = \" << x2->solution_value() << std::endl;\n",
    "      std::cout << \"x3 = \" << x3->solution_value() << std::endl;\n",
    "      std::cout << \"x4 = \" << x4->solution_value() << std::endl;\n",
    "  }"
   ]
  },
  {
   "cell_type": "markdown",
   "metadata": {},
   "source": [
    "## Dual\n",
    "\n",
    "Min: $w = y_1 + 55y_2 + 3y_3$\n",
    "\n",
    "S.a: \n",
    "\n",
    "\\begin{align}\n",
    " y_1 + 5y_2 -  y_3 \\ge 4 \\\\\n",
    "-y_1 +  y_2 + 2y_3 \\ge 1 \\\\\n",
    "-y_1 + 3y_2 + 3y_3 \\ge 5 \\\\\n",
    "3y_1 + 8y_2 - 5y_3 \\ge 3 \\\\\n",
    "y_1, y_2, y_3 \\ge 0\n",
    "\\end{align}"
   ]
  },
  {
   "cell_type": "code",
   "execution_count": 9,
   "metadata": {
    "slideshow": {
     "slide_type": "subslide"
    }
   },
   "outputs": [],
   "source": [
    "  // 1. Escolha o solver.\n",
    "  std::unique_ptr<MPSolver> solver(MPSolver::CreateSolver(\"Dual\", \"GLOP\"));"
   ]
  },
  {
   "cell_type": "code",
   "execution_count": 10,
   "metadata": {
    "slideshow": {
     "slide_type": "subslide"
    }
   },
   "outputs": [
    {
     "name": "stdout",
     "output_type": "stream",
     "text": [
      "Número de variáveis = 3\n"
     ]
    }
   ],
   "source": [
    "  // 2. Crie as variáveis: \n",
    "  const MPVariable * y[3];\n",
    "  for(int i=0; i < 3; i++)\n",
    "    y[i] = solver->MakeNumVar(0.0, solver->infinity(), \"\");\n",
    "  std::cout << \"Número de variáveis = \" << solver->NumVariables() << std::endl;"
   ]
  },
  {
   "cell_type": "code",
   "execution_count": 11,
   "metadata": {
    "slideshow": {
     "slide_type": "subslide"
    }
   },
   "outputs": [
    {
     "name": "stdout",
     "output_type": "stream",
     "text": [
      "Número de restrições = 4\n"
     ]
    }
   ],
   "source": [
    "  // 3. Defina as restrições: \n",
    "  auto const e1 = +1.0 * LinearExpr(y[0]) + 5.0 * LinearExpr(y[1]) - 1.0 * LinearExpr(y[2]);\n",
    "  auto const e2 = -1.0 * LinearExpr(y[0]) + 1.0 * LinearExpr(y[1]) + 2.0 * LinearExpr(y[2]);\n",
    "  auto const e3 = -1.0 * LinearExpr(y[0]) + 3.0 * LinearExpr(y[1]) + 3.0 * LinearExpr(y[2]);\n",
    "  auto const e4 = +3.0 * LinearExpr(y[0]) + 8.0 * LinearExpr(y[1]) - 5.0 * LinearExpr(y[2]);\n",
    "\n",
    "  auto const ct1 = solver->MakeRowConstraint(e1 >= 4.0);\n",
    "  auto const ct2 = solver->MakeRowConstraint(e2 >= 1.0);\n",
    "  auto const ct3 = solver->MakeRowConstraint(e3 >= 5.0);\n",
    "  auto const ct4 = solver->MakeRowConstraint(e4 >= 3.0);\n",
    "\n",
    "  std::cout << \"Número de restrições = \" << solver->NumConstraints() << std::endl;"
   ]
  },
  {
   "cell_type": "code",
   "execution_count": 12,
   "metadata": {
    "slideshow": {
     "slide_type": "subslide"
    }
   },
   "outputs": [],
   "source": [
    "  // 4. Defina a função objetivo: \n",
    "  auto const objective = solver->MutableObjective();\n",
    "  objective->MinimizeLinearExpr(1.0 * LinearExpr(y[0]) + 55.0 * LinearExpr(y[1]) + 3.0 * LinearExpr(y[2]));"
   ]
  },
  {
   "cell_type": "code",
   "execution_count": 13,
   "metadata": {
    "slideshow": {
     "slide_type": "subslide"
    }
   },
   "outputs": [
    {
     "name": "stdout",
     "output_type": "stream",
     "text": [
      "Solução:\n",
      "Valor da função objetivo = 29\n",
      "y1 = 11\n",
      "y2 = 0\n",
      "y3 = 6\n"
     ]
    }
   ],
   "source": [
    "  // 5. Execute o solver e exiba os resultados.\n",
    "  auto status = solver->Solve();\n",
    "  if (status == MPSolver::OPTIMAL)\n",
    "  {\n",
    "      std::cout << \"Solução:\" << std::endl;\n",
    "      std::cout << \"Valor da função objetivo = \" << objective->Value() << std::endl;\n",
    "      std::cout << \"y1 = \" << y[0]->solution_value() << std::endl;\n",
    "      std::cout << \"y2 = \" << y[1]->solution_value() << std::endl;\n",
    "      std::cout << \"y3 = \" << y[2]->solution_value() << std::endl;\n",
    "  }"
   ]
  },
  {
   "cell_type": "code",
   "execution_count": 14,
   "metadata": {},
   "outputs": [
    {
     "data": {
      "text/plain": [
       "0.0000000"
      ]
     },
     "execution_count": 14,
     "metadata": {},
     "output_type": "execute_result"
    }
   ],
   "source": [
    "ct1->dual_value()//x1"
   ]
  },
  {
   "cell_type": "code",
   "execution_count": 15,
   "metadata": {},
   "outputs": [
    {
     "data": {
      "text/plain": [
       "14.000000"
      ]
     },
     "execution_count": 15,
     "metadata": {},
     "output_type": "execute_result"
    }
   ],
   "source": [
    "ct2->dual_value()//x2"
   ]
  },
  {
   "cell_type": "code",
   "execution_count": 16,
   "metadata": {},
   "outputs": [
    {
     "data": {
      "text/plain": [
       "0.0000000"
      ]
     },
     "execution_count": 16,
     "metadata": {},
     "output_type": "execute_result"
    }
   ],
   "source": [
    "ct3->dual_value()//x3"
   ]
  },
  {
   "cell_type": "code",
   "execution_count": 17,
   "metadata": {},
   "outputs": [
    {
     "data": {
      "text/plain": [
       "5.0000000"
      ]
     },
     "execution_count": 17,
     "metadata": {},
     "output_type": "execute_result"
    }
   ],
   "source": [
    "ct4->dual_value()//x4"
   ]
  },
  {
   "cell_type": "code",
   "execution_count": null,
   "metadata": {},
   "outputs": [],
   "source": []
  }
 ],
 "metadata": {
  "kernelspec": {
   "display_name": "C++14",
   "language": "C++14",
   "name": "xcpp14"
  },
  "language_info": {
   "codemirror_mode": "text/x-c++src",
   "file_extension": ".cpp",
   "mimetype": "text/x-c++src",
   "name": "c++",
   "version": "14"
  }
 },
 "nbformat": 4,
 "nbformat_minor": 4
}
