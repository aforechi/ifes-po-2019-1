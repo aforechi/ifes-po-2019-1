{
 "cells": [
  {
   "cell_type": "markdown",
   "metadata": {},
   "source": [
    "# Teoria da Dualidade"
   ]
  },
  {
   "cell_type": "markdown",
   "metadata": {},
   "source": [
    "## Primal\n",
    "\n",
    "Max: $z = 4x_1 + x_2 + 5x_3 + 3x_4$\n",
    "\n",
    "S.a: \n",
    "\n",
    "\\begin{align}\n",
    "x_1 - x_2 - x_3 + 3x_4 \\le 1 \\\\\n",
    "5x_1 + x_2 + 3x_3 + 8x_4 \\le 55 \\\\\n",
    "-x_1 + 2x_2 + 3x_3 - 5x_4 \\le 3 \\\\\n",
    "x_1, x_2, x_3, x_4 \\ge 0\n",
    "\\end{align}"
   ]
  },
  {
   "cell_type": "code",
   "execution_count": null,
   "metadata": {},
   "outputs": [],
   "source": [
    "#include<iostream>"
   ]
  },
  {
   "cell_type": "code",
   "execution_count": null,
   "metadata": {
    "slideshow": {
     "slide_type": "subslide"
    }
   },
   "outputs": [],
   "source": [
    "#include \"setup.h\"\n",
    "#include \"ortools/linear_solver/linear_solver.h\"\n",
    "#include \"ortools/linear_solver/linear_solver.pb.h\"\n",
    "\n",
    "using namespace operations_research;"
   ]
  },
  {
   "cell_type": "code",
   "execution_count": null,
   "metadata": {
    "slideshow": {
     "slide_type": "subslide"
    }
   },
   "outputs": [],
   "source": [
    "{\n",
    "  // 1. Escolha o solver.\n",
    "  MPSolver solver(\"programa_simples\", MPSolver::GLOP_LINEAR_PROGRAMMING);\n",
    "\n",
    "  // 2. Crie as variáveis: \n",
    "  auto const x1 = solver.MakeNumVar(0.0, solver.infinity(), \"x1\");\n",
    "  auto const x2 = solver.MakeNumVar(0.0, solver.infinity(), \"x2\");\n",
    "  auto const x3 = solver.MakeNumVar(0.0, solver.infinity(), \"x3\");\n",
    "  auto const x4 = solver.MakeNumVar(0.0, solver.infinity(), \"x4\");\n",
    "\n",
    "  std::cout << \"Número de variáveis = \" << solver.NumVariables() << std::endl;\n",
    "\n",
    "  // 3. Defina as restrições: \n",
    "  auto const ct1 = solver.MakeRowConstraint(-solver.infinity(), 1.0, \"ct1\");\n",
    "  ct1->SetCoefficient(x1, 1.0);\n",
    "  ct1->SetCoefficient(x2, -1.0);\n",
    "  ct1->SetCoefficient(x3, -1.0);\n",
    "  ct1->SetCoefficient(x4, 3.0);\n",
    "\n",
    "  auto const ct2 = solver.MakeRowConstraint(-solver.infinity(), 55.0, \"ct2\");\n",
    "  ct2->SetCoefficient(x1, 5.0);\n",
    "  ct2->SetCoefficient(x2, 1.0);\n",
    "  ct2->SetCoefficient(x3, 3.0);\n",
    "  ct2->SetCoefficient(x4, 8.0);\n",
    "    \n",
    "  auto const ct3 = solver.MakeRowConstraint(-solver.infinity(), 3.0, \"ct3\");\n",
    "  ct3->SetCoefficient(x1, -1.0);\n",
    "  ct3->SetCoefficient(x2, 2.0);\n",
    "  ct3->SetCoefficient(x3, 3.0);\n",
    "  ct3->SetCoefficient(x4, -5.0);\n",
    "  std::cout << \"Número de restrições = \" << solver.NumConstraints() << std::endl;\n",
    "\n",
    "  // 4. Defina a função objetivo: \n",
    "  auto const objective = solver.MutableObjective();\n",
    "  objective->SetCoefficient(x1, 4.0);\n",
    "  objective->SetCoefficient(x2, 1.0);\n",
    "  objective->SetCoefficient(x3, 5.0);\n",
    "  objective->SetCoefficient(x4, 3.0);\n",
    "  objective->SetMaximization();\n",
    "\n",
    "  // 5. Execute o solver e exiba os resultados.\n",
    "  auto status = solver.Solve();\n",
    "  if (status == MPSolver::OPTIMAL)\n",
    "  {\n",
    "      std::cout << \"Solução:\" << std::endl;\n",
    "      std::cout << \"Valor da função objetivo = \" << objective->Value() << std::endl;\n",
    "      std::cout << \"x1 = \" << x1->solution_value() << std::endl;\n",
    "      std::cout << \"x2 = \" << x2->solution_value() << std::endl;\n",
    "      std::cout << \"x3 = \" << x3->solution_value() << std::endl;\n",
    "      std::cout << \"x4 = \" << x4->solution_value() << std::endl;\n",
    "  }\n",
    "}"
   ]
  },
  {
   "cell_type": "markdown",
   "metadata": {},
   "source": [
    "## Dual\n",
    "\n",
    "Min: $w = y_1 + 55y_2 + 3y_3$\n",
    "\n",
    "S.a: \n",
    "\n",
    "\\begin{align}\n",
    " y_1 + 5y_2 -  y_3 \\ge 4 \\\\\n",
    "-y_1 +  y_2 + 2y_3 \\ge 1 \\\\\n",
    "-y_1 + 3y_2 + 3y_3 \\ge 5 \\\\\n",
    "3y_1 + 8y_2 - 5y_3 \\ge 3 \\\\\n",
    "y_1, y_2, y_3 \\ge 0\n",
    "\\end{align}"
   ]
  },
  {
   "cell_type": "code",
   "execution_count": null,
   "metadata": {
    "slideshow": {
     "slide_type": "subslide"
    }
   },
   "outputs": [],
   "source": [
    "{\n",
    "  // 1. Escolha o solver.\n",
    "  MPSolver solver(\"programa_simples\", MPSolver::GLOP_LINEAR_PROGRAMMING);\n",
    "\n",
    "  // 2. Crie as variáveis: \n",
    "  auto const y1 = solver.MakeNumVar(0.0, solver.infinity(), \"y1\");\n",
    "  auto const y2 = solver.MakeNumVar(0.0, solver.infinity(), \"y2\");\n",
    "  auto const y3 = solver.MakeNumVar(0.0, solver.infinity(), \"y3\");\n",
    "  \n",
    "  std::cout << \"Número de variáveis = \" << solver.NumVariables() << std::endl;\n",
    "\n",
    "  // 3. Defina as restrições: \n",
    "  auto const ct1 = solver.MakeRowConstraint(4.0, solver.infinity(), \"ct1\");\n",
    "  ct1->SetCoefficient(y1, 1.0);\n",
    "  ct1->SetCoefficient(y2, 5.0);\n",
    "  ct1->SetCoefficient(y3, -1.0);\n",
    "\n",
    "  auto const ct2 = solver.MakeRowConstraint(1.0, solver.infinity(), \"ct2\");\n",
    "  ct2->SetCoefficient(y1, -1.0);\n",
    "  ct2->SetCoefficient(y2, 1.0);\n",
    "  ct2->SetCoefficient(y3, 2.0);\n",
    "    \n",
    "  auto const ct3 = solver.MakeRowConstraint(5.0, solver.infinity(), \"ct3\");\n",
    "  ct3->SetCoefficient(y1, -1.0);\n",
    "  ct3->SetCoefficient(y2, 3.0);\n",
    "  ct3->SetCoefficient(y3, 3.0);\n",
    "\n",
    "  auto const ct4 = solver.MakeRowConstraint(3.0, solver.infinity(), \"ct4\");\n",
    "  ct4->SetCoefficient(y1, 3.0);\n",
    "  ct4->SetCoefficient(y2, 8.0);\n",
    "  ct4->SetCoefficient(y3, -5.0);\n",
    "\n",
    "  std::cout << \"Número de restrições = \" << solver.NumConstraints() << std::endl;\n",
    "\n",
    "  // 4. Defina a função objetivo: \n",
    "  auto const objective = solver.MutableObjective();\n",
    "  objective->SetCoefficient(y1, 1.0);\n",
    "  objective->SetCoefficient(y2, 55.0);\n",
    "  objective->SetCoefficient(y3, 3.0);\n",
    "  objective->SetMinimization();\n",
    "\n",
    "  // 5. Execute o solver e exiba os resultados.\n",
    "  auto status = solver.Solve();\n",
    "  if (status == MPSolver::OPTIMAL)\n",
    "  {\n",
    "      std::cout << \"Solução:\" << std::endl;\n",
    "      std::cout << \"Valor da função objetivo = \" << objective->Value() << std::endl;\n",
    "      std::cout << \"y1 = \" << y1->solution_value() << std::endl;\n",
    "      std::cout << \"y2 = \" << y2->solution_value() << std::endl;\n",
    "      std::cout << \"y3 = \" << y3->solution_value() << std::endl;\n",
    "  }\n",
    "}"
   ]
  },
  {
   "cell_type": "code",
   "execution_count": null,
   "metadata": {},
   "outputs": [],
   "source": []
  }
 ],
 "metadata": {
  "kernelspec": {
   "display_name": "C++14",
   "language": "C++14",
   "name": "xcpp14"
  },
  "language_info": {
   "codemirror_mode": "text/x-c++src",
   "file_extension": ".cpp",
   "mimetype": "text/x-c++src",
   "name": "c++",
   "version": "14"
  }
 },
 "nbformat": 4,
 "nbformat_minor": 4
}
