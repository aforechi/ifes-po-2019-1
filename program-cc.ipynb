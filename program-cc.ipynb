{
 "cells": [
  {
   "cell_type": "code",
   "execution_count": 1,
   "metadata": {},
   "outputs": [],
   "source": [
    "#include \"setup.h\""
   ]
  },
  {
   "cell_type": "code",
   "execution_count": 2,
   "metadata": {},
   "outputs": [],
   "source": [
    "#include \"ortools/linear_solver/linear_solver.h\"\n",
    "#include \"ortools/linear_solver/linear_solver.pb.h\"\n",
    "\n",
    "using namespace operations_research;"
   ]
  },
  {
   "cell_type": "code",
   "execution_count": 5,
   "metadata": {},
   "outputs": [
    {
     "name": "stdout",
     "output_type": "stream",
     "text": [
      "\n",
      "Solution:\n",
      "x = 1\n",
      "y = 2"
     ]
    }
   ],
   "source": [
    "{\n",
    "    MPSolver solver(\"Glop\", MPSolver::GLOP_LINEAR_PROGRAMMING);\n",
    "    \n",
    "    // Create the variables x and y.\n",
    "    MPVariable* const x = solver.MakeNumVar(0.0, 1, \"x\");\n",
    "    MPVariable* const y = solver.MakeNumVar(0.0, 2, \"y\");\n",
    "    \n",
    "    // Create the objective function, x + y.\n",
    "    MPObjective* const objective = solver.MutableObjective();\n",
    "    objective->SetCoefficient(x, 1);\n",
    "    objective->SetCoefficient(y, 1);\n",
    "    objective->SetMaximization();\n",
    "    \n",
    "    // Call the solver and display the results.\n",
    "    solver.Solve();\n",
    "    std::cout << \"\\nSolution:\";\n",
    "    std::cout << \"\\nx = \" << x->solution_value();\n",
    "    std::cout << \"\\ny = \" << y->solution_value();\n",
    "}"
   ]
  },
  {
   "cell_type": "code",
   "execution_count": null,
   "metadata": {},
   "outputs": [],
   "source": []
  }
 ],
 "metadata": {
  "kernelspec": {
   "display_name": "C++14",
   "language": "C++14",
   "name": "xeus-cling-cpp14"
  },
  "language_info": {
   "codemirror_mode": "text/x-c++src",
   "file_extension": ".cpp",
   "mimetype": "text/x-c++src",
   "name": "c++",
   "version": "14"
  }
 },
 "nbformat": 4,
 "nbformat_minor": 2
}
