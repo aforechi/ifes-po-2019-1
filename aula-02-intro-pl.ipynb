{
 "cells": [
  {
   "cell_type": "markdown",
   "metadata": {
    "slideshow": {
     "slide_type": "slide"
    },
    "tags": []
   },
   "source": [
    "# Introdução a Otimização Linear"
   ]
  },
  {
   "cell_type": "markdown",
   "metadata": {
    "slideshow": {
     "slide_type": "subslide"
    },
    "tags": []
   },
   "source": [
    "- O método de enumeração de soluções básicas é muito ineficiente.\n",
    "    - O número de possíveis bases pode ser enorme\n",
    "    - Para encontrar a solução associada a cada base é preciso resolver um sistema linear\n",
    "\n",
    "- O método simplex resolve ambos os problemas\n",
    "    - Só considera um número relativamente pequeno de bases\n",
    "    - Não é necessário resolver um sistema linear inteiro para encontrar a solução associada a cada base"
   ]
  },
  {
   "cell_type": "markdown",
   "metadata": {
    "slideshow": {
     "slide_type": "subslide"
    },
    "tags": []
   },
   "source": [
    "**Técnica criada por George B. Dantzig em 1947 e que se propõe a otimizar (maximizar ou minimizar) o valor de uma função linear, respeitando um conjunto de restrições (equações ou inequações) lineares.**\n",
    "\n",
    "\n",
    "> O principal solver de otimização linear do OR-Tools é o Glop, o sistema de programação linear do Google. É rápido, eficiente em termos de memória e numericamente estável. A próxima seção mostra como usar o Glop para resolver um problema linear simples."
   ]
  },
  {
   "cell_type": "markdown",
   "metadata": {
    "slideshow": {
     "slide_type": "slide"
    },
    "tags": []
   },
   "source": [
    "## Velho exemplo de Mix de Produção\n",
    "\n",
    "<img src=\"img/simplex-mix.png\" width=\"75%\">"
   ]
  },
  {
   "cell_type": "markdown",
   "metadata": {
    "slideshow": {
     "slide_type": "slide"
    },
    "tags": []
   },
   "source": [
    "## Método Simplex\n",
    "\n",
    "    O método exige que o PL esteja no formato padrão.\n",
    "\n",
    "    Introduzir variáveis de folga\n",
    "    \n",
    "Maximizar $Z = 4 x_1 + 6 x_2$\n",
    "\n",
    "Sujeito a:\n",
    "\n",
    "$1.5 x_1 + 4.0 x_2 \\le 24$\n",
    "\n",
    "$3.0 x_1 + 1.5 x_2 \\le 21$\n",
    "\n",
    "$1.0 x_1 + 1.0 x_2 \\le 8$\n",
    "\n",
    "$x_1 , x_2 \\ge 0$\n"
   ]
  },
  {
   "cell_type": "markdown",
   "metadata": {
    "slideshow": {
     "slide_type": "slide"
    },
    "tags": []
   },
   "source": [
    "## Método Simplex\n",
    "\n",
    "    PL no formato padrão.\n",
    "    \n",
    "Maximizar $Z = 4 x_1 + 6 x_2$\n",
    "\n",
    "Sujeito a:\n",
    "\n",
    "$1.5 x_1 + 4.0 x_2 + x_3 = 24$\n",
    "\n",
    "$3.0 x_1 + 1.5 x_2 + x_4 = 21$\n",
    "\n",
    "$1.0 x_1 + 1.0 x_2 + x_5 = 8$\n",
    "\n",
    "$x_1 , x_2, x_3, x_4, x_5 \\ge 0$\n"
   ]
  },
  {
   "cell_type": "markdown",
   "metadata": {
    "slideshow": {
     "slide_type": "slide"
    },
    "tags": []
   },
   "source": [
    "## Método Simplex\n",
    "\n",
    "    As variáveis de folga formam uma base que é uma matriz identidade => a solução básica viável associada é facilmente encontrada.\n",
    "    \n",
    "Maximizar $Z = 4 x_1 + 6 x_2$\n",
    "\n",
    "Sujeito a:\n",
    "\n",
    "$1.5 x_1 + 4.0 x_2 + 1x_3 + 0x_4 + 0x_5 = 24$\n",
    "\n",
    "$3.0 x_1 + 1.5 x_2 + 0x_3 + 1x_4 + 0x_5 = 21$\n",
    "\n",
    "$1.0 x_1 + 1.0 x_2 + 0x_3 + 0x_4 + 1x_5 = 8$\n",
    "\n",
    "$x_1 , x_2, x_3, x_4, x_5 \\ge 0$\n"
   ]
  },
  {
   "cell_type": "markdown",
   "metadata": {
    "slideshow": {
     "slide_type": "slide"
    },
    "tags": []
   },
   "source": [
    "## Método Simplex\n",
    "\n",
    "    Reescrever o sistema isolando as variáveis básicas do lado esquerdo das equações. \n",
    "    \n",
    "    As variáveis não-básicas e os termos constantes ficam do lado direito. \n",
    "    \n",
    "    A variável z (valor da função objetivo) também é representada.\n",
    "    \n",
    "\n",
    "<table>\n",
    "    <tr><td> \n",
    "        $x_3 = 24 - 1.5 x_1 - 4.0 x_2 $\n",
    "    </td></tr>\n",
    "    <tr><td>\n",
    "        $x_4 = 21 - 3.0 x_1 - 1.5 x_2 $\n",
    "    </td></tr>\n",
    "    <tr><td>\n",
    "        $x_5 = 8 - 1.0 x_1 - 1.0 x_2 $\n",
    "    </td></tr>\n",
    "    <tr><td>\n",
    "$z = 4x_1 + 6x_2$\n",
    "    </td></tr>\n",
    "</table>\n",
    "    \n",
    "\n",
    "\n"
   ]
  },
  {
   "cell_type": "markdown",
   "metadata": {
    "slideshow": {
     "slide_type": "slide"
    },
    "tags": []
   },
   "source": [
    "### A solução básica inicial:\n",
    "\n",
    "| Variável Não Básica | Variável Básica |\n",
    "| --- | --- |\n",
    "| $x_1 = 0$ | $x_3 = 24$ |\n",
    "| $x_2 = 0$ | $x_4 = 21$ |\n",
    "|  | $x_5 = 8$ |\n",
    "\n",
    "### O valor da FO: $z = 0$"
   ]
  },
  {
   "cell_type": "markdown",
   "metadata": {
    "slideshow": {
     "slide_type": "slide"
    },
    "tags": []
   },
   "source": [
    "### Dicionário\n",
    "\n",
    "    Um PL reescrito de forma a que as variáveis de uma solução básica viável fiquem isoladas no seu lado esquerdo está em forma de “dicionário”\n",
    "\n",
    "Essa representação é muito conveniente, porque o valor das variáveis básicas já é dado pelas constantes (não é necessário resolver o sistema $Bx_B = b$ )."
   ]
  },
  {
   "cell_type": "markdown",
   "metadata": {
    "slideshow": {
     "slide_type": "slide"
    },
    "tags": []
   },
   "source": [
    "### Solução Básica Inicial\n",
    "\n",
    "<img src=\"img/simplex-mix-sol-1.png\" width=\"75%\">"
   ]
  },
  {
   "cell_type": "markdown",
   "metadata": {
    "slideshow": {
     "slide_type": "slide"
    },
    "tags": []
   },
   "source": [
    "### Melhorando a solução inicial\n",
    "\n",
    "    Escolher uma variável não-básica (do lado direito do dicionário) para ter seu valor aumentado,  de forma a também aumentar o valor da função objetivo.\n",
    "\n",
    "<table>\n",
    "    <tr><td> \n",
    "        $\\boldsymbol{x_3} = 24 - 1.5 x_1 - 4.0 x_2 $\n",
    "    </td></tr>\n",
    "    <tr><td>\n",
    "        $x_4 = 21 - 3.0 x_1 - 1.5 x_2 $\n",
    "    </td></tr>\n",
    "    <tr><td>\n",
    "        $x_5 = 8 - 1.0 x_1 - 1.0 x_2 $\n",
    "    </td></tr>\n",
    "    <tr><td>\n",
    "        $z = 4x_1 + \\boldsymbol{6x_2}$\n",
    "    </td></tr>\n",
    "</table>\n",
    "\n",
    "- Escolhemos $x_2$ para entrar por aumentar $Z$ mais rapidamente. \n",
    "\n",
    "- O maior valor que $x_2$ pode ter sem que alguma variável básica fique com valor negativo é dado por:\n",
    "\n",
    "$$x_2 = min\\left\\{ \\boldsymbol{\\frac{24}{4}} , \\frac{21}{1.5} , \\frac{8}{1} \\right\\}=6$$\n",
    "\n",
    "- Escolhermos $x_3$ para sair, pois é a variável que passou a valer $0$ após a entrada de $x_2$ na base.\n",
    "\n",
    "- Nesse momento já sabemos que a nova solução vai ter $Z=36$. \n",
    "\n"
   ]
  },
  {
   "cell_type": "markdown",
   "metadata": {
    "slideshow": {
     "slide_type": "slide"
    },
    "tags": []
   },
   "source": [
    "### Montando o novo dicionário\n",
    "\n",
    "- O sistema é reescrito de forma a que $x_2$ fique isolada no lado esquerdo e $x_3$ vá para o lado direito.\n",
    "- Substituindo a equação para $x_2$ nas equações restantes, todo o sistema é atualizado:\n",
    "<table>\n",
    "    <tr><td> \n",
    "        $\\boldsymbol{x_2 = 6 - \\frac38 x_1 - \\frac14 x_3} $\n",
    "    </td></tr>\n",
    "    <tr><td>\n",
    "        $x_4 = 21 - 3.0 x_1 - 1.5 \\left( \\boldsymbol{6 - \\frac38 x_1 - \\frac14 x_3} \\right) $\n",
    "    </td></tr>\n",
    "    <tr><td>\n",
    "        $x_5 = 8 - 1.0 x_1 - 1.0 \\left( \\boldsymbol{6 - \\frac38 x_1 - \\frac14 x_3} \\right) $\n",
    "    </td></tr>\n",
    "    <tr><td>\n",
    "        $z = 4x_1 + 6 \\left( \\boldsymbol{6 - \\frac38 x_1 - \\frac14 x_3} \\right)$\n",
    "    </td></tr>\n",
    "</table>\n",
    "\n"
   ]
  },
  {
   "cell_type": "markdown",
   "metadata": {
    "slideshow": {
     "slide_type": "slide"
    },
    "tags": []
   },
   "source": [
    "### Novo dicionário\n",
    "\n",
    "- Dizemos que a variável $x_3$ saiu da base e a variável $x_2$ entrou na base.\n",
    "\n",
    "<table>\n",
    "    <tr><td> \n",
    "        $x_2 = 6 - \\frac38 x_1 - \\frac14 x_3 $\n",
    "    </td></tr>\n",
    "    <tr><td>\n",
    "        $x_4 = 12 - \\frac{39}{16} x_1 + \\frac38 x_3 $\n",
    "    </td></tr>\n",
    "    <tr><td>\n",
    "        $x_5 = 2 - \\frac58 x_1 + \\frac14 x_3 $\n",
    "    </td></tr>\n",
    "    <tr><td>\n",
    "        $z = 36 + \\frac74 x_1 - \\frac32 x_3$\n",
    "    </td></tr>\n",
    "</table>\n",
    "\n"
   ]
  },
  {
   "cell_type": "markdown",
   "metadata": {
    "slideshow": {
     "slide_type": "slide"
    },
    "tags": []
   },
   "source": [
    "### Nova solução básica viável:\n",
    "\n",
    "| Variável Não Básica | Variável Básica |\n",
    "| --- | --- |\n",
    "| $x_1 = 0$ | $x_2 = 6$ |\n",
    "| $x_3 = 0$ | $x_4 = 12$ |\n",
    "|  | $x_5 = 2$ |\n",
    "\n",
    "### O valor da FO: $z = 36$"
   ]
  },
  {
   "cell_type": "markdown",
   "metadata": {
    "slideshow": {
     "slide_type": "slide"
    },
    "tags": []
   },
   "source": [
    "### Nova Solução Básica Viável\n",
    "\n",
    "<img src=\"img/simplex-mix-sol-2.png\" width=\"75%\">"
   ]
  },
  {
   "cell_type": "markdown",
   "metadata": {
    "slideshow": {
     "slide_type": "slide"
    },
    "tags": []
   },
   "source": [
    "### Melhorando a solução\n",
    "\n",
    "    Ainda é possível aumentar o valor de Z?\n",
    "\n",
    "<table>\n",
    "    <tr><td> \n",
    "        $x_2 = 6 - \\frac38 x_1 - \\frac14 x_3 $\n",
    "    </td></tr>\n",
    "    <tr><td>\n",
    "        $x_4 = 12 - \\frac{39}{16} x_1 + \\frac38 x_3 $\n",
    "    </td></tr>\n",
    "    <tr><td>\n",
    "        $\\boldsymbol{x_5} = 2 - \\frac58 x_1 + \\frac14 x_3 $\n",
    "    </td></tr>\n",
    "    <tr><td>\n",
    "        $z = 36 \\boldsymbol{+ \\frac74 x_1} - \\frac32 x_3$\n",
    "    </td></tr>\n",
    "</table>\n",
    "\n",
    "- Escolhemos $x_1$ para entrar por aumentar $Z$ mais rapidamente. \n",
    "\n",
    "- Escolhemos o maior valor que $x_1$ pode ter sem que alguma variável básica fique com valor negativo:\n",
    "\n",
    "$$x_1 = min\\left\\{ \\frac{6}{\\frac38} , \\frac{12}{\\frac{39}{16}} , \\boldsymbol{\\frac{2}{\\frac58}} \\right\\}=\\frac{16}{5}$$\n",
    "\n",
    "- Escolhermos $x_5$ para sair, pois é a variável que passou a valer $0$ após a entrada de $x_1$ na base.\n",
    "\n",
    "- Nesse momento já sabemos que a nova solução vai ter $Z=36 + \\frac74 \\times \\frac{16}{5}=41.6$. \n",
    "\n"
   ]
  },
  {
   "cell_type": "markdown",
   "metadata": {
    "slideshow": {
     "slide_type": "slide"
    },
    "tags": []
   },
   "source": [
    "### Montando o novo dicionário\n",
    "\n",
    "- O sistema é reescrito de forma que $x_1$ fique isolada no lado esquerdo e $x_5$ vá para o lado direito.\n",
    "- Substituindo a equação para $x_1$ nas equações restantes, todo o sistema é atualizado:\n",
    "\n",
    "<table>\n",
    "    <tr><td> \n",
    "        $x_2 = 6 - \\frac38 \\left( \\boldsymbol{ \\frac{16}{5} + \\frac25 x_3 - \\frac85 x_5 } \\right) - \\frac14 x_3 $\n",
    "    </td></tr>\n",
    "    <tr><td>\n",
    "        $x_4 = 12 - \\frac{39}{16} \\left( \\boldsymbol{ \\frac{16}{5} + \\frac25 x_3 - \\frac85 x_5 } \\right) + \\frac38 x_3 $\n",
    "    </td></tr>\n",
    "    <tr><td>\n",
    "        $\\boldsymbol{ x_1 = \\frac{16}{5} + \\frac25 x_3 - \\frac85 x_5 } $\n",
    "    </td></tr>\n",
    "    <tr><td>\n",
    "        $z = 36 + \\frac74 \\left( \\boldsymbol{ \\frac{16}{5} + \\frac25 x_3 - \\frac85 x_5 } \\right) - \\frac32 x_3$\n",
    "    </td></tr>\n",
    "</table>\n"
   ]
  },
  {
   "cell_type": "markdown",
   "metadata": {
    "slideshow": {
     "slide_type": "slide"
    },
    "tags": []
   },
   "source": [
    "### Novo dicionário\n",
    "\n",
    "- Dizemos que a variável $x_5$ saiu da base e a variável $x_1$ entrou na base.\n",
    "\n",
    "\n",
    "<table>\n",
    "    <tr><td> \n",
    "        $x_2 = \\frac{24}{5} - \\frac25 x_3 + \\frac35 x_5 $\n",
    "    </td></tr>\n",
    "    <tr><td>\n",
    "        $x_4 = \\frac{21}{5} - \\frac35 x_3 + \\frac{39}{10} x_5 $\n",
    "    </td></tr>\n",
    "    <tr><td>\n",
    "        $x_1 = \\frac{16}{5} + \\frac25 x_3 - \\frac85 x_5 $\n",
    "    </td></tr>\n",
    "    <tr><td>\n",
    "        $z = \\frac{208}{5} - \\frac45 x_3 - \\frac{14}{5} x_5$\n",
    "    </td></tr>\n",
    "</table>\n",
    "\n",
    "\n"
   ]
  },
  {
   "cell_type": "markdown",
   "metadata": {
    "slideshow": {
     "slide_type": "slide"
    },
    "tags": []
   },
   "source": [
    "### Nova Solução Básica Viável\n",
    "\n",
    "<img src=\"img/simplex-mix-sol-3.png\" width=\"75%\">"
   ]
  },
  {
   "cell_type": "markdown",
   "metadata": {
    "slideshow": {
     "slide_type": "slide"
    },
    "tags": []
   },
   "source": [
    "### Ainda é possível aumentar o valor da função objetivo?\n",
    "\n",
    "$$Z = \\frac{208}{5} - \\frac45 x_3 - \\frac{14}{5} x_5$$\n",
    "\n",
    "    Não existem variáveis não-básicas que, quando aumentadas, resultem em aumento no valor da função objetivo.\n",
    "\n",
    "    Logo, a solução básica mostrada nesse sistema é ótima.\n"
   ]
  },
  {
   "cell_type": "markdown",
   "metadata": {
    "slideshow": {
     "slide_type": "slide"
    },
    "tags": []
   },
   "source": [
    "# O Método Simplex\n",
    "\n",
    "1. Montar um dicionário inicial\n",
    "2. Olhando a equação do z, escolha uma variável não-básica $x_{in}$ cujo aumento melhoraria a solução corrente do dicionário (coeficiente negativo se for minimização, positivo se for maximização). Se não houver tal variável, a solução corrente é ótima.\n",
    "3. Encontre o mínimo valor para que $x_{in}$ não torne uma variável básica negativa. Se esse valor for infinito, o PL é ilimitado. Caso contrário, escolha uma variável $x_{out}$ que bloqueou o crescimento de $x_{in}$.\n",
    "4. A variável $x_{in}$ entra na base, $x_{out}$ sai da base. Atualize o dicionário colocando $x_{in}$ isolado do lado esquerdo, $x_{out}$ vai pro lado direito. \n",
    "5. Volte para o Passo 2.\n"
   ]
  },
  {
   "cell_type": "markdown",
   "metadata": {
    "slideshow": {
     "slide_type": "slide"
    },
    "tags": []
   },
   "source": [
    "## Novo exemplo de Mix de Produção\n",
    "\n",
    "A WYNDOR GLASS CO. fabrica produtos de vidro de alta qualidade, entre os quais janelas e portas de vidro. A empresa possui três fábricas industriais. As esquadrias de alumínio e ferragens são feitas na Fábrica 1, as esquadrias de madeira são produzidas na Fábrica 2 e, finalmente, a Fábrica 3 produz o vidro e monta os produtos.\n",
    "\n",
    "Em conseqüência da queda nos ganhos, a direção decidiu modernizar a linha de produtos da empresa. Produtos não rentáveis estão sendo descontinuados, liberando capacidade produtiva para o lançamento de dois novos produtos com grande potencial de vendas:\n",
    "- Produto 1: Uma porta de vidro de 2,5 m com esquadria de alumínio\n",
    "- Produto 2: Uma janela duplamente adornada com esquadrias de madeira de 1,20 X 1,80 m"
   ]
  },
  {
   "cell_type": "markdown",
   "metadata": {
    "slideshow": {
     "slide_type": "slide"
    },
    "tags": []
   },
   "source": [
    "<img src=\"img/Fig3.14.png\">"
   ]
  },
  {
   "cell_type": "markdown",
   "metadata": {
    "slideshow": {
     "slide_type": "slide"
    },
    "tags": []
   },
   "source": [
    "O produto 1 requer parte da capacidade produtiva das Fábricas 1 e 3, mas nenhuma da Fábrica 2. O produto 2 precisa apenas das Fábricas 2 e 3. \n",
    "\n",
    "A divisão de marketing concluiu que a empresa poderia vender tanto quanto fosse possível produzir desses produtos por essas fábricas. \n",
    "\n",
    "Entretanto, pelo fato de ambos os produtos poderem estar competindo pela mesma capacidade produtiva na Fábrica 3, não está claro qual mix dos dois produtos seria o mais lucrativo. \n",
    "\n",
    "\n",
    "**Maximize $Z = 3x_1 + 5x_2$ sujeito às seguintes restrições:**\n",
    "\\begin{equation}\n",
    "x_1 \t\\le\t4\\\\\n",
    "2x_2 \t\\le\t12\\\\\n",
    "3x_1 + 2x_2\t\\le\t18\\\\\n",
    "\\end{equation}\n",
    "\n",
    "Tanto a função objetivo, $Z = 3x_1 + 5x_2$, quanto as restrições são dadas por expressões lineares, o que torna um problema linear."
   ]
  },
  {
   "cell_type": "markdown",
   "metadata": {
    "slideshow": {
     "slide_type": "slide"
    },
    "tags": []
   },
   "source": [
    "As restrições definem a região viável, que é o triângulo mostrado abaixo, incluindo seu interior.\n",
    "\n",
    "<img src=\"img/Fig4.1.png\">"
   ]
  },
  {
   "cell_type": "markdown",
   "metadata": {
    "slideshow": {
     "slide_type": "slide"
    },
    "tags": []
   },
   "source": [
    "## As seções a seguir explicam como resolver o problema passo a passo.\n",
    "0. Incluir as bibliotecas"
   ]
  },
  {
   "cell_type": "code",
   "execution_count": 1,
   "metadata": {
    "slideshow": {
     "slide_type": "subslide"
    },
    "tags": []
   },
   "outputs": [],
   "source": [
    "#include \"setup.h\"\n",
    "#include \"ortools/linear_solver/linear_solver.h\"\n",
    "#include \"ortools/linear_solver/linear_solver.pb.h\"\n",
    "\n",
    "using namespace operations_research;"
   ]
  },
  {
   "cell_type": "markdown",
   "metadata": {
    "slideshow": {
     "slide_type": "slide"
    },
    "tags": []
   },
   "source": [
    "1. Escolha o solver.\n",
    "> O código a seguir declara o solucionador. O MPsolver é um invólucro para vários solucionadores diferentes, incluindo o Glop. Escolha GLOP_LINEAR_PROGRAMMING para informar ao solucionador para usar Glop."
   ]
  },
  {
   "cell_type": "code",
   "execution_count": 2,
   "metadata": {
    "slideshow": {
     "slide_type": "subslide"
    },
    "tags": []
   },
   "outputs": [],
   "source": [
    "MPSolver solver(\"ExemploLinear\", MPSolver::GLOP_LINEAR_PROGRAMMING);"
   ]
  },
  {
   "cell_type": "markdown",
   "metadata": {
    "slideshow": {
     "slide_type": "slide"
    },
    "tags": []
   },
   "source": [
    "2. Crie as variáveis.\n",
    "> crie variáveis x e y cujos valores estão no intervalo de 0 a infinito. Ou seja, x e y são variáveis não negativas."
   ]
  },
  {
   "cell_type": "code",
   "execution_count": 3,
   "metadata": {
    "slideshow": {
     "slide_type": "subslide"
    },
    "tags": []
   },
   "outputs": [
    {
     "name": "stdout",
     "output_type": "stream",
     "text": [
      "Número de variáveis = 2"
     ]
    }
   ],
   "source": [
    "auto const infinity = solver.infinity();\n",
    "\n",
    "auto const x1 = solver.MakeNumVar(0.0, infinity, \"x1\");\n",
    "auto const x2 = solver.MakeNumVar(0.0, infinity, \"x2\");\n",
    "\n",
    "std::cout << \"Número de variáveis = \" << solver.NumVariables();"
   ]
  },
  {
   "cell_type": "markdown",
   "metadata": {
    "slideshow": {
     "slide_type": "slide"
    },
    "tags": []
   },
   "source": [
    "3. Defina as restrições.\n",
    "> defina as restrições das variáveis. Atribua a cada restrição um nome exclusivo (como restrição 0) e defina os coeficientes para a restrição."
   ]
  },
  {
   "cell_type": "code",
   "execution_count": 4,
   "metadata": {
    "slideshow": {
     "slide_type": "subslide"
    },
    "tags": []
   },
   "outputs": [
    {
     "name": "stdout",
     "output_type": "stream",
     "text": [
      "Número de restrições = 3"
     ]
    }
   ],
   "source": [
    "// x1 <= 4\n",
    "auto const c0 = solver.MakeRowConstraint(-infinity, 4.0);\n",
    "c0->SetCoefficient(x1, 1);\n",
    "\n",
    "// 2*x2 <= 12\n",
    "auto const c1 = solver.MakeRowConstraint(-infinity, 12.0);\n",
    "c1->SetCoefficient(x2, 2);\n",
    "\n",
    "// 3*x1 + 2*x2 <= 18\n",
    "auto const c2 = solver.MakeRowConstraint(-infinity, 18.0);\n",
    "c2->SetCoefficient(x1, 3);\n",
    "c2->SetCoefficient(x2, 2);\n",
    "std::cout << \"Número de restrições = \" << solver.NumConstraints();"
   ]
  },
  {
   "cell_type": "markdown",
   "metadata": {
    "slideshow": {
     "slide_type": "slide"
    },
    "tags": []
   },
   "source": [
    "4. Defina a função objetivo.\n",
    "> O código a seguir define a função objetivo, $Z = 3x_1 + 5x_2$, e especifica que este é um problema de maximização."
   ]
  },
  {
   "cell_type": "code",
   "execution_count": 5,
   "metadata": {
    "slideshow": {
     "slide_type": "subslide"
    },
    "tags": []
   },
   "outputs": [],
   "source": [
    "// FO: 3*x1 + 5*x2.\n",
    "auto const objective = solver.MutableObjective();\n",
    "objective->SetCoefficient(x1, 3);\n",
    "objective->SetCoefficient(x2, 5);\n",
    "objective->SetMaximization();"
   ]
  },
  {
   "cell_type": "markdown",
   "metadata": {
    "slideshow": {
     "slide_type": "slide"
    },
    "tags": []
   },
   "source": [
    "5. Execute o solver e exiba os resultados.\n",
    "> O código a seguir chama o solver e exibe a solução."
   ]
  },
  {
   "cell_type": "code",
   "execution_count": 6,
   "metadata": {
    "slideshow": {
     "slide_type": "subslide"
    },
    "tags": []
   },
   "outputs": [],
   "source": [
    "auto const result_status = solver.Solve();\n",
    "\n",
    "if (result_status != MPSolver::OPTIMAL) {\n",
    "  std::cout << \"O problema não tem uma solução ótima!\";\n",
    "}"
   ]
  },
  {
   "cell_type": "markdown",
   "metadata": {
    "slideshow": {
     "slide_type": "slide"
    },
    "tags": []
   },
   "source": [
    "6. Exibir a solução\n",
    "> O código a seguir exibe a solução."
   ]
  },
  {
   "cell_type": "code",
   "execution_count": 7,
   "metadata": {
    "slideshow": {
     "slide_type": "subslide"
    },
    "tags": []
   },
   "outputs": [
    {
     "name": "stdout",
     "output_type": "stream",
     "text": [
      "Solução:\n",
      "Valor ótimo da FO = 36\n",
      "x1 = 2\n",
      "x2 = 6\n"
     ]
    }
   ],
   "source": [
    "std::cout << \"Solução:\\n\";\n",
    "std::cout << \"Valor ótimo da FO = \" << objective->Value() << std::endl;\n",
    "std::cout << x1->name() << \" = \" << x1->solution_value() << std::endl;\n",
    "std::cout << x2->name() << \" = \" << x2->solution_value() << std::endl;"
   ]
  },
  {
   "cell_type": "markdown",
   "metadata": {
    "slideshow": {
     "slide_type": "slide"
    },
    "tags": []
   },
   "source": [
    "## O programa completo\n",
    "\n",
    "Agora escreva o programa completo na caixa de código abaixo e verifique os resultados."
   ]
  },
  {
   "cell_type": "code",
   "execution_count": 8,
   "metadata": {
    "slideshow": {
     "slide_type": "subslide"
    },
    "tags": []
   },
   "outputs": [],
   "source": [
    "#include \"setup.h\"\n",
    "#include \"ortools/linear_solver/linear_solver.h\"\n",
    "#include \"ortools/linear_solver/linear_solver.pb.h\"\n",
    "\n",
    "using namespace operations_research;\n",
    "\n",
    "{\n",
    "    \n",
    "}"
   ]
  },
  {
   "cell_type": "markdown",
   "metadata": {
    "slideshow": {
     "slide_type": "subslide"
    },
    "tags": []
   },
   "source": [
    "O programa deve retornar a solução ótima para o problema, como mostrado abaixo.\n",
    "\n",
    "Solução:\n",
    "- $x_1 = 2$\n",
    "- $x_2 = 6$\n",
    "\n",
    "Valor ótimo: FO = 36"
   ]
  },
  {
   "cell_type": "markdown",
   "metadata": {
    "slideshow": {
     "slide_type": "slide"
    },
    "tags": []
   },
   "source": [
    "**A linha verde tracejada exibida no gráfico abaixo é encontrada definindo a função objetivo igual ao seu valor ótimo de 36.**\n",
    "\n",
    "> Qualquer linha cuja equação tenha a forma **$3x_1 + 5x_2 = c$** é paralela à linha tracejada e 36 é o maior valor de **c** para o qual a linha cruza a região viável."
   ]
  },
  {
   "cell_type": "markdown",
   "metadata": {
    "slideshow": {
     "slide_type": "slide"
    },
    "tags": []
   },
   "source": [
    "<img src=\"img/Fig4.9.png\">"
   ]
  },
  {
   "cell_type": "markdown",
   "metadata": {
    "slideshow": {
     "slide_type": "slide"
    },
    "tags": []
   },
   "source": [
    "**Se você pensar na geometria no gráfico acima, em qualquer problema de otimização linear, pelo menos um vértice da região viável deve ser uma solução ótima.**\n",
    "\n",
    "> Você poderia então criar um algoritmo para encontrar uma solução ótima percorrendo os vértices da região viável até que não haja mais melhorias na função objetivo. Essa é exatamente a idéia por trás do algoritmo **simplex**, o método mais usado para resolver problemas de otimização linear."
   ]
  },
  {
   "cell_type": "code",
   "execution_count": null,
   "metadata": {},
   "outputs": [],
   "source": []
  }
 ],
 "metadata": {
  "kernelspec": {
   "display_name": "C++14",
   "language": "C++14",
   "name": "xcpp14"
  },
  "language_info": {
   "codemirror_mode": "text/x-c++src",
   "file_extension": ".cpp",
   "mimetype": "text/x-c++src",
   "name": "c++",
   "version": "14"
  }
 },
 "nbformat": 4,
 "nbformat_minor": 4
}
