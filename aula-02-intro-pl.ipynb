{
 "cells": [
  {
   "cell_type": "markdown",
   "metadata": {},
   "source": [
    "# Introdução a Otimização Linear\n",
    "\n",
    "**Técnica criada por George B. Dantzig em 1947 e que se propõe a otimizar (maximizar ou minimizar) o valor de uma função linear, respeitando um conjunto de restrições (equações ou inequações) lineares.**\n",
    "\n",
    "\n",
    "> O principal solver de otimização linear do OR-Tools é o Glop, o sistema de programação linear do Google. É rápido, eficiente em termos de memória e numericamente estável. A próxima seção mostra como usar o Glop para resolver um problema linear simples.\n",
    "\n",
    "## Um exemplo simples\n",
    "\n",
    "A WYNDOR GLASS CO. fabrica produtos de vidro de alta qualidade, entre os quais janelas e portas de vidro. A empresa possui três fábricas industriais. As esquadrias de alumínio e ferragens são feitas na Fábrica 1, as esquadrias de madeira são produzidas na Fábrica 2 e, finalmente, a Fábrica 3 produz o vidro e monta os produtos.\n",
    "\n",
    "Em conseqüência da queda nos ganhos, a direção decidiu modernizar a linha de produtos da empresa. Produtos não rentáveis estão sendo descontinuados, liberando capacidade produtiva para o lançamento de dois novos produtos com grande potencial de vendas:\n",
    "- Produto 1: Uma porta de vidro de 2,5 m com esquadria de alumínio\n",
    "- Produto 2: Uma janela duplamente adornada com esquadrias de madeira de 1,20 X 1,80 m\n",
    "\n",
    "<img src=\"img/Fig3.14.png\">\n",
    "\n",
    "O produto 1 requer parte da capacidade produtiva das Fábricas 1 e 3, mas nenhuma da Fábrica 2. O produto 2 precisa apenas das Fábricas 2 e 3. \n",
    "\n",
    "A divisão de marketing concluiu que a empresa poderia vender tanto quanto fosse possível produzir desses produtos por essas fábricas. \n",
    "\n",
    "Entretanto, pelo fato de ambos os produtos poderem estar competindo pela mesma capacidade produtiva na Fábrica 3, não está claro qual mix dos dois produtos seria o mais lucrativo. \n",
    "\n",
    "\n",
    "**Maximize $Z = 3x_1 + 5x_2$ sujeito às seguintes restrições:**\n",
    "\\begin{equation}\n",
    "x_1 \t\\le\t4\\\\\n",
    "2x_2 \t\\le\t12\\\\\n",
    "3x_1 + 2x_2\t\\le\t18\\\\\n",
    "\\end{equation}\n",
    "\n",
    "Tanto a função objetivo, $Z = 3x_1 + 5x_2$, quanto as restrições são dadas por expressões lineares, o que torna um problema linear.\n",
    "\n",
    "As restrições definem a região viável, que é o triângulo mostrado abaixo, incluindo seu interior.\n",
    "\n",
    "<img src=\"img/Fig4.1.png\">"
   ]
  },
  {
   "cell_type": "markdown",
   "metadata": {},
   "source": [
    "## As seções a seguir explicam como resolver o problema passo a passo.\n",
    "0. Incluir as bibliotecas"
   ]
  },
  {
   "cell_type": "code",
   "execution_count": null,
   "metadata": {},
   "outputs": [],
   "source": [
    "#include \"setup.h\"\n",
    "#include \"ortools/linear_solver/linear_solver.h\"\n",
    "#include \"ortools/linear_solver/linear_solver.pb.h\"\n",
    "\n",
    "using namespace operations_research;"
   ]
  },
  {
   "cell_type": "markdown",
   "metadata": {},
   "source": [
    "1. Escolha o solver.\n",
    "> O código a seguir declara o solucionador. O MPsolver é um invólucro para vários solucionadores diferentes, incluindo o Glop. Escolha GLOP_LINEAR_PROGRAMMING para informar ao solucionador para usar Glop."
   ]
  },
  {
   "cell_type": "code",
   "execution_count": null,
   "metadata": {},
   "outputs": [],
   "source": [
    "MPSolver solver(\"ExemploLinear\", MPSolver::GLOP_LINEAR_PROGRAMMING);"
   ]
  },
  {
   "cell_type": "markdown",
   "metadata": {},
   "source": [
    "2. Crie as variáveis.\n",
    "> crie variáveis x e y cujos valores estão no intervalo de 0 a infinito. Ou seja, x e y são variáveis não negativas."
   ]
  },
  {
   "cell_type": "code",
   "execution_count": null,
   "metadata": {},
   "outputs": [],
   "source": [
    "auto const infinity = solver.infinity();\n",
    "\n",
    "auto const x1 = solver.MakeNumVar(0.0, infinity, \"x1\");\n",
    "auto const x2 = solver.MakeNumVar(0.0, infinity, \"x2\");\n",
    "\n",
    "std::cout << \"Número de variáveis = \" << solver.NumVariables();"
   ]
  },
  {
   "cell_type": "markdown",
   "metadata": {},
   "source": [
    "3. Defina as restrições.\n",
    "> defina as restrições das variáveis. Atribua a cada restrição um nome exclusivo (como restrição 0) e defina os coeficientes para a restrição."
   ]
  },
  {
   "cell_type": "code",
   "execution_count": null,
   "metadata": {},
   "outputs": [],
   "source": [
    "// x1 <= 4\n",
    "auto const c0 = solver.MakeRowConstraint(-infinity, 4.0);\n",
    "c0->SetCoefficient(x1, 1);\n",
    "\n",
    "// 2*x2 <= 12\n",
    "auto const c1 = solver.MakeRowConstraint(-infinity, 12.0);\n",
    "c1->SetCoefficient(x2, 2);\n",
    "\n",
    "// 3*x1 + 2*x2 <= 18\n",
    "auto const c2 = solver.MakeRowConstraint(-infinity, 18.0);\n",
    "c2->SetCoefficient(x1, 3);\n",
    "c2->SetCoefficient(x2, 2);\n",
    "std::cout << \"Número de restrições = \" << solver.NumConstraints();"
   ]
  },
  {
   "cell_type": "markdown",
   "metadata": {},
   "source": [
    "4. Defina a função objetivo.\n",
    "> O código a seguir define a função objetivo, $Z = 3x_1 + 5x_2$, e especifica que este é um problema de maximização."
   ]
  },
  {
   "cell_type": "code",
   "execution_count": null,
   "metadata": {},
   "outputs": [],
   "source": [
    "// FO: 3*x1 + 5*x2.\n",
    "auto const objective = solver.MutableObjective();\n",
    "objective->SetCoefficient(x1, 3);\n",
    "objective->SetCoefficient(x2, 5);\n",
    "objective->SetMaximization();"
   ]
  },
  {
   "cell_type": "markdown",
   "metadata": {},
   "source": [
    "5. Execute o solver e exiba os resultados.\n",
    "> O código a seguir chama o solver e exibe a solução."
   ]
  },
  {
   "cell_type": "code",
   "execution_count": null,
   "metadata": {},
   "outputs": [],
   "source": [
    "auto const result_status = solver.Solve();\n",
    "\n",
    "if (result_status != MPSolver::OPTIMAL) {\n",
    "  std::cout << \"O problema não tem uma solução ótima!\";\n",
    "}"
   ]
  },
  {
   "cell_type": "markdown",
   "metadata": {},
   "source": [
    "6. Exibir a solução\n",
    "> O código a seguir exibe a solução."
   ]
  },
  {
   "cell_type": "code",
   "execution_count": null,
   "metadata": {},
   "outputs": [],
   "source": [
    "std::cout << \"Solução:\\n\";\n",
    "std::cout << \"Valor ótimo da FO = \" << objective->Value() << std::endl;\n",
    "std::cout << x1->name() << \" = \" << x1->solution_value() << std::endl;\n",
    "std::cout << x2->name() << \" = \" << x2->solution_value() << std::endl;"
   ]
  },
  {
   "cell_type": "markdown",
   "metadata": {},
   "source": [
    "## O programa completo\n",
    "\n",
    "Agora escreva o programa completo na caixa de código abaixo e verifique os resultados."
   ]
  },
  {
   "cell_type": "code",
   "execution_count": null,
   "metadata": {},
   "outputs": [],
   "source": [
    "#include \"setup.h\"\n",
    "#include \"ortools/linear_solver/linear_solver.h\"\n",
    "#include \"ortools/linear_solver/linear_solver.pb.h\"\n",
    "\n",
    "using namespace operations_research;\n",
    "\n",
    "{\n",
    "    \n",
    "}"
   ]
  },
  {
   "cell_type": "markdown",
   "metadata": {},
   "source": [
    "O programa deve retornar a solução ótima para o problema, como mostrado abaixo.\n",
    "\n",
    "Solução:\n",
    "- $x_1 = 2$\n",
    "- $x_2 = 6$\n",
    "\n",
    "Valor ótimo: FO = 36\n",
    "\n",
    "**A linha verde tracejada exibida no gráfico abaixo é encontrada definindo a função objetivo igual ao seu valor ótimo de 36.**\n",
    "\n",
    "> Qualquer linha cuja equação tenha a forma **$3x_1 + 5x_2 = c$** é paralela à linha tracejada e 36 é o maior valor de **c** para o qual a linha cruza a região viável.\n",
    "\n",
    "<img src=\"img/Fig4.9.png\">\n",
    "\n",
    "**Se você pensar na geometria no gráfico acima, em qualquer problema de otimização linear, pelo menos um vértice da região viável deve ser uma solução ótima.**\n",
    "\n",
    "> Você poderia então criar um algoritmo para encontrar uma solução ótima percorrendo os vértices da região viável até que não haja mais melhorias na função objetivo. Essa é exatamente a idéia por trás do algoritmo **simplex**, o método mais usado para resolver problemas de otimização linear.\n",
    "\n"
   ]
  },
  {
   "cell_type": "markdown",
   "metadata": {},
   "source": [
    "# O Método Simplex\n",
    "\n",
    "1. Montar um dicionário inicial\n",
    "2. Olhando a equação do z, escolha uma variável não-básica $x_{in}$ cujo aumento melhoraria a solução corrente do dicionário (coeficiente negativo se for minimização, positivo se for maximização). Se não houver tal variável, a solução corrente é ótima.\n",
    "3. Calcule o máximo valor para que $x_{in}$ que não torne uma variável básica negativa. Se esse valor for infinito, o PL é ilimitado. Caso contrário, escolha uma variável $x_{out}$ que bloqueou o crescimento de $x_{in}$.\n",
    "4. A variável $x_{in}$ entra na base, $x_{out}$ sai da base. Atualize o dicionário colocando $x_{in}$ isolado do lado esquerdo, $x_{out}$ vai pro lado direito. \n",
    "5. Volte para o Passo 2.\n"
   ]
  },
  {
   "cell_type": "code",
   "execution_count": null,
   "metadata": {},
   "outputs": [],
   "source": []
  }
 ],
 "metadata": {
  "kernelspec": {
   "display_name": "C++14",
   "language": "C++14",
   "name": "xcpp14"
  },
  "language_info": {
   "codemirror_mode": "text/x-c++src",
   "file_extension": ".cpp",
   "mimetype": "text/x-c++src",
   "name": "c++",
   "version": "14"
  }
 },
 "nbformat": 4,
 "nbformat_minor": 4
}
