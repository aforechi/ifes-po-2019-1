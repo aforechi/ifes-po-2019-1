{
 "cells": [
  {
   "cell_type": "markdown",
   "metadata": {},
   "source": [
    "# Introdução a Otimização Linear\n",
    "\n",
    "**Técnica criada por George B. Dantzig em 1947 e que se propõe a otimizar (maximizar ou minimizar) o valor de uma função linear, respeitando um conjunto de restrições (equações ou inequações) lineares.**\n",
    "\n",
    "\n",
    "> O principal solver de otimização linear do OR-Tools é o Glop, o sistema de programação linear do Google. É rápido, eficiente em termos de memória e numericamente estável. A próxima seção mostra como usar o Glop para resolver um problema linear simples.\n",
    "\n",
    "## Um exemplo simples\n",
    "Aqui está um exemplo simples de um problema de otimização linear.\n",
    "\n",
    "**Maximize 3x + 4y sujeito às seguintes restrições:**\n",
    "\\begin{equation}\n",
    "x + 2y\t\\le\t14\\\\\n",
    "3x – y\t\\le\t0\\\\\n",
    "x – y\t\\le\t2\\\\\n",
    "\\end{equation}\n",
    "\n",
    "Tanto a função objetivo, $3x + 4y$, quanto as restrições são dadas por expressões lineares, o que torna um problema linear.\n",
    "\n",
    "As restrições definem a região viável, que é o triângulo mostrado abaixo, incluindo seu interior.\n",
    "<img src=\"img/feasible_region.png\">"
   ]
  },
  {
   "cell_type": "markdown",
   "metadata": {},
   "source": [
    "## As seções a seguir explicam como resolver o problema passo a passo.\n",
    "0. Incluir as bibliotecas"
   ]
  },
  {
   "cell_type": "code",
   "execution_count": 1,
   "metadata": {},
   "outputs": [],
   "source": [
    "#include \"setup.h\"\n",
    "#include \"ortools/linear_solver/linear_solver.h\"\n",
    "#include \"ortools/linear_solver/linear_solver.pb.h\"\n",
    "\n",
    "using namespace operations_research;"
   ]
  },
  {
   "cell_type": "markdown",
   "metadata": {},
   "source": [
    "1. Escolha o solver.\n",
    "> O código a seguir declara o solucionador. O MPsolver é um invólucro para vários solucionadores diferentes, incluindo o Glop. Escolha GLOP_LINEAR_PROGRAMMING para informar ao solucionador para usar Glop."
   ]
  },
  {
   "cell_type": "code",
   "execution_count": 2,
   "metadata": {},
   "outputs": [],
   "source": [
    "MPSolver solver(\"ExemploLinear\", MPSolver::GLOP_LINEAR_PROGRAMMING);"
   ]
  },
  {
   "cell_type": "markdown",
   "metadata": {},
   "source": [
    "2. Crie as variáveis.\n",
    "> crie variáveis x e y cujos valores estão no intervalo de 0 a infinito. Ou seja, x e y são variáveis não negativas."
   ]
  },
  {
   "cell_type": "code",
   "execution_count": 3,
   "metadata": {},
   "outputs": [
    {
     "name": "stdout",
     "output_type": "stream",
     "text": [
      "Número de variáveis = 2"
     ]
    }
   ],
   "source": [
    "auto const infinity = solver.infinity();\n",
    "\n",
    "auto const x = solver.MakeNumVar(0.0, infinity, \"x\");\n",
    "auto const y = solver.MakeNumVar(0.0, infinity, \"y\");\n",
    "\n",
    "std::cout << \"Número de variáveis = \" << solver.NumVariables();"
   ]
  },
  {
   "cell_type": "markdown",
   "metadata": {},
   "source": [
    "3. Defina as restrições.\n",
    "> defina as restrições das variáveis. Atribua a cada restrição um nome exclusivo (como restrição 0) e defina os coeficientes para a restrição."
   ]
  },
  {
   "cell_type": "code",
   "execution_count": 4,
   "metadata": {},
   "outputs": [
    {
     "name": "stdout",
     "output_type": "stream",
     "text": [
      "Número de restrições = 3"
     ]
    }
   ],
   "source": [
    "// x + 2y <= 14.\n",
    "auto const c0 = solver.MakeRowConstraint(-infinity, 14.0);\n",
    "c0->SetCoefficient(x, 1);\n",
    "c0->SetCoefficient(y, 2);\n",
    "\n",
    "// 3x - y >= 0.\n",
    "auto const c1 = solver.MakeRowConstraint(0.0, infinity);\n",
    "c1->SetCoefficient(x, 3);\n",
    "c1->SetCoefficient(y, -1);\n",
    "\n",
    "// x - y <= 2.\n",
    "auto const c2 = solver.MakeRowConstraint(-infinity, 2.0);\n",
    "c2->SetCoefficient(x, 1);\n",
    "c2->SetCoefficient(y, -1);\n",
    "std::cout << \"Número de restrições = \" << solver.NumConstraints();"
   ]
  },
  {
   "cell_type": "markdown",
   "metadata": {},
   "source": [
    "4. Defina a função objetivo.\n",
    "> O código a seguir define a função objetivo, 3x + 4y, e especifica que este é um problema de maximização."
   ]
  },
  {
   "cell_type": "code",
   "execution_count": 5,
   "metadata": {},
   "outputs": [],
   "source": [
    "// FO: 3x + 4y.\n",
    "auto const objective = solver.MutableObjective();\n",
    "objective->SetCoefficient(x, 3);\n",
    "objective->SetCoefficient(y, 4);\n",
    "objective->SetMaximization();"
   ]
  },
  {
   "cell_type": "markdown",
   "metadata": {},
   "source": [
    "5. Execute o solver e exiba os resultados.\n",
    "> O código a seguir chama o solver e exibe a solução."
   ]
  },
  {
   "cell_type": "code",
   "execution_count": 6,
   "metadata": {},
   "outputs": [
    {
     "name": "stdout",
     "output_type": "stream",
     "text": [
      "Solução:\n",
      "Valor ótimo da FO = 34\n",
      "x = 6\n",
      "y = 4\n"
     ]
    }
   ],
   "source": [
    "auto const result_status = solver.Solve();\n",
    "\n",
    "if (result_status != MPSolver::OPTIMAL) {\n",
    "  std::cout << \"O problema não tem uma solução ótima!\";\n",
    "}\n",
    "\n",
    "std::cout << \"Solução:\\n\";\n",
    "std::cout << \"Valor ótimo da FO = \" << objective->Value() << std::endl;\n",
    "std::cout << x->name() << \" = \" << x->solution_value() << std::endl;\n",
    "std::cout << y->name() << \" = \" << y->solution_value() << std::endl;"
   ]
  },
  {
   "cell_type": "markdown",
   "metadata": {},
   "source": [
    "## O programa completo\n",
    "\n",
    "Agora escreva o programa completo na caixa de código abaixo e verifique os resultados."
   ]
  },
  {
   "cell_type": "code",
   "execution_count": 7,
   "metadata": {},
   "outputs": [],
   "source": [
    "#include \"setup.h\"\n",
    "#include \"ortools/linear_solver/linear_solver.h\"\n",
    "#include \"ortools/linear_solver/linear_solver.pb.h\"\n",
    "\n",
    "using namespace operations_research;\n",
    "\n",
    "{\n",
    "    \n",
    "}"
   ]
  },
  {
   "cell_type": "markdown",
   "metadata": {},
   "source": [
    "O programa deve retornar a solução ótima para o problema, como mostrado abaixo.\n",
    "\n",
    "Solução:\n",
    "- x = 6\n",
    "- y = 4\n",
    "\n",
    "Valor ótimo: FO = 34\n",
    "\n",
    "**A linha verde tracejada exibida no gráfico abaixo é encontrada definindo a função objetivo igual ao seu valor ótimo de 34.**\n",
    "\n",
    "> Qualquer linha cuja equação tenha a forma **3x + 4y = c** é paralela à linha tracejada e 34 é o maior valor de **c** para o qual a linha cruza a região viável.\n",
    "\n",
    "<img src=\"img/feasible_region_solution.png\">\n",
    "\n",
    "**Se você pensar na geometria no gráfico acima, em qualquer problema de otimização linear, pelo menos um vértice da região viável deve ser uma solução ótima.**\n",
    "\n",
    "> Você poderia então criar um algoritmo para encontrar uma solução ótima percorrendo os vértices da região viável até que não haja mais melhorias na função objetivo. Essa é exatamente a idéia por trás do algoritmo **simplex**, o método mais usado para resolver problemas de otimização linear.\n",
    "\n"
   ]
  },
  {
   "cell_type": "markdown",
   "metadata": {},
   "source": [
    "# Solucionando Problemas de Programação Linear: O Método Simplex"
   ]
  },
  {
   "cell_type": "markdown",
   "metadata": {},
   "source": [
    "# A Teoria do Método Simplex"
   ]
  }
 ],
 "metadata": {
  "kernelspec": {
   "display_name": "C++14",
   "language": "C++14",
   "name": "xcpp14"
  },
  "language_info": {
   "codemirror_mode": "text/x-c++src",
   "file_extension": ".cpp",
   "mimetype": "text/x-c++src",
   "name": "c++",
   "version": "-std=c++14"
  }
 },
 "nbformat": 4,
 "nbformat_minor": 4
}
