{
 "cells": [
  {
   "cell_type": "markdown",
   "metadata": {},
   "source": [
    "# Problema de Otimização de Troco\n",
    "\n",
    "## Solução Recursiva\n",
    "\n",
    "1. Caso Base: Se pudermos dar um troco usando exatamente uma moeda, então esse é o mínimo.\n",
    "2. Caso contrário: O mínimo será o menor entre: uma moeda de 1, 5, 10 ou 25 mais o troco do valor original menos 1, 5, 10 ou 25 centavos e assim por diante ..."
   ]
  },
  {
   "cell_type": "code",
   "execution_count": 1,
   "metadata": {},
   "outputs": [],
   "source": [
    "def rec_mc(coin_values, change): \n",
    "    min_coins = change\n",
    "    if change in coin_values:\n",
    "        return 1 \n",
    "    else:\n",
    "        for i in [c for c in coin_values if c <= change]: \n",
    "            num_coins = 1 + rec_mc(coin_values, change-i) \n",
    "            if num_coins < min_coins:\n",
    "                min_coins = num_coins \n",
    "    return min_coins"
   ]
  },
  {
   "cell_type": "code",
   "execution_count": 2,
   "metadata": {},
   "outputs": [
    {
     "data": {
      "text/plain": [
       "6"
      ]
     },
     "execution_count": 2,
     "metadata": {},
     "output_type": "execute_result"
    }
   ],
   "source": [
    "rec_mc([1, 5, 10, 25], 63)"
   ]
  },
  {
   "cell_type": "markdown",
   "metadata": {},
   "source": [
    "## Solução recursiva, usando tabela de busca"
   ]
  },
  {
   "cell_type": "code",
   "execution_count": 3,
   "metadata": {},
   "outputs": [],
   "source": [
    "def rec_dc(coin_values, change, known_results): \n",
    "    min_coins = change\n",
    "    if change in coin_values:\n",
    "        known_results[change] = 1\n",
    "        return 1\n",
    "    elif known_results[change] > 0:\n",
    "        return known_results[change] \n",
    "    else:\n",
    "        for i in [c for c in coin_values if c <= change]: \n",
    "            num_coins = 1 + rec_dc(coin_values,\n",
    "                                   change-i,\n",
    "                                   known_results) \n",
    "            if num_coins < min_coins:\n",
    "                min_coins = num_coins\n",
    "                known_results[change] = min_coins \n",
    "        return min_coins\n",
    "    "
   ]
  },
  {
   "cell_type": "code",
   "execution_count": 4,
   "metadata": {},
   "outputs": [
    {
     "data": {
      "text/plain": [
       "6"
      ]
     },
     "execution_count": 4,
     "metadata": {},
     "output_type": "execute_result"
    }
   ],
   "source": [
    "rec_dc([1, 5, 10, 25], 63, [0]*(value+1))"
   ]
  },
  {
   "cell_type": "markdown",
   "metadata": {},
   "source": [
    "## Solução de Programação Dinâmica\n",
    "\n",
    "- Para qualquer valor $a$, para cada denominação $d$, verifique as moedas mínimas para o valor (calculado anteriormente) $a-d$\n",
    "- Sempre podemos ir de $a-d$ para $a$ com mais uma moeda"
   ]
  },
  {
   "cell_type": "code",
   "execution_count": 5,
   "metadata": {},
   "outputs": [],
   "source": [
    "def dp_make_change(coin_values, change, min_coins): \n",
    "    for cents in range(change+1):\n",
    "        coin_count = cents\n",
    "        for j in [c for c in coin_values if c <= cents]:\n",
    "            if min_coins[cents-j] + 1 < coin_count: \n",
    "                coin_count = min_coins[cents-j]+1\n",
    "        min_coins[cents] = coin_count \n",
    "    return min_coins[change]"
   ]
  },
  {
   "cell_type": "code",
   "execution_count": 6,
   "metadata": {},
   "outputs": [
    {
     "data": {
      "text/plain": [
       "6"
      ]
     },
     "execution_count": 6,
     "metadata": {},
     "output_type": "execute_result"
    }
   ],
   "source": [
    "dp_make_change([1, 5, 10, 25], 63, [0]*64)"
   ]
  },
  {
   "cell_type": "markdown",
   "metadata": {},
   "source": [
    "## Solução de programação dinâmica modificada"
   ]
  },
  {
   "cell_type": "code",
   "execution_count": 1,
   "metadata": {},
   "outputs": [],
   "source": [
    "def dp_make_change_2(coin_values, change, min_coins, coins_used): \n",
    "    for cents in range(change+1):\n",
    "        coin_count = cents\n",
    "        new_coin = 1\n",
    "        for j in [c for c in coin_values if c <= cents]:\n",
    "            if min_coins[cents-j] + 1 < coin_count: \n",
    "                coin_count = min_coins[cents-j]+1 \n",
    "                new_coin = j\n",
    "        min_coins[cents] = coin_count\n",
    "        coins_used[cents] = new_coin \n",
    "    return min_coins[change]"
   ]
  },
  {
   "cell_type": "code",
   "execution_count": 2,
   "metadata": {},
   "outputs": [],
   "source": [
    "def print_coins(coins_used, change): \n",
    "    coin = change\n",
    "    coin_dict = {} \n",
    "    while coin > 0:\n",
    "        this_coin = coins_used[coin] \n",
    "        print(this_coin)\n",
    "        coin = coin - this_coin"
   ]
  },
  {
   "cell_type": "code",
   "execution_count": 3,
   "metadata": {},
   "outputs": [
    {
     "name": "stdout",
     "output_type": "stream",
     "text": [
      "1\n",
      "1\n",
      "1\n",
      "10\n",
      "25\n",
      "25\n",
      "[1, 1, 1, 1, 1, 5, 1, 1, 1, 1, 10, 1, 1, 1, 1, 5, 1, 1, 1, 1, 10, 1, 1, 1, 1, 25, 1, 1, 1, 1, 5, 1, 1, 1, 1, 10, 1, 1, 1, 1, 5, 1, 1, 1, 1, 10, 1, 1, 1, 1, 25, 1, 1, 1, 1, 5, 1, 1, 1, 1, 10, 1, 1, 1]\n"
     ]
    }
   ],
   "source": [
    "cl = [1, 5, 10, 25]\n",
    "coins_used = [0]*64\n",
    "coin_count = [0]*64\n",
    "dp_make_change_2(cl, 63, coin_count, coins_used) \n",
    "print_coins(coins_used, 63)\n",
    "print(coins_used) "
   ]
  },
  {
   "cell_type": "code",
   "execution_count": null,
   "metadata": {},
   "outputs": [],
   "source": []
  }
 ],
 "metadata": {
  "kernelspec": {
   "display_name": "Python 3",
   "language": "python",
   "name": "python3"
  },
  "language_info": {
   "codemirror_mode": {
    "name": "ipython",
    "version": 3
   },
   "file_extension": ".py",
   "mimetype": "text/x-python",
   "name": "python",
   "nbconvert_exporter": "python",
   "pygments_lexer": "ipython3",
   "version": "3.8.0"
  }
 },
 "nbformat": 4,
 "nbformat_minor": 4
}
