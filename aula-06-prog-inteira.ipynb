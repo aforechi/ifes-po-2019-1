{
 "cells": [
  {
   "cell_type": "markdown",
   "metadata": {},
   "source": [
    "# Programação Linear Inteira\n",
    "\n",
    "Problemas de otimização linear que exigem que algumas das variáveis sejam números inteiros são chamados de Programas Mistos Inteiros (MIPs). Essas variáveis podem surgir de duas maneiras:\n",
    "\n",
    "- **Variáveis inteiras** que representam o número de itens, como carros ou aparelhos de televisão, onde o problema é decidir quantos de cada item fabricar para maximizar o lucro. Normalmente, esses problemas podem ser configurados como problemas de otimização linear padrão, com o requisito adicional de que as variáveis devem ser números inteiros. A próxima seção mostra um exemplo desse tipo de problema.\n",
    "\n",
    "- **Variáveis booleanas** que representam decisões com valores 0 ou 1. Como exemplo, considere um problema que envolve a atribuição de trabalhadores a tarefas. Para configurar esse tipo de problema, você pode definir variáveis booleanas $x_{i,j}$ iguais a 1 se o trabalhador i estiver designado à tarefa j e 0, caso contrário."
   ]
  },
  {
   "cell_type": "markdown",
   "metadata": {},
   "source": [
    "O Google OR-Tools fornece duas opções para resolver MIPs:\n",
    "\n",
    "- MPSolver: um conjunto de solucionadores MIP de terceiros, que usam técnicas de Branch-and-Bound. Este consiste em uma enumeração sistemática de candidatos a solução, através da qual grandes subconjuntos de candidatos infrutíferos são descartados utilizando os limites superior e inferior da quantia otimizada.\n",
    "\n",
    "- CP-SAT: um solucionador de Programação de Restrições (Constraint Programming) que usa métodos SAT (satisfabilidade booleana). O problema de satisfatibilidade booleana é o problema de determinar se existe uma determinada valoração para as variáveis de uma determinada fórmula booleana tal que esta valoração satisfaça esta fórmula em questão. Por exemplo, tomando $x_{1},x_{2},x_{3},x_{4}$ como as variáveis booleanas e a expressão $(x_{1}\\lor \\neg x_{3}\\lor x_{4})\\land (\\neg x_{2}\\lor x_{3}\\lor \\neg x_{4})$ caso exista uma atribuição de valores 0 ou 1 para as variáveis da fórmula que torne a fórmula avaliada VERDADEIRA (1), esta fórmula é considera satisfatível, em contrapartida se nenhuma atribuição levou a uma avaliação da fórmula como verdadeira, ela é considerada insatisfatível."
   ]
  },
  {
   "cell_type": "markdown",
   "metadata": {},
   "source": [
    "## MIP Solver\n",
    "\n",
    "As seções a seguir apresentam um exemplo de um MIP e mostram como resolvê-lo. Aqui está o problema:\n",
    "\n",
    "### Maximize $x + 10y$, sujeito às seguintes restrições\n",
    "$\n",
    "\\begin{align}\n",
    "x + 7 y\t\\le\t17.5\\\\\n",
    "x\t\\le\t3.5\\\\\n",
    "x\t\\ge\t0\\\\\n",
    "y\t\\ge\t0\\\\\n",
    "x, y \\in \\mathbb{N} \n",
    "\\end{align}\n",
    "$\n",
    "\n",
    "Como as restrições são lineares, esse é apenas um problema de otimização linear, no qual as soluções precisam ser inteiras. "
   ]
  },
  {
   "cell_type": "markdown",
   "metadata": {},
   "source": [
    "O gráfico abaixo mostra os pontos inteiros na região viável para o problema.\n",
    "\n",
    "<img style=\"float: center;\" src=\"https://developers.google.com/optimization/images/mip/feasible_region.png\">\n",
    "\n",
    "Observe que esse problema é muito semelhante ao problema resolvido descrito em [Introdução a Otimização Linear](aula-01-intro-po.ipynb), mas neste caso exigimos que as soluções sejam inteiras."
   ]
  },
  {
   "cell_type": "markdown",
   "metadata": {},
   "source": [
    "## As seções a seguir explicam como resolver o problema passo a passo.\n",
    "0. Incluir as bibliotecas"
   ]
  },
  {
   "cell_type": "code",
   "execution_count": 1,
   "metadata": {
    "slideshow": {
     "slide_type": "subslide"
    }
   },
   "outputs": [],
   "source": [
    "#include \"setup.h\"\n",
    "#include \"ortools/linear_solver/linear_solver.h\"\n",
    "#include \"ortools/linear_solver/linear_solver.pb.h\"\n",
    "#include <iostream>\n",
    "using namespace operations_research;"
   ]
  },
  {
   "cell_type": "markdown",
   "metadata": {},
   "source": [
    "1. Escolha o solver.\n",
    "> O código a seguir declara o solucionador. O MPsolver é um invólucro para vários solucionadores diferentes, incluindo o CBC. Escolha CBC_MIXED_INTEGER_PROGRAMMING para informar ao solucionador para usar MIP."
   ]
  },
  {
   "cell_type": "code",
   "execution_count": 2,
   "metadata": {},
   "outputs": [],
   "source": [
    "MPSolver solver(\"simple_mip_program\", MPSolver::CBC_MIXED_INTEGER_PROGRAMMING);"
   ]
  },
  {
   "cell_type": "markdown",
   "metadata": {},
   "source": [
    "2. Crie as variáveis.\n",
    "- use o método MakeIntVar para criar variáveis x e y que assumem valores inteiros não negativos.\n",
    "- defina os limites inferiores e superiores das variáveis x e y no intervalo de 0 a infinito. \n"
   ]
  },
  {
   "cell_type": "code",
   "execution_count": 3,
   "metadata": {},
   "outputs": [
    {
     "name": "stdout",
     "output_type": "stream",
     "text": [
      "Number of variables = 2"
     ]
    }
   ],
   "source": [
    "const double infinity = solver.infinity();\n",
    "\n",
    "MPVariable* const x = solver.MakeIntVar(0.0, infinity, \"x\");\n",
    "MPVariable* const y = solver.MakeIntVar(0.0, infinity, \"y\");\n",
    "\n",
    "std::cout << \"Number of variables = \" << solver.NumVariables();"
   ]
  },
  {
   "cell_type": "markdown",
   "metadata": {},
   "source": [
    "3. Defina as restrições.\n",
    "> defina as restrições das variáveis. Atribua a cada restrição um nome exclusivo (como restrição 0) e defina os coeficientes para a restrição."
   ]
  },
  {
   "cell_type": "code",
   "execution_count": 4,
   "metadata": {},
   "outputs": [
    {
     "name": "stdout",
     "output_type": "stream",
     "text": [
      "Number of constraints = 2"
     ]
    }
   ],
   "source": [
    "// x + 7 * y <= 17.5.\n",
    "MPConstraint* const c0 = solver.MakeRowConstraint(-infinity, 17.5, \"c0\");\n",
    "c0->SetCoefficient(x, 1);\n",
    "c0->SetCoefficient(y, 7);\n",
    "\n",
    "// x <= 3.5.\n",
    "MPConstraint* const c1 = solver.MakeRowConstraint(-infinity, 3.5, \"c1\");\n",
    "c1->SetCoefficient(x, 1);\n",
    "c1->SetCoefficient(y, 0);\n",
    "\n",
    "std::cout << \"Number of constraints = \" << solver.NumConstraints();"
   ]
  },
  {
   "cell_type": "markdown",
   "metadata": {},
   "source": [
    "4. Defina a função objetivo.\n",
    "> O código a seguir define a função objetivo, $Z = x + 10y$, e especifica que este é um problema de maximização."
   ]
  },
  {
   "cell_type": "code",
   "execution_count": 5,
   "metadata": {},
   "outputs": [],
   "source": [
    "// Maximize x + 10 * y.\n",
    "MPObjective* const objective = solver.MutableObjective();\n",
    "objective->SetCoefficient(x, 1);\n",
    "objective->SetCoefficient(y, 10);\n",
    "objective->SetMaximization();"
   ]
  },
  {
   "cell_type": "markdown",
   "metadata": {},
   "source": [
    "5. Execute o solver e exiba os resultados.\n",
    "> O código a seguir chama o solver e exibe a solução."
   ]
  },
  {
   "cell_type": "code",
   "execution_count": 6,
   "metadata": {},
   "outputs": [],
   "source": [
    "const MPSolver::ResultStatus result_status = solver.Solve();\n",
    "// Check that the problem has an optimal solution.\n",
    "if (result_status != MPSolver::OPTIMAL) {\n",
    "     std::cout << \"The problem does not have an optimal solution!\";\n",
    "}"
   ]
  },
  {
   "cell_type": "markdown",
   "metadata": {},
   "source": [
    "6. Exibir a solução\n",
    "> O código a seguir exibe a solução com valor ótimo da função objetivo 23, o que ocorre no ponto x = 3, y = 2."
   ]
  },
  {
   "cell_type": "code",
   "execution_count": 7,
   "metadata": {},
   "outputs": [
    {
     "name": "stdout",
     "output_type": "stream",
     "text": [
      "Solution:\n",
      "Objective value = 23\n",
      "x = 3\n",
      "y = 2\n",
      "\n",
      "Advanced usage:\n",
      "Problem solved in 124686 milliseconds\n",
      "Problem solved in 1 iterations\n",
      "Problem solved in 0 branch-and-bound nodes\n"
     ]
    }
   ],
   "source": [
    "std::cout << \"Solution:\" << std::endl;\n",
    "std::cout << \"Objective value = \" << objective->Value() << std::endl;\n",
    "std::cout << \"x = \" << x->solution_value() << std::endl;\n",
    "std::cout << \"y = \" << y->solution_value() << std::endl;\n",
    "\n",
    "std::cout << \"\\nAdvanced usage:\" << std::endl;\n",
    "std::cout << \"Problem solved in \" << solver.wall_time() << \" milliseconds\" << std::endl;\n",
    "std::cout << \"Problem solved in \" << solver.iterations() << \" iterations\" << std::endl;\n",
    "std::cout << \"Problem solved in \" << solver.nodes() << \" branch-and-bound nodes\" << std::endl;"
   ]
  },
  {
   "cell_type": "markdown",
   "metadata": {},
   "source": [
    "### Comparando programação linear e inteira\n",
    "\n",
    "Vamos comparar a solução com o problema de otimização com número inteiros, mostrado acima, com a solução  do problema de otimização linear correspondente, no qual as restrições de número inteiro são removidas.\n",
    "\n",
    "Você pode pensar a princípio que a solução para o problema inteiro seria o ponto de coordenadas inteiras na região viável mais próxima da solução com números reais - ou seja, o ponto x = 0, y = 2. Mas, como você verá a seguir, este não é o caso.\n",
    "\n",
    "Você pode modificar facilmente o programa na seção anterior para resolver o problema linear com números reais, fazendo as seguintes alterações:\n",
    "\n",
    "1. Substitua o solucionador MIP com o solucionador LP\n",
    "2. Substitua as variáveis inteiras discretas por variáveis reais contínuas"
   ]
  },
  {
   "cell_type": "code",
   "execution_count": null,
   "metadata": {},
   "outputs": [],
   "source": [
    "//Implemente aqui as alterações"
   ]
  },
  {
   "cell_type": "markdown",
   "metadata": {},
   "source": [
    "Após fazer essas alterações e executar o programa novamente, você obtém a seguinte saída:\n",
    "\n",
    "A solução para o problema linear ocorre no ponto x = 0, y = 2,5, onde a função objetivo é igual a 25. \n",
    "\n",
    "Aqui está um gráfico mostrando as soluções para os problemas linear e inteiro.\n",
    "<img style=\"float: center;\" src=\"https://developers.google.com/optimization/images/mip/feasible_region_sol.png\">\n",
    "\n",
    "Observe que a solução inteira não está próxima da solução com números reais, comparada com a maioria dos outros pontos inteiros na região viável. Em geral, as soluções para um problema de otimização linear com números reais e os problemas de otimização com números inteiros correspondentes podem estar distantes. Por esse motivo, os dois tipos de problemas exigem métodos diferentes para sua solução."
   ]
  },
  {
   "cell_type": "markdown",
   "metadata": {},
   "source": [
    "## CP-SAT\n",
    "\n",
    "### Maximize 2x + 2y + 3z sujeito às seguintes restrições:\n",
    "$\n",
    "\\begin{align}\n",
    "x + \\frac{7}{2} y + \\frac{3}{2} z\t\\le\t25\\\\\n",
    "3x - 5y + 7z\t\\le\t45\\\\\n",
    "5x + 2y - 6z\t\\le\t37\\\\\n",
    "x, y, z \\ge\t0\\\\\n",
    "x, y, z \\in \\mathbb{N} \n",
    "\\end{align}\n",
    "$"
   ]
  },
  {
   "cell_type": "markdown",
   "metadata": {},
   "source": [
    "Para aumentar a velocidade computacional, o solucionador CP-SAT trabalha com números inteiros. Isso significa que todas as restrições e o objetivo devem ter coeficientes inteiros. \n",
    "\n",
    "No exemplo acima, a primeira restrição não atende a essa condição. \n",
    "\n",
    "Para resolver o problema, você deve primeiro transformar a restrição multiplicando-a por um número inteiro suficientemente grande para converter todos os coeficientes em números inteiros. \n",
    "\n",
    "Isso é mostrado na seção Restrições abaixo."
   ]
  },
  {
   "cell_type": "code",
   "execution_count": 8,
   "metadata": {},
   "outputs": [],
   "source": [
    "#include \"setup.h\"\n",
    "#include \"ortools/sat/cp_model.h\"\n",
    "#include <iostream>\n",
    "using namespace operations_research;"
   ]
  },
  {
   "cell_type": "code",
   "execution_count": 9,
   "metadata": {},
   "outputs": [
    {
     "name": "stdout",
     "output_type": "stream",
     "text": [
      "FO:35\n",
      "x: 7\n",
      "y: 3\n",
      "z: 5\n"
     ]
    }
   ],
   "source": [
    "{\n",
    "    sat::CpModelBuilder cp_model;\n",
    "\n",
    "    const Domain domain(0, 999);\n",
    "    const sat::IntVar x = cp_model.NewIntVar(domain).WithName(\"x\");\n",
    "    const sat::IntVar y = cp_model.NewIntVar(domain).WithName(\"y\");\n",
    "    const sat::IntVar z = cp_model.NewIntVar(domain).WithName(\"z\");\n",
    "\n",
    "    cp_model.AddLessOrEqual(sat::LinearExpr::ScalProd({x, y, z}, {2, 7, 3}),50); //2*x + 7*y + 3*z <= 50\n",
    "    cp_model.AddLessOrEqual(sat::LinearExpr::ScalProd({x, y, z}, {3, -5, 7}),45); //3*x - 5*y + 7*z <= 45\n",
    "    cp_model.AddLessOrEqual(sat::LinearExpr::ScalProd({x, y, z}, {5, 2, -6}),37); //5*x + 2*y - 6*z <= 37\n",
    "\n",
    "    cp_model.Maximize(sat::LinearExpr::ScalProd({x, y, z}, {2, 2, 3})); //2*x + 2*y + 3*z\n",
    "\n",
    "    const sat::CpSolverResponse response = Solve(cp_model); \n",
    "\n",
    "    if (response.status() == sat::CpSolverStatus::OPTIMAL) { \n",
    "        std::cout << \"FO:\" << response.objective_value() << std::endl;\n",
    "        std::cout << \"x: \" << SolutionIntegerValue(response, x) << std::endl;\n",
    "        std::cout << \"y: \" << SolutionIntegerValue(response, y) << std::endl; \n",
    "        std::cout << \"z: \" << SolutionIntegerValue(response, z) << std::endl; \n",
    "    }\n",
    "}"
   ]
  },
  {
   "cell_type": "code",
   "execution_count": null,
   "metadata": {},
   "outputs": [],
   "source": []
  }
 ],
 "metadata": {
  "kernelspec": {
   "display_name": "C++14",
   "language": "C++14",
   "name": "xcpp14"
  },
  "language_info": {
   "codemirror_mode": "text/x-c++src",
   "file_extension": ".cpp",
   "mimetype": "text/x-c++src",
   "name": "c++",
   "version": "14"
  }
 },
 "nbformat": 4,
 "nbformat_minor": 4
}
