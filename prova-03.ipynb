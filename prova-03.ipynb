{
 "cells": [
  {
   "cell_type": "markdown",
   "metadata": {},
   "source": [
    "# Estudo de caso: Designação como um problema de fluxo de custo mínimo\n",
    "\n",
    "Os solucionadores MIP e CP-SAT podem resolver uma classe de problemas maior do que o fluxo de custo mínimo, e, na maioria dos casos, MIP ou CP-SAT são as melhores escolhas.\n",
    "\n",
    "No entanto, o solucionador de fluxo de custo mínimo pode muitas vezes retornar uma solução mais rápido do que o solucionador MIP ou CP-SAT. \n",
    "\n",
    "Você **DEVERÁ** usar o solucionador de fluxo de custo mínimo para resolver os problemas de designação abaixo. \n",
    "\n",
    "- Um problema de designação linear simples.\n",
    "- Um problema de designação com equipes de trabalhadores."
   ]
  },
  {
   "cell_type": "markdown",
   "metadata": {},
   "source": [
    "## Como um problema de fluxo de custo mínimo representa um problema de designação?\n",
    "\n",
    "Como o problema de fluxo de custo mínimo abaixo pode representar um problema de designação? Em primeiro lugar, como a capacidade de cada arco é 1, o suprimento de 4 na fonte força cada um dos quatro arcos que conduzem aos trabalhadores a ter um fluxo igual a 1.\n",
    "\n",
    "Em seguida, a condição de fluxo de entrada ser igual ao fluxo de saída força o fluxo de saída de cada trabalhador a ser 1. Se possível, o solucionador direcionaria esse fluxo através do arco de custo mínimo que sai de cada trabalhador. \n",
    "\n",
    "No entanto, o solucionador não pode direcionar os fluxos de dois trabalhadores diferentes para uma única tarefa. Se isso acontecesse, haveria um fluxo combinado igual a 2 naquela tarefa, que não poderia ser enviado através do único arco com capacidade 1 da tarefa até o sumidouro. Isso significa que o solucionador só pode atribuir uma tarefa a um único trabalhador, conforme exigido pelo problema de designação.\n",
    "\n",
    "Finalmente, a condição de fluxo de entrada igual a fluxo de saída força cada tarefa a ter um fluxo de saída igual a 1, de modo que cada tarefa é executada por algum trabalhador.\n",
    "\n",
    "Para cada um das questões abaixo, implemente um programa em C++ usando o solucionador de fluxo de custo mínimo de forma a resolvê-los."
   ]
  },
  {
   "cell_type": "markdown",
   "metadata": {},
   "source": [
    "## Questão 1: problema de designação linear simples\n",
    "\n",
    "No exemplo, há cinco trabalhadores (numerados de 1 a 4) e quatro tarefas (numeradas de 5 a 8).\n",
    "\n",
    "<img src=\"./img/designacao-custo-minimo.png\">\n",
    "\n",
    "Os custos de atribuição de trabalhadores a tarefas são mostrados na tabela a seguir.\n",
    "\n",
    "|   |5\t|6\t|7\t|8  |\n",
    "|---|---|---|---|---|\n",
    "|1\t|90\t|76\t|75\t|70 |\n",
    "|2\t|35\t|85\t|55\t|65 |\n",
    "|3\t|125|95\t|90\t|105 |\n",
    "|4\t|45\t|110|95\t|115|"
   ]
  },
  {
   "cell_type": "code",
   "execution_count": null,
   "metadata": {},
   "outputs": [],
   "source": []
  },
  {
   "cell_type": "markdown",
   "metadata": {},
   "source": [
    "## Questão 2: problema de designação com equipes de trabalhadores\n",
    "\n",
    "Nesse problema, seis trabalhadores são divididos em duas equipes. O problema é atribuir quatro tarefas aos trabalhadores para que a carga de trabalho seja igualmente equilibrada entre as equipes - ou seja, cada equipe executa duas das tarefas.\n",
    "\n",
    "Os trabalhadores correspondem aos nós 1 - 6. A equipe A consiste nos trabalhadores 1, 3 e 5 e a equipe B consiste nos trabalhadores 2, 4 e 6. As tarefas são numeradas de 7 a 10.\n",
    "\n",
    "Existem dois novos nós, 11 e 12, entre a origem e os trabalhadores. O nó 11 está conectado aos nós da equipe A e o nó 12 está conectado aos nós da equipe B, com arcos de capacidade 1. O gráfico a seguir mostra apenas os nós e arcos da origem aos trabalhadores.\n",
    "\n",
    "<img src=\"./img/designacao-custo-minimo-equipes.png\">\n",
    "\n",
    "A chave para equilibrar a carga de trabalho é que a fonte 0 está conectada aos nós 11 e 12 por arcos de capacidade 2. Isso significa que os nós 11 e 12 (e, portanto, as equipes A e B) podem ter um fluxo máximo de 2. Como resultado, cada equipe pode realizar no máximo duas das tarefas.\n",
    "\n",
    "Os custos de atribuição de trabalhadores a tarefas são mostrados na tabela a seguir.\n",
    "\n",
    "|   |7\t|8\t|9\t|10 |\n",
    "|---|---|---|---|---|\n",
    "|1\t|90\t|76\t|75\t|70 |\n",
    "|2\t|35\t|85\t|55\t|65 |\n",
    "|3\t|125|95\t|90\t|105|\n",
    "|4\t|45\t|110|95\t|115|\n",
    "|5  |60 |105| 80| 75|\n",
    "|6  |45 | 65|110| 95|\n",
    "\n",
    "**Observe que não aparece na figura o nó sumidouro 13 e nem os nós das tarefas (7-10) mas o grafo é semelhante a da questão 1, com arcos saindo de cada um dos seis trabalhadores para as tarefas e então para o sumidouro.**"
   ]
  },
  {
   "cell_type": "code",
   "execution_count": null,
   "metadata": {},
   "outputs": [],
   "source": []
  }
 ],
 "metadata": {
  "kernelspec": {
   "display_name": "C++14",
   "language": "C++14",
   "name": "xcpp14"
  },
  "language_info": {
   "codemirror_mode": "text/x-c++src",
   "file_extension": ".cpp",
   "mimetype": "text/x-c++src",
   "name": "c++",
   "version": "14"
  }
 },
 "nbformat": 4,
 "nbformat_minor": 4
}
