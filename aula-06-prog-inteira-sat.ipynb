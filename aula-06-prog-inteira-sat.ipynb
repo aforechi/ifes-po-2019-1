{
 "cells": [
  {
   "cell_type": "markdown",
   "metadata": {},
   "source": [
    "## CP-SAT\n",
    "\n",
    "### Maximize 2x + 2y + 3z sujeito às seguintes restrições:\n",
    "$\n",
    "\\begin{align}\n",
    "x + \\frac{7}{2} y + \\frac{3}{2} z\t\\le\t25\\\\\n",
    "3x - 5y + 7z\t\\le\t45\\\\\n",
    "5x + 2y - 6z\t\\le\t37\\\\\n",
    "x, y, z \\ge\t0\\\\\n",
    "x, y, z \\in \\mathbb{N} \n",
    "\\end{align}\n",
    "$"
   ]
  },
  {
   "cell_type": "markdown",
   "metadata": {},
   "source": [
    "Para aumentar a velocidade computacional, o solucionador CP-SAT trabalha com números inteiros. Isso significa que todas as restrições e o objetivo devem ter coeficientes inteiros. \n",
    "\n",
    "No exemplo acima, a primeira restrição não atende a essa condição. \n",
    "\n",
    "Para resolver o problema, você deve primeiro transformar a restrição multiplicando-a por um número inteiro suficientemente grande para converter todos os coeficientes em números inteiros. \n",
    "\n",
    "Isso é mostrado na seção Restrições abaixo."
   ]
  },
  {
   "cell_type": "code",
   "execution_count": 10,
   "metadata": {},
   "outputs": [
    {
     "name": "stdout",
     "output_type": "stream",
     "text": [
      "Maximum of objective function: 35\n",
      "\n",
      "x value:  7\n",
      "y value:  3\n",
      "z value:  5\n"
     ]
    }
   ],
   "source": [
    "from __future__ import print_function\n",
    "from ortools.sat.python import cp_model\n",
    "\n",
    "model = cp_model.CpModel()\n",
    "\n",
    "x = model.NewIntVar(0, 2^32, 'x')\n",
    "y = model.NewIntVar(0, 2^32, 'y')\n",
    "z = model.NewIntVar(0, 2^32, 'z')\n",
    "\n",
    "model.Add(2*x + 7*y + 3*z <= 50)\n",
    "model.Add(3*x - 5*y + 7*z <= 45)\n",
    "model.Add(5*x + 2*y - 6*z <= 37)\n",
    "\n",
    "model.Maximize(2*x + 2*y + 3*z)\n",
    "\n",
    "solver = cp_model.CpSolver()\n",
    "status = solver.Solve(model)\n",
    "\n",
    "if status == cp_model.OPTIMAL:\n",
    "    print('Maximum of objective function: %i' % solver.ObjectiveValue())\n",
    "    print()\n",
    "    print('x value: ', solver.Value(x))\n",
    "    print('y value: ', solver.Value(y))\n",
    "    print('z value: ', solver.Value(z))"
   ]
  },
  {
   "cell_type": "code",
   "execution_count": null,
   "metadata": {},
   "outputs": [],
   "source": []
  }
 ],
 "metadata": {
  "kernelspec": {
   "display_name": "Python 3",
   "language": "python",
   "name": "python3"
  },
  "language_info": {
   "codemirror_mode": {
    "name": "ipython",
    "version": 3
   },
   "file_extension": ".py",
   "mimetype": "text/x-python",
   "name": "python",
   "nbconvert_exporter": "python",
   "pygments_lexer": "ipython3",
   "version": "3.8.0"
  }
 },
 "nbformat": 4,
 "nbformat_minor": 4
}
