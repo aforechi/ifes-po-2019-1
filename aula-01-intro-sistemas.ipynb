{
 "cells": [
  {
   "cell_type": "markdown",
   "metadata": {},
   "source": [
    "# Sistemas de equações lineares\n",
    "\n",
    "- O método gráfico resolve PLs com 2 variáveis\n",
    "\n",
    "    - 3 variáveis se você for um ninja da geometria descritiva!\n",
    "\n",
    "\n",
    "- Precisamos de métodos para resolver PLs com qualquer número de variáveis\n"
   ]
  },
  {
   "cell_type": "markdown",
   "metadata": {},
   "source": [
    "## Representação algébrica\n",
    "Um sistema de **n** variáveis e **m** equações pode ser representado como:\n",
    "<img src=\"img/Picture2.png\" width=\"50%\">"
   ]
  },
  {
   "cell_type": "markdown",
   "metadata": {},
   "source": [
    "## Representação matricial\n",
    "\n",
    "Definindo-se as seguintes matrizes, o sistema **S** pode ser representado pelo produto: $Ax=b$\n",
    "\n",
    "<img src=\"img/Picture3.png\" width=\"50%\">\n",
    "\n",
    "- A : Matriz dos coeficientes\n",
    "- x : Vetor de variáveis\n",
    "- b : Vetor dos termos independentes\n"
   ]
  },
  {
   "cell_type": "markdown",
   "metadata": {},
   "source": [
    "## Sistemas de equações lineares\n",
    "\n",
    "Podem ser classificados quanto ao conjunto solução em:\n",
    "\n",
    "- Sistema determinado\n",
    "\n",
    "    - Uma única solução\n",
    "    \n",
    "\n",
    "- Sistema indeterminado\n",
    "\n",
    "    - Infinitas soluções\n",
    "\n",
    "\n",
    "- Sistema inconsistente\n",
    "\n",
    "    - Nenhuma solução\n"
   ]
  },
  {
   "cell_type": "markdown",
   "metadata": {},
   "source": [
    "## Sistemas de equações lineares $m \\times m$\n",
    "\n",
    "- Caso 1: Sistema determinado\n",
    "\n",
    "    D = det A $\\neq$ 0\n",
    "\n",
    "    Posto(A) = m\n",
    "\n",
    "    A é uma matriz inversível, ou seja, $A^{-1}$ existe\n",
    "\n",
    "    A solução do sistema pode ser representada por: $x = A^{-1}b$\n"
   ]
  },
  {
   "cell_type": "markdown",
   "metadata": {},
   "source": [
    "## Sistemas de equações lineares $m \\times m$\n",
    "\n",
    "- Exemplo: Sistema determinado\n",
    "\n",
    "<img src=\"img/Picture4.png\" width=\"50%\">\n"
   ]
  },
  {
   "cell_type": "markdown",
   "metadata": {},
   "source": [
    "## Sistemas de equações lineares $m \\times m$\n",
    "\n",
    "- Caso 2: Sistema indeterminado\n",
    "\n",
    "    D = det(A) = 0\n",
    "\n",
    "    Posto(A) < m\n",
    "\n",
    "    Existem equações Linearmente Dependentes (LD) que podem ser eliminadas\n"
   ]
  },
  {
   "cell_type": "markdown",
   "metadata": {},
   "source": [
    "## Sistemas de equações lineares $m \\times m$\n",
    "\n",
    "- Exemplo: Sistema indeterminado\n",
    "\n",
    "<img src=\"img/Picture5.png\" width=\"50%\">\n"
   ]
  },
  {
   "cell_type": "markdown",
   "metadata": {},
   "source": [
    "## Sistemas de equações lineares $m \\times m$\n",
    "\n",
    "- Exemplo: Sistema inconsistente\n",
    "\n",
    "<img src=\"img/Picture6.png\" width=\"50%\">\n"
   ]
  },
  {
   "cell_type": "markdown",
   "metadata": {},
   "source": [
    "## Resolução de sistemas lineares\n",
    "\n",
    "**Operações elementares**\n",
    "> São transformações aplicadas a um sistema sem que seu conjunto-solução seja modificado. \n",
    "\n",
    "São estas:\n",
    "1. Troca de ordem de equações\n",
    "\n",
    "2. Multiplicação de uma equação por um escalar não-nulo\n",
    "\n",
    "3. Soma da multiplicação de uma equação à outra\n",
    "\n"
   ]
  },
  {
   "cell_type": "markdown",
   "metadata": {},
   "source": [
    "## Resolução de sistemas lineares\n",
    "\n",
    "**Eliminação de Gauss-Jordan**\n",
    "\n",
    "> Método que busca a construção de uma matriz identidade por meio da aplicação de operações elementares\n",
    "\n",
    "Também serve para:\n",
    "1. Encontrar a inversa de uma matriz quadrada (se existir)\n",
    "\n",
    "2. Calcular o posto de uma matriz\n",
    "\n",
    "3. Detectar se o sistema é indeterminado\n",
    "\n"
   ]
  },
  {
   "cell_type": "markdown",
   "metadata": {},
   "source": [
    "## Resolução de sistemas lineares\n",
    "\n",
    "**Eliminação de Gauss-Jordan**\n",
    "\n",
    "<img src=\"img/Picture7.png\" width=\"50%\">\n",
    "\n",
    "Resposta: $x = {2, -3, 1}$"
   ]
  },
  {
   "cell_type": "code",
   "execution_count": null,
   "metadata": {},
   "outputs": [],
   "source": []
  }
 ],
 "metadata": {
  "kernelspec": {
   "display_name": "Octave",
   "language": "octave",
   "name": "octave"
  },
  "language_info": {
   "file_extension": ".m",
   "help_links": [
    {
     "text": "GNU Octave",
     "url": "https://www.gnu.org/software/octave/support.html"
    },
    {
     "text": "Octave Kernel",
     "url": "https://github.com/Calysto/octave_kernel"
    },
    {
     "text": "MetaKernel Magics",
     "url": "https://metakernel.readthedocs.io/en/latest/source/README.html"
    }
   ],
   "mimetype": "text/x-octave",
   "name": "octave",
   "version": "6.4.0"
  }
 },
 "nbformat": 4,
 "nbformat_minor": 4
}
