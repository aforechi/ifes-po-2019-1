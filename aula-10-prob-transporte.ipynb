{
 "cells": [
  {
   "cell_type": "markdown",
   "metadata": {},
   "source": [
    "# Problema de Transporte\n",
    "\n",
    "O problema de transporte se refere a distribuir qualquer produto de qualquer grupo de centros de fornecimento, chamados **origens**, a qualquer grupo de centros de recepção, denominados **destinos**, de modo a minimizar o custo total de distribuição.\n",
    "\n",
    "<img src=\"./img/PT-tabela-geral.png\">\n",
    "\n",
    "## Variáveis do Problema\n",
    "- $x$ número de unidades do produto\n",
    "- $m$ origens\n",
    "- $n$ destinos\n",
    "- Oferta $s_i$ da origem $i$\n",
    "- Demanda $d_j$ no destino $j$\n",
    "- Custo $c_{ij}$ por unidade distribuída da origem $i$ para o destino $j$\n",
    "\n",
    "        Os únicos dados necessários para um modelo de problema de transporte são as origens, demandas e custos unitários."
   ]
  },
  {
   "cell_type": "markdown",
   "metadata": {},
   "source": [
    "### Hipótese das exigências: \n",
    "\n",
    "$\\sum_{i=1}^m s_i = \\sum_{j=1}^n d_j$\n",
    "\n",
    "Cada origem tem uma oferta fixa de unidades, em que toda essa oferta tem de ser distribuída aos destinos. (Façamos que $s_i$ represente o número de unidades sendo distribuídas pela origem $i$, para $i = 1, 2, ... , m.$) \n",
    "\n",
    "De forma similar, cada destino tem uma demanda fixa por unidades, nas quais toda essa demanda deve ser recebida das origens. (Façamos que $d_j$ represente o número de unidades recebidas pelo destino $j$, para $j = 1, 2, ... , n.$)\n",
    "\n",
    "Em problemas reais, as ofertas, na verdade, representam quantidades máximas (e não quantidades fixas) a serem distribuídas. De modo similar, em outros casos, as demandas representam quantidades máximas (e não quantidades fixas) a serem recebidas. \n",
    "\n",
    "Tais problemas violam a **hipótese das exigências**. Entretanto, é possível reformular o problema de modo que eles atendam a esse modelo, pela introdução de um destino \"fantasma\" ou de uma origem \"fantasma\" para absorver a folga entre as quantidades reais e as quantidades máximas que estão sendo distribuídas. "
   ]
  },
  {
   "cell_type": "markdown",
   "metadata": {},
   "source": [
    "### Hipótese do custo: \n",
    "\n",
    "O custo de distribuição de unidades de qualquer origem em particular para qualquer destino em particular é **diretamente proporcional** ao número de unidades distribuídas. \n",
    "\n",
    "Portanto, esse custo é simplesmente o custo unitário de distribuição vezes o número de unidades distribuídas. "
   ]
  },
  {
   "cell_type": "markdown",
   "metadata": {},
   "source": [
    "## Modelo do Problema:\n",
    "\n",
    "Fazendo que $Z$ seja o custo total de distribuição e $x_{ij} (i= 1,2,...,m;j= 1,2,...,n)$ seja o número de unidades a serem distribuídas da origem $i$ para o destino $j$, a formulação em programação linear desse problema ficaria assim\n",
    "\n",
    "Minimizar: $Z = \\sum_{i=1}^m \\sum_{j=1}^n c_{ij}x_{ij}$\n",
    "\n",
    "\n",
    "Sujeito a: \n",
    "\n",
    "$\\sum_{j=1}^n x_{ij} = s_i$, para $j= 1,2,...,m$,\n",
    "\n",
    "$\\sum_{i=1}^m x_{ij} = d_j$, para $i= 1,2,...,n$,\n",
    "\n",
    "$x_{ij} \\ge 0$, para todo $i$ e $j$.\n",
    "\n",
    "$x_{ij}$ inteiro, para todo $i$ e $j$."
   ]
  },
  {
   "cell_type": "markdown",
   "metadata": {},
   "source": [
    "### Propriedade das soluções inteiras: \n",
    "\n",
    "Para problemas de transporte em que todos $s_i$ e $d_j$ são valores inteiros, todas as variáveis básicas (alocações) em toda solução (BV) viável (inclusive uma solução ótima) também são valores inteiros.\n",
    "\n",
    "Para muitas aplicações, os volumes de oferta $s_i$ e de demanda $d_j$ no modelo têm valores inteiros e a implementação exigirá que as quantidades distribuídas $x_{ij}$ também sejam valores inteiros.\n",
    "\n",
    "O MÉTODO SIMPLEX APERFEIÇOADO PARA O PROBLEMA DE TRANSPORTE lida somente com soluções BV inteiras, de modo que ele vai obter automaticamente uma solução ótima inteira. Portanto, é desnecessário acrescentar uma restrição ao modelo em que os $x_{ij}$ têm de ser inteiros."
   ]
  },
  {
   "cell_type": "markdown",
   "metadata": {},
   "source": [
    "## Problema de exemplo\n",
    "\n",
    "Um dos principais produtos da P & T COMPANY são ervilhas enlatadas. As ervilhas pre- paradas em três fábricas de enlatados (próximas a Bellingham, Washington; Eugene, Oregon; e Albert Lea, Minnesota) e depois transportadas por caminhão para quatro depósi- tos de distribuição no oeste dos Estados Unidos (Sacramento, Califórnia; Salt Lake City, Utah; Dakota do Sul; e Albuquerque, Novo México).\n",
    "\n",
    "<img src=\"./img/PT-mapa.png\">\n",
    "\n",
    "Para a próxima temporada, foi feita uma estimativa do volume proveniente de cada fábrica de enlatados e foi destinado a cada depósito certa quantidade do suprimento total de ervilhas. Essas informações (em unidades de carretas), juntamente com o custo de transporte por carreta para cada combinação fábrica-depósito.\n",
    "\n",
    "<img src=\"./img/PT-grafo.png\">\n",
    "\n",
    "Há uma carga total a ser remetida de 300 carretas. O problema agora é determinar qual plano de destinação dessas remessas às diversas combinações fábrica-depósito iria minimizar o custo total de remessa dessa mercadoria.\n",
    "\n",
    "<img src=\"./img/PT-tabela.png\">\n",
    "\n",
    "**Minimizar:** $Z = 464x_{11} + 513x_{12} + 654x_{13} + 867x_{14} + 352x_{21} + 416x_{22} + 690x_{23} + 791x_{24} + 995x_{31} + 682x_{32} + 388x_{33} + 685x_{34}$\n",
    "\n",
    "**Sujeito a:**\n",
    "\n",
    "<img src=\"./img/PT-matriz.png\">"
   ]
  },
  {
   "cell_type": "code",
   "execution_count": 2,
   "metadata": {
    "slideshow": {
     "slide_type": "subslide"
    }
   },
   "outputs": [],
   "source": [
    "#include <iostream>\n",
    "#include <iomanip>\n",
    "#include \"setup.h\"\n",
    "#include \"ortools/linear_solver/linear_solver.h\"\n",
    "#include \"ortools/linear_solver/linear_solver.pb.h\"\n",
    "\n",
    "using namespace operations_research;\n",
    "\n",
    "const double infinity = MPSolver::infinity();"
   ]
  },
  {
   "cell_type": "code",
   "execution_count": 3,
   "metadata": {},
   "outputs": [
    {
     "name": "stdout",
     "output_type": "stream",
     "text": [
      "Number of variables = 12\n",
      "Number of constraints = 7\n",
      "Solution:\n",
      "Objective value = 152535\n",
      " x11=  0 x12= 20 x13=  0 x14= 55\n",
      " x21= 80 x22= 45 x23=  0 x24=  0\n",
      " x31=  0 x32=  0 x33= 70 x34= 30\n"
     ]
    }
   ],
   "source": [
    "{\n",
    "    const int m(3), n(4);\n",
    "    \n",
    "    int s[m] = {75, 125, 100};\n",
    "\n",
    "    int d[n] = {80, 65, 70, 85};\n",
    "\n",
    "    int c[m][n] = {{464,513,654,867}, \n",
    "                   {352,416,690,791}, \n",
    "                   {995,682,388,685}};\n",
    "    \n",
    "    MPSolver solver(\"transporte\", MPSolver::GLOP_LINEAR_PROGRAMMING);\n",
    "    \n",
    "    std::vector<std::vector<MPVariable*>> x(m, std::vector<MPVariable*>(n));\n",
    "    \n",
    "    for(int i=0; i < m; i++) {\n",
    "        for(int j=0; j < n; j++) {\n",
    "            x[i][j] = solver.MakeNumVar(0.0, infinity, \"x\" + std::to_string(i+1) + std::to_string(j+1));\n",
    "        }\n",
    "    }\n",
    "    std::cout << \"Number of variables = \" << solver.NumVariables() << std::endl;\n",
    "    \n",
    "    // Restrição de Origem\n",
    "    for(int i=0; i < m; i++) {\n",
    "        MPConstraint* const c = solver.MakeRowConstraint(s[i], s[i], \"s\" + std::to_string(i+1));\n",
    "        for(int j=0; j < n; j++) {\n",
    "            c->SetCoefficient(x[i][j], 1);\n",
    "        }\n",
    "    }\n",
    "\n",
    "    // Restrição de Destino\n",
    "    for(int j=0; j < n; j++) {\n",
    "        MPConstraint* const c = solver.MakeRowConstraint(d[j], d[j], \"d\" + std::to_string(j+1));\n",
    "        for(int i=0; i < m; i++) {\n",
    "            c->SetCoefficient(x[i][j], 1);\n",
    "        }\n",
    "    }\n",
    "    std::cout << \"Number of constraints = \" << solver.NumConstraints() << std::endl;\n",
    "    \n",
    "    // Minimizar Z.\n",
    "    MPObjective* const objective = solver.MutableObjective();\n",
    "    for(int i=0; i < m; i++) {\n",
    "        for(int j=0; j < n; j++) {\n",
    "            objective->SetCoefficient(x[i][j], c[i][j]);\n",
    "        }\n",
    "    }\n",
    "    objective->SetMinimization();\n",
    "    \n",
    "    const MPSolver::ResultStatus result_status = solver.Solve();\n",
    "    // Check that the problem has an optimal solution.\n",
    "    if (result_status != MPSolver::OPTIMAL) {\n",
    "         std::cout << \"The problem does not have an optimal solution!\" << std::endl;\n",
    "    }\n",
    "    \n",
    "    std::cout << \"Solution:\" << std::endl;\n",
    "    std::cout << \"Objective value = \" << objective->Value() << std::endl;\n",
    "    for(int i=0; i < m; i++) {\n",
    "        for(int j=0; j < n; j++) {\n",
    "            std::cout << \" x\" << i+1 << j+1 << \"=\" << std::setw(3) << x[i][j]->solution_value() ;\n",
    "        }\n",
    "        std::cout << std::endl;\n",
    "    }\n",
    " \n",
    "}"
   ]
  },
  {
   "cell_type": "code",
   "execution_count": 4,
   "metadata": {},
   "outputs": [],
   "source": [
    "//MODIFIQUE O EXEMPLO ACIMA PARA (1) USAR O SOLVER SCIP (2) COM VARIAVEIS INTEIRAS E (3) VERIFICAR SE A PROPRIEDADE DE SOLUÇÕES INTEIRAS É SATISFEITA"
   ]
  },
  {
   "cell_type": "markdown",
   "metadata": {},
   "source": [
    "## Exemplo com um Destino \"Fantasma\"\n",
    "\n",
    "A CIA. AÉREA SETENTRIONAL constrói aviões comerciais para diversas companhias aéreas ao redor do mundo. O último estágio no processo de produção é produzir os motores a jato e depois instalá-los (uma operação muito rápida) na estrutura completa da aeronave.\n",
    "\n",
    "<img src=\"./img/setentrional.png\">\n",
    "\n",
    "- Origem i = produção de motores ajato no mês i (i = 1, 2, 3, 4) \n",
    "- Destino j = instalação de motores a jato no mês j (j = 1, 2, 3, 4)\n",
    "- $x_{ij}$ = número de motores produzido no mês i para instalação no mês j \n",
    "- $c_{ij}$ = Custo por unidade para produção e armazenamento se $i \\le j$\n",
    "- $s_i$ =?\n",
    "- $d_j$ = número de instalações programadas no mês j."
   ]
  },
  {
   "cell_type": "code",
   "execution_count": 7,
   "metadata": {},
   "outputs": [
    {
     "name": "stdout",
     "output_type": "stream",
     "text": [
      "Number of variables = 16\n",
      "Number of constraints = 8\n",
      "Solution:\n",
      "Objective value = 77.3\n",
      " x11= 10 x12= 10 x13=  5 x14=  0\n",
      " x21= -0 x22=  5 x23=  0 x24=  0\n",
      " x31= -0 x32= -0 x33= 20 x34= 10\n",
      " x41= -0 x42= -0 x43= -0 x44= 10\n"
     ]
    }
   ],
   "source": [
    "{\n",
    "    const int m(4), n(4);\n",
    "    \n",
    "    const double M = 100;\n",
    "    \n",
    "    double s[m] = {25, 35, 30, 10};\n",
    "    \n",
    "    double d[n] = {10, 15, 25, 20};\n",
    "\n",
    "    double c[m][n] = {{1.080,1.095,1.110,1.125}, \n",
    "                      {M,1.110,1.125,1.140}, \n",
    "                      {M,M,1.100,1.115},\n",
    "                      {M,M,M,1.130}};\n",
    "    \n",
    "    MPSolver solver(\"transporte2\", MPSolver::SCIP_MIXED_INTEGER_PROGRAMMING);\n",
    "    \n",
    "    std::vector<std::vector<MPVariable*>> x(m, std::vector<MPVariable*>(n));\n",
    "    \n",
    "    for(int i=0; i < m; i++) {\n",
    "        for(int j=0; j < n; j++) {\n",
    "            x[i][j] = solver.MakeIntVar(0, (c[i][j] == M ? 0 : infinity), \n",
    "                                        \"x\" + std::to_string(i+1) + std::to_string(j+1));\n",
    "        }\n",
    "    }\n",
    "    std::cout << \"Number of variables = \" << solver.NumVariables() << std::endl;\n",
    "    \n",
    "    // Restrição de Origem\n",
    "    for(int i=0; i < m; i++) {\n",
    "        MPConstraint* const c = solver.MakeRowConstraint(-infinity, s[i], \"s\" + std::to_string(i+1));\n",
    "        for(int j=0; j < n; j++) {\n",
    "            c->SetCoefficient(x[i][j], 1);\n",
    "        }\n",
    "    }\n",
    "\n",
    "    // Restrição de Destino\n",
    "    for(int j=0; j < n; j++) {\n",
    "        MPConstraint* const c = solver.MakeRowConstraint(d[j], d[j], \"d\" + std::to_string(j+1));\n",
    "        for(int i=0; i < m; i++) {\n",
    "            c->SetCoefficient(x[i][j], 1);\n",
    "        }\n",
    "    }\n",
    "    std::cout << \"Number of constraints = \" << solver.NumConstraints() << std::endl;\n",
    "    \n",
    "    // Minimizar Z.\n",
    "    MPObjective* const objective = solver.MutableObjective();\n",
    "    for(int i=0; i < m; i++) {\n",
    "        for(int j=0; j < n; j++) {\n",
    "            objective->SetCoefficient(x[i][j], c[i][j]);\n",
    "        }\n",
    "    }\n",
    "    objective->SetMinimization();\n",
    "    \n",
    "    const MPSolver::ResultStatus result_status = solver.Solve();\n",
    "    // Check that the problem has an optimal solution.\n",
    "    if (result_status != MPSolver::OPTIMAL) {\n",
    "         std::cout << \"The problem does not have an optimal solution!\" << std::endl;\n",
    "    }\n",
    "    \n",
    "    std::cout << \"Solution:\" << std::endl;\n",
    "    std::cout << \"Objective value = \" << objective->Value() << std::endl;\n",
    "    for(int i=0; i < m; i++) {\n",
    "        for(int j=0; j < n; j++) {\n",
    "            std::cout << \" x\" << i+1 << j+1 << \"=\" << std::setw(3) << x[i][j]->solution_value() ;\n",
    "        }\n",
    "        std::cout << std::endl;\n",
    "    }\n",
    " \n",
    "}"
   ]
  },
  {
   "cell_type": "code",
   "execution_count": null,
   "metadata": {},
   "outputs": [],
   "source": []
  }
 ],
 "metadata": {
  "kernelspec": {
   "display_name": "C++14",
   "language": "C++14",
   "name": "xcpp14"
  },
  "language_info": {
   "codemirror_mode": "text/x-c++src",
   "file_extension": ".cpp",
   "mimetype": "text/x-c++src",
   "name": "c++",
   "version": "14"
  }
 },
 "nbformat": 4,
 "nbformat_minor": 4
}
