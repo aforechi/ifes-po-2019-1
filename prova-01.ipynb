{
 "cells": [
  {
   "cell_type": "markdown",
   "metadata": {},
   "source": [
    "# Estudo de caso: \n",
    "\n",
    "## Alocação de Incentivos para Usuários e Motoristas da Lyft\n",
    "\n",
    "A figura abaixo ilustra um exemplo hipotético de um problema de alocação de incentivos: dado um grupo elegível de clientes ou motoristas, um conjunto de incentivos e um orçamento, queremos alocar os incentivos aos clientes ou motoristas para maximizar métricas incrementais, como viagens ou horas de condução.\n",
    "<img style=\"float: center;\" src=\"https://miro.medium.com/max/1400/1*mISAbI2U6iU2yNAqj3FxTQ.png\">\n",
    "\n",
    "A alocação de incentivos é um tema comum na Lyft. Por exemplo, a empresa envia cupons promocionais aos clientes e bônus aos motoristas, na esperança de otimizar funções com o objetivo de maximizar o número de viagens ou o número de horas de condução. Nesse contexto, as principais restrições são (1) uma restrição orçamentária total sobre quanto podemos gastar com os incentivos e, às vezes (2) uma exigência de que cada cliente ou motorista possa receber apenas um incentivo no máximo. \n",
    "\n",
    "Tais problemas de alocação podem ser facilmente formulados como problemas de **programação inteira**, que podem ser mais relaxados para serem lineares. Embora esses problemas possuam estruturas simples, seu tamanho pode facilmente aumentar (por exemplo, pode haver muitos incentivos ou uma grande base de clientes). Então, nos perguntamos: existe uma maneira rápida e eficiente de resolver esse problema que pode superar os **Solvers** de código-fonte aberto? A resposta é sim. Nesse caso de uso específico, foi desenvolvido um algorítmo baseado na **teoria da dualidade**.\n",
    "\n",
    "Na Lyft, os cientistas resolvem os mais diversos tipos de problemas de otimização. Embora os **Solvers** possam ser úteis, há momentos em que problemas complicados ou em larga escala precisam ser simplificados e resolvidos com algoritmos personalizados e mais eficientes. Neste caso, veremos como os cientistas da Lyft usaram a dualidade de programação linear para transformar e resolver um problema de alocação de incentivos. Para saber mais detalhes sobre como a Lyft utilizou a **Teoria da Dualidade** de **Programação Linear** para resolver o problema **10x** mais rápido do que utilizando **Solvers** convencionais [veja aqui](https://eng.lyft.com/how-to-solve-a-linear-optimization-problem-on-incentive-allocation-5a8fb5d04db1).\n",
    "\n",
    "Daqui em diante, você deverá encontrar a solução **Primal** e **Dual** utilizando os **Solver** de Programação Linear Inteira CBC_MIXED_INTEGER_PROGRAMMING.\n",
    "\n",
    "## Formulação de problema\n",
    "Por uma questão de simplicidade, vamos considerar um cenário de distribuição de cupons aos clientes apenas. \n",
    "\n",
    "**Definimos o seguinte:**\n",
    "<img style=\"float: center;\" src=\"https://miro.medium.com/max/1400/1*KrbFUz2QleRSyAYy-0Qhtg.png\">"
   ]
  },
  {
   "cell_type": "markdown",
   "metadata": {},
   "source": [
    "## Primal\n",
    "<img style=\"float: center;\" src=\"https://miro.medium.com/max/1400/1*_5K88oTSRTSSKR7fI2uBow.png\">"
   ]
  },
  {
   "cell_type": "code",
   "execution_count": 1,
   "metadata": {},
   "outputs": [],
   "source": [
    "#include <iostream>\n",
    "#include <random>"
   ]
  },
  {
   "cell_type": "code",
   "execution_count": 2,
   "metadata": {
    "slideshow": {
     "slide_type": "subslide"
    }
   },
   "outputs": [],
   "source": [
    "#include \"setup.h\"\n",
    "#include \"ortools/linear_solver/linear_solver.h\"\n",
    "#include \"ortools/linear_solver/linear_solver.pb.h\"\n",
    "\n",
    "using namespace operations_research;"
   ]
  },
  {
   "cell_type": "markdown",
   "metadata": {},
   "source": [
    "## Crie uma variável para o cliente (rider) i"
   ]
  },
  {
   "cell_type": "code",
   "execution_count": 3,
   "metadata": {},
   "outputs": [],
   "source": [
    "int i;"
   ]
  },
  {
   "cell_type": "markdown",
   "metadata": {},
   "source": [
    "## Crie uma variável para o cupom do tipo j"
   ]
  },
  {
   "cell_type": "code",
   "execution_count": 4,
   "metadata": {},
   "outputs": [],
   "source": [
    "int j;"
   ]
  },
  {
   "cell_type": "markdown",
   "metadata": {},
   "source": [
    "## Crie uma constante para o total de m clientes (riders), use m=100"
   ]
  },
  {
   "cell_type": "code",
   "execution_count": 5,
   "metadata": {},
   "outputs": [],
   "source": [
    "const int m = 100;"
   ]
  },
  {
   "cell_type": "markdown",
   "metadata": {},
   "source": [
    "## Crie uma constante para o número máximo de tipos de cupons distintos, use k=10"
   ]
  },
  {
   "cell_type": "code",
   "execution_count": 6,
   "metadata": {},
   "outputs": [],
   "source": [
    "const int k = 10;"
   ]
  },
  {
   "cell_type": "markdown",
   "metadata": {},
   "source": [
    "## Para cada cliente (rider) i = 1,...,m, há $k_i$ tipos distintos de cupons que podem ser atribuídos a cada cliente. Observe que $k_i$ pode ser diferente para cada cliente."
   ]
  },
  {
   "cell_type": "code",
   "execution_count": 7,
   "metadata": {},
   "outputs": [],
   "source": [
    "std::vector<int> k_i (m);"
   ]
  },
  {
   "cell_type": "markdown",
   "metadata": {},
   "source": [
    "## Defina $x_{ij}$, onde i=1,...,m; e j=1,...,$k_i$, como uma variável binária indicando se o cliente i recebe um cupom do tipo j. Utilize vetores para armazenamento."
   ]
  },
  {
   "cell_type": "code",
   "execution_count": 8,
   "metadata": {},
   "outputs": [],
   "source": [
    "std::vector<std::vector<const MPVariable*>> x(m, std::vector<const MPVariable*>(k));"
   ]
  },
  {
   "cell_type": "markdown",
   "metadata": {},
   "source": [
    "## Para cada cliente (rider) i e tipo de cupom j, há um valor associado $v_{ij}$, onde i=1,...,m; e j=1,...,$k_i$. Utilize vetores para armazenamento."
   ]
  },
  {
   "cell_type": "code",
   "execution_count": 9,
   "metadata": {},
   "outputs": [],
   "source": [
    "std::vector<std::vector<int>> v (m, std::vector<int>(k));"
   ]
  },
  {
   "cell_type": "markdown",
   "metadata": {},
   "source": [
    "## Para cada cliente (rider) i e tipo de cupom j, há um custo associado $c_{ij}$, onde i=1,...,m; e j=1,...,$k_i$."
   ]
  },
  {
   "cell_type": "code",
   "execution_count": 10,
   "metadata": {},
   "outputs": [],
   "source": [
    "std::vector<std::vector<int>> c (m, std::vector<int>(k));"
   ]
  },
  {
   "cell_type": "markdown",
   "metadata": {},
   "source": [
    "## Observe nos dados aleatórios gerados abaixo que alguns clientes (riders) não têm todos os tipos de incentivos k, mas apenas os primeiros $k_i$"
   ]
  },
  {
   "cell_type": "code",
   "execution_count": 11,
   "metadata": {},
   "outputs": [],
   "source": [
    "std::default_random_engine generator;  \n",
    "std::uniform_int_distribution<int> uniform_dist(0, 100);\n",
    "std::uniform_int_distribution<int> incentives_dist(1, k);\n",
    "\n",
    "for(i=0; i < m; i++) {\n",
    "    k_i[i] = incentives_dist(generator);\n",
    "    for(j=0; j < k; j++) {\n",
    "        v[i][j] = uniform_dist(generator);\n",
    "        c[i][j] = uniform_dist(generator);\n",
    "    }\n",
    "}"
   ]
  },
  {
   "cell_type": "markdown",
   "metadata": {},
   "source": [
    "## Considere um orçamento C, que limita o custo total que pode ser incorrido em uma tarefa viável. $C = \\frac{\\sum c_{ij}}{2k}$"
   ]
  },
  {
   "cell_type": "code",
   "execution_count": 12,
   "metadata": {},
   "outputs": [],
   "source": [
    "int C (0);\n",
    "for(i=0; i < m; i++) \n",
    "    for(j=0; j < k; j++) \n",
    "        C += c[i][j];\n",
    "C /= 2 * k;"
   ]
  },
  {
   "cell_type": "markdown",
   "metadata": {},
   "source": [
    "## Crie o resolvedor MIP com o back-end CBC."
   ]
  },
  {
   "cell_type": "code",
   "execution_count": 13,
   "metadata": {},
   "outputs": [],
   "source": [
    "MPSolver solver(\"simple_mip_program\", MPSolver::CBC_MIXED_INTEGER_PROGRAMMING);"
   ]
  },
  {
   "cell_type": "markdown",
   "metadata": {},
   "source": [
    "## Defina as combinações de variáveis $x_{ij}$ que não possuam todos os tipos de cupons disponívels com limite superior 0 para eliminá-las do espaço de solução. Isso pode ser usado pelo solucionador na etapa de pré-resolução, reduzindo o tamanho do modelo. As variáveis que possuem cupons disponíveis são aquelas que $k_i < k$ e, nesse caso, o limite inferior deve ser 1."
   ]
  },
  {
   "cell_type": "code",
   "execution_count": 14,
   "metadata": {},
   "outputs": [
    {
     "name": "stdout",
     "output_type": "stream",
     "text": [
      "Number of variables = 579\n"
     ]
    }
   ],
   "source": [
    "int count(0);\n",
    "for(i=0; i < m; i++) {\n",
    "    for(j=0; j < k; j++) {\n",
    "        double ub = j < k_i[i] ? 1.0 : 0.0;\n",
    "        x[i][j] = solver.MakeIntVar(0.0, ub, \"\");\n",
    "        count += ub;\n",
    "    }\n",
    "}\n",
    "std::cout << \"Number of variables = \" << count << std::endl;"
   ]
  },
  {
   "cell_type": "markdown",
   "metadata": {},
   "source": [
    "## Crie a restrição de orçamento usando o C calculado acima"
   ]
  },
  {
   "cell_type": "code",
   "execution_count": 15,
   "metadata": {},
   "outputs": [
    {
     "name": "stdout",
     "output_type": "stream",
     "text": [
      "Number of constraints = 1\n"
     ]
    }
   ],
   "source": [
    "MPConstraint* budget = solver.MakeRowConstraint(0, C, \"budget\");\n",
    "for (i = 0; i < m; i++) \n",
    "    for (j = 0; j < k_i[i]; j++) \n",
    "      budget->SetCoefficient(x[i][j], c[i][j]);\n",
    "\n",
    "std::cout << \"Number of constraints = \" << solver.NumConstraints() << std::endl;"
   ]
  },
  {
   "cell_type": "markdown",
   "metadata": {},
   "source": [
    "## Crie restrições para que cada cliente possa ser receber no máximo um cupom ao todo."
   ]
  },
  {
   "cell_type": "code",
   "execution_count": 16,
   "metadata": {},
   "outputs": [
    {
     "name": "stdout",
     "output_type": "stream",
     "text": [
      "Number of constraints = 101\n"
     ]
    }
   ],
   "source": [
    "for (i = 0; i < m; i++) {\n",
    "    MPConstraint* constraint = solver.MakeRowConstraint(0, 1, \"\");\n",
    "    for (j = 0; j < k_i[i]; j++) \n",
    "        constraint->SetCoefficient(x[i][j], 1.0);\n",
    "}\n",
    "std::cout << \"Number of constraints = \" << solver.NumConstraints() << std::endl;"
   ]
  },
  {
   "cell_type": "markdown",
   "metadata": {},
   "source": [
    "## Crie a função objetivo"
   ]
  },
  {
   "cell_type": "code",
   "execution_count": 17,
   "metadata": {},
   "outputs": [],
   "source": [
    "MPObjective* objective = solver.MutableObjective();\n",
    "for (i = 0; i < m; i++) \n",
    "    for (j = 0; j < k_i[i]; j++)\n",
    "        objective->SetCoefficient(x[i][j], v[i][j]);"
   ]
  },
  {
   "cell_type": "markdown",
   "metadata": {},
   "source": [
    "## O objetivo é maximizar o valor total dos cupons atribuídos."
   ]
  },
  {
   "cell_type": "code",
   "execution_count": 18,
   "metadata": {},
   "outputs": [],
   "source": [
    "objective->SetMaximization();"
   ]
  },
  {
   "cell_type": "markdown",
   "metadata": {},
   "source": [
    "## Verifique se o problema tem uma solução ótima e imprima seu valor."
   ]
  },
  {
   "cell_type": "code",
   "execution_count": 19,
   "metadata": {},
   "outputs": [
    {
     "name": "stdout",
     "output_type": "stream",
     "text": [
      "Optimal objective value = 7321\n"
     ]
    }
   ],
   "source": [
    "const MPSolver::ResultStatus result_status = solver.Solve();\n",
    "\n",
    "if (result_status != MPSolver::OPTIMAL) \n",
    "    std::cout << \"The problem does not have an optimal solution.\" << std::endl;\n",
    "\n",
    "std::cout << \"Optimal objective value = \" << objective->Value() << std::endl;\n"
   ]
  },
  {
   "cell_type": "markdown",
   "metadata": {},
   "source": [
    "## Monte um histograma numa tabela 10x1 com todos os cupons distribuidos k. Conte o número de vezes que $x_{ij}==1$ para cada j"
   ]
  },
  {
   "cell_type": "code",
   "execution_count": 20,
   "metadata": {},
   "outputs": [
    {
     "name": "stdout",
     "output_type": "stream",
     "text": [
      "Cupom 1 : 24\n",
      "Cupom 2 : 19\n",
      "Cupom 3 : 15\n",
      "Cupom 4 : 11\n",
      "Cupom 5 : 13\n",
      "Cupom 6 : 6\n",
      "Cupom 7 : 1\n",
      "Cupom 8 : 0\n",
      "Cupom 9 : 4\n",
      "Cupom 10 : 0\n",
      "Total de Cupons:  93\n"
     ]
    }
   ],
   "source": [
    "{\n",
    "    std::vector<int> histograma (10, 0);\n",
    "\n",
    "    for (i = 0; i < m; i++)\n",
    "       for (j = 0; j < k; j++)\n",
    "           if (x[i][j]->solution_value())\n",
    "               histograma[j]++;\n",
    "\n",
    "    int total(0);\n",
    "    for (j = 0; j < k; j++) {\n",
    "        total += histograma[j];\n",
    "        std::cout << \"Cupom \" << j+1 << \" : \" << histograma[j] << std::endl;\n",
    "    }\n",
    "\n",
    "    std::cout << \"Total de Cupons:  \" << total << std ::endl;\n",
    "}"
   ]
  },
  {
   "cell_type": "markdown",
   "metadata": {},
   "source": [
    "## Verifique se os dados resultantes satisfazem as restrições (custo <= C)"
   ]
  },
  {
   "cell_type": "code",
   "execution_count": 21,
   "metadata": {},
   "outputs": [
    {
     "name": "stdout",
     "output_type": "stream",
     "text": [
      "2485 <= 2485 Ok \n"
     ]
    }
   ],
   "source": [
    "{\n",
    "    int custo(0);\n",
    "    for (i = 0; i < m; i++)\n",
    "        for (j = 0; j < k; j++)\n",
    "            custo += c[i][j] * x[i][j]->solution_value(); \n",
    "\n",
    "    if(custo <= C)\n",
    "        std::cout<< custo << \" <= \" << C << std::endl;\n",
    "    else\n",
    "        std::cout<< custo << \" > \" << C << std::endl;\n",
    "}"
   ]
  },
  {
   "cell_type": "markdown",
   "metadata": {},
   "source": [
    "## Verifique se o valor total da resposta é igual à função objetivo"
   ]
  },
  {
   "cell_type": "code",
   "execution_count": 22,
   "metadata": {},
   "outputs": [
    {
     "name": "stdout",
     "output_type": "stream",
     "text": [
      "Valor total da resposta igual que a funcao objetivo. 7321\n"
     ]
    }
   ],
   "source": [
    "{\n",
    "    int resposta(0);\n",
    "    \n",
    "    for (i = 0; i < m; i++)\n",
    "        for (j = 0; j < k; j++)\n",
    "            resposta += v[i][j]*x[i][j]->solution_value();\n",
    "\n",
    "    if (resposta != objective->Value())\n",
    "        std::cout << \"Valor total da resposta (\" << resposta << \") é diferente da FO. \" << objective->Value() << std::endl;\n",
    "    else\n",
    "        std::cout << \"Valor total da resposta é igual a FO. \" << resposta << std::endl;\n",
    "}"
   ]
  },
  {
   "cell_type": "markdown",
   "metadata": {},
   "source": [
    "## Verifique se cada cliente recebeu apenas um cupom no máximo"
   ]
  },
  {
   "cell_type": "code",
   "execution_count": 23,
   "metadata": {},
   "outputs": [],
   "source": [
    "{\n",
    "    for (i = 0; i < m; i++){\n",
    "        int cupons(0);\n",
    "        \n",
    "        for (j = 0; j < k; j++)\n",
    "           if(x[i][j]->solution_value() == 1.0)\n",
    "                cupons++;\n",
    "        \n",
    "        if(cupons > 1)\n",
    "            std::cout<< \"Cliente \" << i+1 << \" recebeu mais de um cupom!\" << std::endl;\n",
    "    }\n",
    "}"
   ]
  },
  {
   "cell_type": "markdown",
   "metadata": {},
   "source": [
    "**Definimos o seguinte:**\n",
    "<img style=\"float: center;\" src=\"https://miro.medium.com/max/1400/1*ES8QjWf5Xe_v5mprEiRELQ.png\">\n",
    "\n",
    "## Dual\n",
    "<img style=\"float: center;\" src=\"https://miro.medium.com/max/1400/1*nWbaZVpT_fjXDQYDo7P2Tg.png\">"
   ]
  },
  {
   "cell_type": "code",
   "execution_count": 24,
   "metadata": {},
   "outputs": [
    {
     "name": "stdout",
     "output_type": "stream",
     "text": [
      "Número de variáveis = 101\n",
      "Número de restrições = 579\n",
      "O problema tem uma solucao otima!\n",
      "Objective value = 7340\n"
     ]
    }
   ],
   "source": [
    "{\n",
    "    MPSolver solver(\"simple_mip_program\", MPSolver::CBC_MIXED_INTEGER_PROGRAMMING);\n",
    "\n",
    "    const double infinity = solver.infinity();\n",
    "\n",
    "    std::vector<const MPVariable*> y_i(m);\n",
    "\n",
    "    for (i = 0; i < m; i++)\n",
    "        y_i[i] = solver.MakeIntVar(0.0, infinity, \"\");\n",
    "\n",
    "    auto const lambda = solver.MakeNumVar(0.0, infinity, \"\");\n",
    "\n",
    "    std::cout << \"Número de variáveis = \" << solver.NumVariables() << std::endl;\n",
    "\n",
    "    for (i = 0; i < m; i++){\n",
    "        for(j = 0; j < k_i[i]; j++){\n",
    "            auto const c1 = solver.MakeRowConstraint(v[i][j], infinity, \"\");\n",
    "            c1->SetCoefficient(y_i[i], 1.0);\n",
    "            c1->SetCoefficient(lambda, c[i][j]);\n",
    "        }\n",
    "    }\n",
    "\n",
    "    std::cout << \"Número de restrições = \" << solver.NumConstraints() << std::endl;\n",
    "\n",
    "    auto const objetivo = solver.MutableObjective();\n",
    "    for (i = 0; i < m; i++)\n",
    "            objetivo->SetCoefficient(y_i[i], 1.0);\n",
    "    objetivo->SetCoefficient(lambda, C);\n",
    "\n",
    "    objetivo->SetMinimization();\n",
    "\n",
    "    auto const resultado_status = solver.Solve();\n",
    "    \n",
    "    if (resultado_status == MPSolver::OPTIMAL) {\n",
    "        std::cout << \"O problema tem uma solucao otima!\" << std::endl;\n",
    "        std::cout << \"Objective value = \" << objetivo->Value() << std::endl;      \n",
    "    }\n",
    "    else{\n",
    "        std::cout << \"O problema nao tem uma solucao otima!\";  \n",
    "    }\n",
    "}"
   ]
  },
  {
   "cell_type": "code",
   "execution_count": null,
   "metadata": {},
   "outputs": [],
   "source": []
  }
 ],
 "metadata": {
  "kernelspec": {
   "display_name": "C++14",
   "language": "C++14",
   "name": "xcpp14"
  },
  "language_info": {
   "codemirror_mode": "text/x-c++src",
   "file_extension": ".cpp",
   "mimetype": "text/x-c++src",
   "name": "c++",
   "version": "14"
  }
 },
 "nbformat": 4,
 "nbformat_minor": 4
}
