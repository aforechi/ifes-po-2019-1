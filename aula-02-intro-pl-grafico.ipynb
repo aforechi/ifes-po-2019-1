{
 "cells": [
  {
   "cell_type": "markdown",
   "id": "5e0a81eb-f8cd-4158-99df-eba30b086297",
   "metadata": {},
   "source": [
    "# Método Gráfico de Solução\n",
    "\n",
    "- Descrever o procedimento gráfico / geométrico para resolver problemas de programação linear com 2 variáveis\n",
    "    - Obter a solução ótima enumerando os pontos extremos\n",
    "    - Obter a solução ótima pelo gradiente da função objetivo\n",
    "- Ilustrar os casos da PL: \n",
    "    - Solução ótima única\n",
    "    - Múltiplas soluções ótimas\n",
    "    - Soluções ilimitadas\n",
    "    - Sem solução (problema inviável)\n"
   ]
  },
  {
   "cell_type": "markdown",
   "id": "3761de74-f508-44ef-a903-e666299e0721",
   "metadata": {},
   "source": [
    "## Exemplo de Mix de produção \n",
    "\n",
    "- Uma empresa fabrica 2 tipos de porta: de madeira e de alumínio. \n",
    "\n",
    "- Cada porta passa por 3 operações: corte, montagem e acabamento. \n",
    "\n",
    "- O tempo gasto em cada uma dessas operações, por cada tipo de porta é conhecido. \n",
    "\n",
    "Determine a produção diária de cada tipo de porta para **maximizar** o lucro da empresa, respeitando as disponibilidades diárias de tempo da máquina que executa cada operação.\n",
    "\n",
    "<img src=\"img/exemplo-mix.png\" width=\"100%\">"
   ]
  },
  {
   "cell_type": "markdown",
   "id": "e45aa724-dc3c-40e0-96cc-8df3e714bf3f",
   "metadata": {},
   "source": [
    "## Modelagem\n",
    "\n",
    "- Variáveis:\n",
    "\n",
    "$x_i$: qtde a ser produzida, onde i = porta de madeira, porta de alumínio \n",
    "\n",
    "- Função objetivo:\n",
    "\n",
    "Maximizar Lucro $\\rightarrow$ Maximizar $Z = 4x_{mad} + 6x_{al} $\n",
    "\n",
    "- Restrições de capacidade produtiva: \n",
    "\n",
    "$1.5 x_{mad} + 4.0 x_{al} \\le 24$   **(corte)**\n",
    "\n",
    "$3.0 x_{mad} + 1.5 x_{al} \\le 21$   **(montagem)**\n",
    "\n",
    "$1.0 x_{mad} + 1.0 x_{al} \\le  8$   **(acabamento)**\n",
    "\n",
    "- Restrições de não-negatividade:\n",
    "\n",
    "$x_{mad}, x_{al} \\ge 0$ "
   ]
  },
  {
   "cell_type": "markdown",
   "id": "294252fc-e9d4-4ab1-9860-be8d487a177c",
   "metadata": {},
   "source": [
    "## Solução Gráfica - Mix de Produção\n",
    "\n",
    "<img src=\"img/sol-grafica-1.png\" width=\"100%\">"
   ]
  },
  {
   "cell_type": "markdown",
   "id": "3486a89d-a946-45d8-a621-9ba4ca38be16",
   "metadata": {},
   "source": [
    "## Solução Gráfica - Mix de Produção\n",
    "\n",
    "<img src=\"img/sol-grafica-2.png\" width=\"100%\">"
   ]
  },
  {
   "cell_type": "markdown",
   "id": "ea2bf17b-abff-47d9-8bad-16a53689c279",
   "metadata": {},
   "source": [
    "## Solução Gráfica - Mix de Produção\n",
    "\n",
    "<img src=\"img/sol-grafica-3.png\" width=\"100%\">"
   ]
  },
  {
   "cell_type": "markdown",
   "id": "9c0882a7-ce6c-4504-a92e-48e97d3b34be",
   "metadata": {},
   "source": [
    "## Solução Gráfica - Mix de Produção\n",
    "\n",
    "<img src=\"img/sol-grafica-4.png\" width=\"100%\">"
   ]
  },
  {
   "cell_type": "markdown",
   "id": "dc155fe4-2949-4095-9f73-34ae5e97f3bb",
   "metadata": {},
   "source": [
    "## Solução Gráfica - Mix de Produção\n",
    "\n",
    "<img src=\"img/sol-grafica-5.png\" width=\"100%\">"
   ]
  },
  {
   "cell_type": "markdown",
   "id": "78f7598d-6064-4006-a293-cb1977def2a2",
   "metadata": {},
   "source": [
    "## Solução Gráfica - Mix de Produção\n",
    "\n",
    "    Polígono CONVEXO \n",
    "\n",
    "<img src=\"img/sol-grafica-6.png\" width=\"100%\">"
   ]
  },
  {
   "cell_type": "markdown",
   "id": "4d5db68b-9bd6-40d2-9ff1-f884a58a3475",
   "metadata": {},
   "source": [
    "## Solução por enumeração dos pontos extremos \n",
    "\n",
    "<img src=\"img/sol-grafica-7.png\" width=\"100%\">"
   ]
  },
  {
   "cell_type": "markdown",
   "id": "9f94b8f9-b042-4990-ac75-be000478c289",
   "metadata": {},
   "source": [
    "## Os pontos extremos correspondem a pares de restrições \n",
    "\n",
    "<img src=\"img/sol-grafica-8.png\" width=\"100%\">"
   ]
  },
  {
   "cell_type": "markdown",
   "id": "9106aa54-c7cb-40fd-84ea-895237b19f7e",
   "metadata": {},
   "source": [
    "## Solução gráfica pelo gradiente da função objetivo \n",
    "\n",
    "<img src=\"img/sol-grafica-9.png\" width=\"100%\">"
   ]
  },
  {
   "cell_type": "markdown",
   "id": "fc264301-f5c9-44fa-8656-82e57982afac",
   "metadata": {},
   "source": [
    "## Solução gráfica pelo gradiente da função objetivo \n",
    "\n",
    "<img src=\"img/sol-grafica-10.png\" width=\"100%\">"
   ]
  },
  {
   "cell_type": "markdown",
   "id": "d640f4dc-64ad-4ddc-9d42-7f6c28588761",
   "metadata": {},
   "source": [
    "## Solução ótima única\n",
    "\n",
    "<img src=\"img/sol-grafica-11.png\" width=\"100%\">"
   ]
  },
  {
   "cell_type": "markdown",
   "id": "51f63aec-6754-433d-a5e8-ad3dbb0d2daf",
   "metadata": {},
   "source": [
    "## Múltiplas soluções ótimas\n",
    "\n",
    "    Isso nem sempre acontece \n",
    "    \n",
    "<img src=\"img/sol-grafica-12.png\" width=\"100%\">"
   ]
  },
  {
   "cell_type": "markdown",
   "id": "3017eef7-4608-4c88-ac32-aa8f1bfc247a",
   "metadata": {},
   "source": [
    "## Soluções ilimitadas \n",
    "\n",
    "<img src=\"img/sol-grafica-13.png\" width=\"100%\">"
   ]
  },
  {
   "cell_type": "markdown",
   "id": "d837f399-fc31-41d5-a2a3-4e22fb12ae73",
   "metadata": {},
   "source": [
    "## Soluções ilimitadas \n",
    "\n",
    "    Geralmente indica erro na modelagem, não existe sistema real “ilimitado”\n",
    "\n",
    "<img src=\"img/sol-grafica-14.png\" width=\"100%\">"
   ]
  },
  {
   "cell_type": "markdown",
   "id": "9d3336b1-4b91-4b3b-802c-0d73c6d6ae75",
   "metadata": {},
   "source": [
    "## Sem solução (Problema inviável)\n",
    "\n",
    "<img src=\"img/sol-grafica-15.png\" width=\"100%\">"
   ]
  },
  {
   "cell_type": "markdown",
   "id": "ce108f83-734a-457f-95b6-e1e5f6163523",
   "metadata": {},
   "source": [
    "## Sem solução (Problema inviável) \n",
    "\n",
    "<img src=\"img/sol-grafica-16.png\" width=\"100%\">"
   ]
  },
  {
   "cell_type": "code",
   "execution_count": null,
   "id": "ca44b967-7f6d-428d-a529-9cce480d345b",
   "metadata": {},
   "outputs": [],
   "source": []
  }
 ],
 "metadata": {
  "kernelspec": {
   "display_name": "C++14",
   "language": "C++14",
   "name": "xcpp14"
  },
  "language_info": {
   "codemirror_mode": "text/x-c++src",
   "file_extension": ".cpp",
   "mimetype": "text/x-c++src",
   "name": "c++",
   "version": "14"
  }
 },
 "nbformat": 4,
 "nbformat_minor": 5
}
